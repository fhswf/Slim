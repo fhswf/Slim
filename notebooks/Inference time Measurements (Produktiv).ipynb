{
 "cells": [
  {
   "cell_type": "markdown",
   "id": "1ae2d401-5489-46dc-88b7-73ad6c6d3bad",
   "metadata": {
    "jp-MarkdownHeadingCollapsed": true,
    "tags": []
   },
   "source": [
    "## Old"
   ]
  },
  {
   "cell_type": "markdown",
   "id": "749fb1ae-5a15-49cf-8cf1-cbcbb59b4bc7",
   "metadata": {},
   "source": [
    "### Importieren der Klassen"
   ]
  },
  {
   "cell_type": "code",
   "execution_count": null,
   "id": "1fb41a6c-b844-4b75-b3b6-40ccaa6fd134",
   "metadata": {
    "tags": []
   },
   "outputs": [],
   "source": [
    "import time\n",
    "import torch\n",
    "import transformers\n",
    "from transformers import AutoTokenizer, AutoModelForCausalLM, BitsAndBytesConfig\n",
    "import bitsandbytes as bnb\n",
    "import accelerate"
   ]
  },
  {
   "cell_type": "markdown",
   "id": "086184b8-7c23-4d03-814e-782bf9bf11b7",
   "metadata": {},
   "source": [
    "### Festlegen des Modells"
   ]
  },
  {
   "cell_type": "code",
   "execution_count": null,
   "id": "bba8932f-6a50-4b70-aa75-8aa20571ff4d",
   "metadata": {
    "tags": []
   },
   "outputs": [],
   "source": [
    "model_id=\"/home/thsch026/masterarbeit/models/generated/llm-awq/Meta-Llama-3-8B-Instruct-HF-AWQ-4bit\""
   ]
  },
  {
   "cell_type": "markdown",
   "id": "c79d4441-2950-4b88-a4ff-39589bbb08d2",
   "metadata": {
    "tags": []
   },
   "source": [
    "### Initialisieren des Modells"
   ]
  },
  {
   "cell_type": "code",
   "execution_count": null,
   "id": "911c81b9-1c3f-494c-a8f4-2d2d6f2b8dd8",
   "metadata": {},
   "outputs": [],
   "source": [
    "\n",
    "tokenizer = AutoTokenizer.from_pretrained(model_id)\n",
    "model_id = \"meta-llama/Meta-Llama-3-8B-Instruct\"\n",
    "quantization_config = BitsAndBytesConfig(load_in_4bit=True, bnb_4bit_compute_dtype=torch.bfloat16)\n",
    "\n",
    "model = AutoModelForCausalLM.from_pretrained(\n",
    "    model_id,\n",
    "    trust_remote_code=True,\n",
    "    quantization_config=quantization_config, #load_in_8bit=True,#\n",
    "    device_map='auto',\n",
    "    token='<EOL>'\n",
    ")\n",
    "#peft_model = \"BojanaBas/Meta-Llama-3-8B-Instruct-pqa-10\"\n",
    "#model = PeftModel.from_pretrained(base_model, peft_model)"
   ]
  },
  {
   "cell_type": "markdown",
   "id": "2af0835d-38d5-4be2-97f3-d32e45bb6510",
   "metadata": {},
   "source": [
    "### Inferenz Test"
   ]
  },
  {
   "cell_type": "markdown",
   "id": "1ab0212d-3b3a-4eb3-879a-6da6f9520374",
   "metadata": {},
   "source": [
    "### Autoawq library is needed to test inference with AWQ Models"
   ]
  },
  {
   "cell_type": "code",
   "execution_count": null,
   "id": "c87aba23-5f11-42ca-b81b-6f924586513d",
   "metadata": {
    "tags": []
   },
   "outputs": [],
   "source": [
    "pip install autoawq"
   ]
  },
  {
   "cell_type": "code",
   "execution_count": null,
   "id": "9015bb47-a9ad-4180-a267-90f9326b1106",
   "metadata": {
    "tags": []
   },
   "outputs": [],
   "source": [
    "# Eingabetext\n",
    "input_text = \"Once upon a time\"\n",
    "#input_text = \"Why should I eat healthy?\"\n",
    "\n",
    "# Tokenisiere den Eingabetext\n",
    "input_ids = tokenizer.encode(input_text, return_tensors='pt')\n",
    "\n",
    "# Messe die Zeit vor der Inferenz\n",
    "start_time = time.time()\n",
    "\n",
    "# Führe die Inferenz durch\n",
    "outputs = model.generate(input_ids, max_length=50)\n",
    "\n",
    "# Messe die Zeit nach der Inferenz\n",
    "end_time = time.time()\n",
    "\n",
    "# Berechne die Inferenz-Zeit\n",
    "inference_time = end_time - start_time\n",
    "\n",
    "# Dekodiere die Ausgabe\n",
    "output_text = tokenizer.decode(outputs[0], skip_special_tokens=True)\n",
    "number_of_words = len(output_text.split())\n",
    "number_of_tokens = len(outputs[0])\n",
    "\n",
    "token_per_second = number_of_tokens/inference_time\n",
    "\n",
    "print(f\"Inferenz-Zeit: {inference_time} Sekunden\")\n",
    "print(f\"Output: {output_text}\")\n",
    "print(\"Tokens per second: \", token_per_second)\n",
    "\n"
   ]
  },
  {
   "cell_type": "code",
   "execution_count": null,
   "id": "16792f78-12ba-48e8-9a19-f1675d48c46f",
   "metadata": {},
   "outputs": [],
   "source": [
    "import csv\n",
    "\n",
    "# Die neuen Daten, die hinzugefügt werden sollen\n",
    "neue_daten = ['Lukas', 28]\n",
    "\n",
    "# Öffne die Datei im Anhangsmodus ('a' steht für append)\n",
    "with open('daten.csv', mode='a', newline='') as file:\n",
    "    writer = csv.writer(file)\n",
    "    \n",
    "    # Schreibe die neuen Daten in die CSV-Datei\n",
    "    writer.writerow(neue_daten)\n",
    "\n",
    "print(\"Neue Daten erfolgreich hinzugefügt.\")"
   ]
  },
  {
   "cell_type": "code",
   "execution_count": null,
   "id": "66e4c0ba-cebb-48bc-84f2-0916b8869830",
   "metadata": {},
   "outputs": [],
   "source": [
    "pip install sentencepiece"
   ]
  },
  {
   "cell_type": "markdown",
   "id": "df63ba6c-7a05-4ad8-9731-c24e1cb9bb01",
   "metadata": {
    "tags": []
   },
   "source": [
    "## Evaluierung Modelle"
   ]
  },
  {
   "cell_type": "markdown",
   "id": "c05cdc7a-fc84-4f70-b419-5071a1a37ff2",
   "metadata": {
    "tags": []
   },
   "source": [
    "### Sentencepiece muss ggf. noch mal installiert werden für Mistral (fast tokenizer)"
   ]
  },
  {
   "cell_type": "code",
   "execution_count": null,
   "id": "23d6026d-5fbb-43c5-b93e-b96dc8eafed9",
   "metadata": {},
   "outputs": [],
   "source": [
    "pip install sentencepiece"
   ]
  },
  {
   "cell_type": "code",
   "execution_count": null,
   "id": "060e047d-42d8-4f91-9a86-3439955f8ccc",
   "metadata": {
    "tags": []
   },
   "outputs": [],
   "source": [
    "!pip3 install transformers optimum\n",
    "!pip3 install auto-gptq --extra-index-url https://huggingface.github.io/autogptq-index/whl/cu117/"
   ]
  },
  {
   "cell_type": "markdown",
   "id": "1e30b253-4a58-4ba9-9a75-f3a553365b89",
   "metadata": {
    "tags": []
   },
   "source": [
    "### Laden der libaries und festlegen der GPU"
   ]
  },
  {
   "cell_type": "code",
   "execution_count": 1,
   "id": "1de386e7-4cb0-4987-9d7e-38fc6ec2bdc9",
   "metadata": {
    "tags": []
   },
   "outputs": [
    {
     "name": "stdout",
     "output_type": "stream",
     "text": [
      "3\n"
     ]
    }
   ],
   "source": [
    "import os\n",
    "\n",
    "os.environ[\"PYTORCH_CUDA_ALLOC_CONF\"] = \"max_split_size_mb:256\"\n",
    "os.environ[\"CUDA_VISIBLE_DEVICES\"] = \"3\"\n",
    "!echo $CUDA_VISIBLE_DEVICES\n",
    "# torch.cuda.set_device(1)"
   ]
  },
  {
   "cell_type": "code",
   "execution_count": 2,
   "id": "e57cfb40-2d1c-4f5f-adc0-9134f7f08c46",
   "metadata": {
    "tags": []
   },
   "outputs": [],
   "source": [
    "import time\n",
    "import torch\n",
    "import transformers\n",
    "from transformers import AutoTokenizer, AutoModelForCausalLM, BitsAndBytesConfig \n",
    "import bitsandbytes as bnb\n",
    "import accelerate\n",
    "import csv\n",
    "import packaging\n",
    "from awq import AutoAWQForCausalLM"
   ]
  },
  {
   "cell_type": "markdown",
   "id": "ad42e67d-5f77-419a-bed4-7cb0f1f2cb11",
   "metadata": {},
   "source": [
    "### Ergebnis Dateien"
   ]
  },
  {
   "cell_type": "code",
   "execution_count": 3,
   "id": "993981e1-1528-4ea8-b4ef-cca2461b922e",
   "metadata": {
    "tags": []
   },
   "outputs": [],
   "source": [
    "full_csv= \"/home/thsch026/masterarbeit/Slim/results/inference/inference_full.csv\"\n",
    "data_csv= \"/home/thsch026/masterarbeit/Slim/results/inference/inference_data_only.csv\""
   ]
  },
  {
   "cell_type": "markdown",
   "id": "a740d057-2c5f-48fb-89ab-b69dbb4eabd9",
   "metadata": {
    "tags": []
   },
   "source": [
    "##  1. Referenz Modelle"
   ]
  },
  {
   "cell_type": "markdown",
   "id": "e4ab7136-9c90-40d2-b7c0-495b09e3edbc",
   "metadata": {
    "tags": []
   },
   "source": [
    "### Llama-3-8B-Instruct"
   ]
  },
  {
   "cell_type": "code",
   "execution_count": null,
   "id": "edba68fd-af1a-4718-8701-aeb759c15015",
   "metadata": {
    "tags": []
   },
   "outputs": [],
   "source": [
    "model_id =\"Meta-Llama-3-8B-Instruct\"\n",
    "model_loc = \"meta-llama/Meta-Llama-3-8B-Instruct\""
   ]
  },
  {
   "cell_type": "markdown",
   "id": "f09dbea4-d24c-43b4-b174-1ce3a9e9bcd4",
   "metadata": {
    "jp-MarkdownHeadingCollapsed": true,
    "tags": []
   },
   "source": [
    "### Mistral-7B-Instruct-v0.2"
   ]
  },
  {
   "cell_type": "code",
   "execution_count": null,
   "id": "c612ad07-641b-4ec5-8575-ed42951820a4",
   "metadata": {
    "tags": []
   },
   "outputs": [],
   "source": [
    "model_id = \"Mistral-7B-Instruct-v0.2\"\n",
    "model_loc = \"mistralai/Mistral-7B-Instruct-v0.2\""
   ]
  },
  {
   "cell_type": "markdown",
   "id": "debccc23-2cd3-4695-a303-29c46813b7fa",
   "metadata": {
    "jp-MarkdownHeadingCollapsed": true,
    "tags": []
   },
   "source": [
    "### Llama-2-7b-chat-hf"
   ]
  },
  {
   "cell_type": "code",
   "execution_count": null,
   "id": "65143c68-c364-42bb-97f9-1eb2a4e59c0a",
   "metadata": {
    "tags": []
   },
   "outputs": [],
   "source": [
    "model_id = \"Llama-2-7b-chat-hf\"\n",
    "model_loc = \"meta-llama/Llama-2-7b-chat-hf\""
   ]
  },
  {
   "cell_type": "markdown",
   "id": "591f1d89-5918-4afe-93b4-c89a43de1070",
   "metadata": {
    "jp-MarkdownHeadingCollapsed": true,
    "tags": []
   },
   "source": [
    "## 2. AWQ Modelle"
   ]
  },
  {
   "cell_type": "markdown",
   "id": "fec0a0f1-2798-4c82-940d-ded98e46a78d",
   "metadata": {
    "jp-MarkdownHeadingCollapsed": true,
    "tags": []
   },
   "source": [
    "### Llama-3-8B-Instruct-HF-AWQ-4bit"
   ]
  },
  {
   "cell_type": "code",
   "execution_count": null,
   "id": "427a6178-f8f0-4c2c-8404-2858df0f78b3",
   "metadata": {
    "tags": []
   },
   "outputs": [],
   "source": [
    "model_path = \"/home/thsch026/masterarbeit/models/generated/llm-awq/\"\n",
    "model_id = \"Meta-Llama-3-8B-Instruct-HF-AWQ-4bit\"\n",
    "model_loc = model_path + model_id"
   ]
  },
  {
   "cell_type": "markdown",
   "id": "3eb61b69-ec27-4e61-81c5-dc39db441407",
   "metadata": {
    "tags": []
   },
   "source": [
    "### Mistral-7B-Instruct-v0.2-AWQ-4bit"
   ]
  },
  {
   "cell_type": "code",
   "execution_count": null,
   "id": "1f4644b0-0c07-4525-a262-5e5092965137",
   "metadata": {
    "tags": []
   },
   "outputs": [],
   "source": [
    "model_path = \"/home/thsch026/masterarbeit/models/generated/llm-awq/\"\n",
    "model_id = \"Mistral-7B-Instruct-v0.2-AWQ-4bit\"\n",
    "model_loc = model_path + model_id"
   ]
  },
  {
   "cell_type": "markdown",
   "id": "ff33ab1a-31f6-46fb-8f6e-1d735517611e",
   "metadata": {
    "jp-MarkdownHeadingCollapsed": true,
    "tags": []
   },
   "source": [
    "### Llama-2-7b-chat-HF-AWQ-4bit"
   ]
  },
  {
   "cell_type": "code",
   "execution_count": null,
   "id": "26a08e90-bbc7-41ac-aa94-8b49c873df1b",
   "metadata": {
    "tags": []
   },
   "outputs": [],
   "source": [
    "model_path = \"/home/thsch026/masterarbeit/models/generated/llm-awq/\"\n",
    "model_id = \"Llama-2-7b-chat-HF-AWQ-4bit\"\n",
    "model_loc = model_path + model_id"
   ]
  },
  {
   "cell_type": "code",
   "execution_count": null,
   "id": "6d59293b-6efa-4cc7-8959-01c8b6078248",
   "metadata": {
    "tags": []
   },
   "outputs": [],
   "source": [
    "model_path = \"/home/thsch026/masterarbeit/models/generated/awq/quant/\"\n",
    "model_id = \"Meta-Llama-3-8B-Instruct-HF-w8-g128-awq-v2.pt\"\n",
    "model_loc = model_path + model_id"
   ]
  },
  {
   "cell_type": "markdown",
   "id": "54021899-6689-45cb-b6c8-6805645bc3a1",
   "metadata": {
    "tags": []
   },
   "source": [
    "## 3. Pruned Models (shortened-LLM)"
   ]
  },
  {
   "cell_type": "markdown",
   "id": "2048b853-dfc4-4a59-909b-5bb9f98f0898",
   "metadata": {
    "jp-MarkdownHeadingCollapsed": true,
    "tags": []
   },
   "source": [
    "### Meta-Llama-3-8B"
   ]
  },
  {
   "cell_type": "code",
   "execution_count": null,
   "id": "9a82db0d-4996-4b89-834b-4dc8cdf40b8d",
   "metadata": {
    "tags": []
   },
   "outputs": [],
   "source": [
    "model_loc = \"/home/thsch026/masterarbeit/models/generated/prune/shortened-llm/Meta-Llama-3-8B\"\n",
    "model_id = \"Meta-Llama-3-8B_pruned_llm-shortened\""
   ]
  },
  {
   "cell_type": "markdown",
   "id": "6483eb73-5af8-4942-9685-650ce9558326",
   "metadata": {
    "jp-MarkdownHeadingCollapsed": true,
    "tags": []
   },
   "source": [
    "### Llama-2-7b-hf (schlechtes Ergebnis)"
   ]
  },
  {
   "cell_type": "code",
   "execution_count": null,
   "id": "83a41d8b-92f9-4fec-aaa8-4af2a3c2c98c",
   "metadata": {
    "tags": []
   },
   "outputs": [],
   "source": [
    "model_loc = \"/home/thsch026/masterarbeit/models/generated/prune/shortened-llm/Llama-2-7b-hf\"\n",
    "model_id = \"Llama-2-7b-hf_pruned_llm-shortened\""
   ]
  },
  {
   "cell_type": "markdown",
   "id": "80eb2f74-9dce-46ca-a352-131d286967e5",
   "metadata": {
    "jp-MarkdownHeadingCollapsed": true,
    "tags": []
   },
   "source": [
    "### Mistral-7B-Instruct"
   ]
  },
  {
   "cell_type": "code",
   "execution_count": null,
   "id": "d6d29fad-5f12-4fdf-8e89-d72802527710",
   "metadata": {
    "tags": []
   },
   "outputs": [],
   "source": [
    "model_loc = \"/home/thsch026/masterarbeit/models/generated/prune/shortened-llm/Mistral-7B-Instruct\"\n",
    "model_id = \"Mistral-7B-Instruct_pruned_llm-shortened\""
   ]
  },
  {
   "cell_type": "markdown",
   "id": "5ad3ccb3-1cac-441e-9c7d-a27b4118ed6c",
   "metadata": {
    "jp-MarkdownHeadingCollapsed": true,
    "tags": []
   },
   "source": [
    "## 4. Lora Models"
   ]
  },
  {
   "cell_type": "markdown",
   "id": "936a2b36-d74a-41b6-a118-b2a333d2be68",
   "metadata": {},
   "source": [
    "#### Meta-Llama-3-8B_ms-marco (Kein gutes Ergebnis)"
   ]
  },
  {
   "cell_type": "code",
   "execution_count": null,
   "id": "750851c6-986b-4b03-a782-b86025d109b0",
   "metadata": {
    "tags": []
   },
   "outputs": [],
   "source": [
    "model_loc = \"/home/thsch026/masterarbeit/models/generated/lora/Meta-Llama-3-8B_ms-marco/model\"\n",
    "model_id = \"Meta-Llama-3-8B_ms-marco\""
   ]
  },
  {
   "cell_type": "code",
   "execution_count": null,
   "id": "b6fe523b-5400-4c5e-acab-9de3491c0158",
   "metadata": {},
   "outputs": [],
   "source": []
  },
  {
   "cell_type": "code",
   "execution_count": null,
   "id": "3c77e3aa-d61e-42c7-971c-c7bf04f9e226",
   "metadata": {},
   "outputs": [],
   "source": []
  },
  {
   "cell_type": "markdown",
   "id": "52234743-5342-4575-bc8f-a3a5648bbe8e",
   "metadata": {
    "jp-MarkdownHeadingCollapsed": true,
    "tags": []
   },
   "source": [
    "##  5. Qlora Models"
   ]
  },
  {
   "cell_type": "markdown",
   "id": "2d295691-3815-4d68-9756-8f21b57cffa0",
   "metadata": {
    "jp-MarkdownHeadingCollapsed": true,
    "tags": []
   },
   "source": [
    "### Meta-Llama-3-8B-Instruct_qlora"
   ]
  },
  {
   "cell_type": "code",
   "execution_count": null,
   "id": "3f09e204-2574-4e1d-9525-397c68f6c59b",
   "metadata": {
    "tags": []
   },
   "outputs": [],
   "source": [
    "model_loc = \"/home/thsch026/masterarbeit/models/generated/qlora/Meta-Llama-3-8B-Instruct_qlora\"\n",
    "model_id = \"Meta-Llama-3-8B-Instruct_qlora\""
   ]
  },
  {
   "cell_type": "markdown",
   "id": "3b86211c-58c4-451a-8aad-9fd2e87b8b1b",
   "metadata": {
    "jp-MarkdownHeadingCollapsed": true,
    "tags": []
   },
   "source": [
    "### Mistral-7B-Instruct-v0.2_qlora"
   ]
  },
  {
   "cell_type": "code",
   "execution_count": null,
   "id": "ff3456e0-8a11-4747-923b-d45efaf21e57",
   "metadata": {
    "tags": []
   },
   "outputs": [],
   "source": [
    "model_loc = \"/home/thsch026/masterarbeit/models/generated/qlora/Mistral-7B-Instruct-v0.2_qlora\"\n",
    "model_id = \"Mistral-7B-Instruct-v0.2_qlora\""
   ]
  },
  {
   "cell_type": "markdown",
   "id": "3995301f-a7ab-4cc2-be5a-3fe8b73a21b1",
   "metadata": {
    "tags": []
   },
   "source": [
    "### llama-2-7b-chat_qlora (Fehlt noch)"
   ]
  },
  {
   "cell_type": "code",
   "execution_count": null,
   "id": "aa741a7d-1ce7-40f5-85a1-8ac046fd7261",
   "metadata": {
    "tags": []
   },
   "outputs": [],
   "source": [
    "model_loc = \"/home/thsch026/masterarbeit/models/generated/qlora/llama-2-7b-chat_qlora\"\n",
    "model_id = \"llama-2-7b-chat_qlora\""
   ]
  },
  {
   "cell_type": "markdown",
   "id": "e79403c4-5b32-45c7-9d4a-9202960d19fc",
   "metadata": {
    "jp-MarkdownHeadingCollapsed": true,
    "tags": []
   },
   "source": [
    "## 6. Prune + Lora Models (shortened-LLM)"
   ]
  },
  {
   "cell_type": "markdown",
   "id": "ec746b6d-13dd-4076-a963-850e24e41d77",
   "metadata": {},
   "source": [
    "#### Meta-Llama-3-8B"
   ]
  },
  {
   "cell_type": "code",
   "execution_count": null,
   "id": "ee28e905-cdd4-438e-afd1-4057ef8e6f2a",
   "metadata": {
    "tags": []
   },
   "outputs": [],
   "source": [
    "model_loc = \"/home/thsch026/masterarbeit/models/generated/prune_plus_lora/shortened-llm/Meta-Llama-3-8B_prune_lora\"\n",
    "model_id = \"Meta-Llama-3-8B_prune_lora\""
   ]
  },
  {
   "cell_type": "markdown",
   "id": "e41b5d54-b7ce-4d02-bc31-fff91f571229",
   "metadata": {},
   "source": [
    "#### Llama-2-7b-hf_prune_lora"
   ]
  },
  {
   "cell_type": "code",
   "execution_count": null,
   "id": "358a1bc1-c349-471d-9619-a7f990a79d51",
   "metadata": {
    "tags": []
   },
   "outputs": [],
   "source": [
    "model_loc = \"/home/thsch026/masterarbeit/models/generated/prune_plus_lora/shortened-llm/Llama-2-7b-hf_prune_lora\"\n",
    "model_id = \"Llama-2-7b-hf_prune_lora\""
   ]
  },
  {
   "cell_type": "markdown",
   "id": "3e9a8491-d334-4f15-ab58-80f9a3a8b6f1",
   "metadata": {},
   "source": [
    "#### Mistral-7B-Instruct_prune_lora"
   ]
  },
  {
   "cell_type": "code",
   "execution_count": null,
   "id": "91e863a6-a0c2-484d-9bcf-a6e08f1a1834",
   "metadata": {
    "tags": []
   },
   "outputs": [],
   "source": [
    "model_loc = \"/home/thsch026/masterarbeit/models/generated/prune_plus_lora/shortened-llm/Mistral-7B-Instruct_prune_lora\"\n",
    "model_id = \"Mistral-7B-Instruct_prune_lora\""
   ]
  },
  {
   "cell_type": "markdown",
   "id": "c06aa4a7-700d-4fe2-a6e1-caf5412620d8",
   "metadata": {},
   "source": [
    "## 7. Prune + Lora + AWQ Models"
   ]
  },
  {
   "cell_type": "markdown",
   "id": "e1b106f3-b689-4f66-959d-741cbd80c7d1",
   "metadata": {
    "jp-MarkdownHeadingCollapsed": true,
    "tags": []
   },
   "source": [
    "#### Mistral-7B-Instruct_prune_lora_awq"
   ]
  },
  {
   "cell_type": "code",
   "execution_count": null,
   "id": "db0f508c-f8c3-45b5-90bd-d2ebd89d9458",
   "metadata": {
    "tags": []
   },
   "outputs": [],
   "source": [
    "model_loc = \"/home/thsch026/masterarbeit/models/generated/prune_plus_lora_plus_awq/Mistral-7B-Instruct-v02_prune_lora_awq\"\n",
    "model_id = \"Mistral-7B-Instruct_prune_lora_awq\""
   ]
  },
  {
   "cell_type": "markdown",
   "id": "a1295e2a-ddc3-4876-9440-86dbfd0efa3c",
   "metadata": {
    "tags": []
   },
   "source": [
    "#### Meta-Llama-3-8B_prune_lora_awq"
   ]
  },
  {
   "cell_type": "code",
   "execution_count": null,
   "id": "efa35d37-8c34-48aa-a957-8df37b280c4b",
   "metadata": {
    "tags": []
   },
   "outputs": [],
   "source": [
    "model_loc = \"/home/thsch026/masterarbeit/models/generated/prune_plus_lora_plus_awq/Meta-Llama-3-8B_prune_lora_awq\"\n",
    "model_id =\"Meta-Llama-3-8B_prune_lora_awq\""
   ]
  },
  {
   "cell_type": "markdown",
   "id": "7a0e5d84-707f-40e0-ad48-c030230a8bf1",
   "metadata": {
    "jp-MarkdownHeadingCollapsed": true,
    "tags": []
   },
   "source": [
    "#### Llama-2-7b-chat-hf_prune_lora_awq"
   ]
  },
  {
   "cell_type": "code",
   "execution_count": null,
   "id": "19aea15c-da65-41c6-96e6-fff44cddc23c",
   "metadata": {
    "tags": []
   },
   "outputs": [],
   "source": [
    "model_loc = \"/home/thsch026/masterarbeit/models/generated/prune_plus_lora_plus_awq/Llama-2-7b-chat-hf_prune_lora_awq\"\n",
    "model_id =\"Llama-2-7b-chat-hf_prune_lora_awq\""
   ]
  },
  {
   "cell_type": "markdown",
   "id": "430fede0-c533-44e4-98f2-a18558ec82f7",
   "metadata": {
    "tags": []
   },
   "source": [
    "#### Llama-3-8B-Instruct-prune-lora-gptq"
   ]
  },
  {
   "cell_type": "code",
   "execution_count": 4,
   "id": "088c031e-71f2-4635-bae9-5a08eacc094b",
   "metadata": {
    "tags": []
   },
   "outputs": [],
   "source": [
    "model_loc = \"/home/thsch026/masterarbeit/models/generated/prune_lora_gptq/Llama_3_8B_Instruct-prune-lora-gptq\"\n",
    "model_id = \"Llama-3-8B-Instruct-prune-lora-gptq\""
   ]
  },
  {
   "cell_type": "markdown",
   "id": "46418667-8aa4-4a9e-a2c5-9bf8a8adc04f",
   "metadata": {},
   "source": [
    "## Inference Task"
   ]
  },
  {
   "cell_type": "markdown",
   "id": "e09340b3-5eca-4527-9b13-8c10a8ef9899",
   "metadata": {
    "tags": []
   },
   "source": [
    "### Laden des Modells"
   ]
  },
  {
   "cell_type": "code",
   "execution_count": 5,
   "id": "08332cb9-b9ed-45c8-a7fe-6d5374421209",
   "metadata": {},
   "outputs": [
    {
     "name": "stderr",
     "output_type": "stream",
     "text": [
      "Special tokens have been added in the vocabulary, make sure the associated word embeddings are fine-tuned or trained.\n",
      "CUDA extension not installed.\n",
      "CUDA extension not installed.\n",
      "/home/thsch026/my-envs/inference/lib/python3.10/site-packages/transformers/modeling_utils.py:4371: FutureWarning: `_is_quantized_training_enabled` is going to be deprecated in transformers 4.39.0. Please use `model.hf_quantizer.is_trainable` instead\n",
      "  warnings.warn(\n",
      "The cos_cached attribute will be removed in 4.39. Bear in mind that its contents changed in v4.38. Use the forward method of RoPE from now on instead. It is not used in the `LlamaAttention` class\n",
      "The sin_cached attribute will be removed in 4.39. Bear in mind that its contents changed in v4.38. Use the forward method of RoPE from now on instead. It is not used in the `LlamaAttention` class\n",
      "Some weights of the model checkpoint at /home/thsch026/masterarbeit/models/generated/prune_lora_gptq/Llama_3_8B_Instruct-prune-lora-gptq were not used when initializing LlamaForCausalLM: ['model.layers.0.mlp.down_proj.bias', 'model.layers.0.mlp.gate_proj.bias', 'model.layers.0.mlp.up_proj.bias', 'model.layers.0.self_attn.k_proj.bias', 'model.layers.0.self_attn.o_proj.bias', 'model.layers.0.self_attn.q_proj.bias', 'model.layers.0.self_attn.v_proj.bias', 'model.layers.1.mlp.down_proj.bias', 'model.layers.1.mlp.gate_proj.bias', 'model.layers.1.mlp.up_proj.bias', 'model.layers.1.self_attn.k_proj.bias', 'model.layers.1.self_attn.o_proj.bias', 'model.layers.1.self_attn.q_proj.bias', 'model.layers.1.self_attn.v_proj.bias', 'model.layers.10.mlp.down_proj.bias', 'model.layers.10.mlp.gate_proj.bias', 'model.layers.10.mlp.up_proj.bias', 'model.layers.10.self_attn.k_proj.bias', 'model.layers.10.self_attn.o_proj.bias', 'model.layers.10.self_attn.q_proj.bias', 'model.layers.10.self_attn.v_proj.bias', 'model.layers.11.mlp.down_proj.bias', 'model.layers.11.mlp.gate_proj.bias', 'model.layers.11.mlp.up_proj.bias', 'model.layers.11.self_attn.k_proj.bias', 'model.layers.11.self_attn.o_proj.bias', 'model.layers.11.self_attn.q_proj.bias', 'model.layers.11.self_attn.v_proj.bias', 'model.layers.12.mlp.down_proj.bias', 'model.layers.12.mlp.gate_proj.bias', 'model.layers.12.mlp.up_proj.bias', 'model.layers.12.self_attn.k_proj.bias', 'model.layers.12.self_attn.o_proj.bias', 'model.layers.12.self_attn.q_proj.bias', 'model.layers.12.self_attn.v_proj.bias', 'model.layers.13.mlp.down_proj.bias', 'model.layers.13.mlp.gate_proj.bias', 'model.layers.13.mlp.up_proj.bias', 'model.layers.13.self_attn.k_proj.bias', 'model.layers.13.self_attn.o_proj.bias', 'model.layers.13.self_attn.q_proj.bias', 'model.layers.13.self_attn.v_proj.bias', 'model.layers.14.mlp.down_proj.bias', 'model.layers.14.mlp.gate_proj.bias', 'model.layers.14.mlp.up_proj.bias', 'model.layers.14.self_attn.k_proj.bias', 'model.layers.14.self_attn.o_proj.bias', 'model.layers.14.self_attn.q_proj.bias', 'model.layers.14.self_attn.v_proj.bias', 'model.layers.15.mlp.down_proj.bias', 'model.layers.15.mlp.gate_proj.bias', 'model.layers.15.mlp.up_proj.bias', 'model.layers.15.self_attn.k_proj.bias', 'model.layers.15.self_attn.o_proj.bias', 'model.layers.15.self_attn.q_proj.bias', 'model.layers.15.self_attn.v_proj.bias', 'model.layers.16.mlp.down_proj.bias', 'model.layers.16.mlp.gate_proj.bias', 'model.layers.16.mlp.up_proj.bias', 'model.layers.16.self_attn.k_proj.bias', 'model.layers.16.self_attn.o_proj.bias', 'model.layers.16.self_attn.q_proj.bias', 'model.layers.16.self_attn.v_proj.bias', 'model.layers.17.mlp.down_proj.bias', 'model.layers.17.mlp.gate_proj.bias', 'model.layers.17.mlp.up_proj.bias', 'model.layers.17.self_attn.k_proj.bias', 'model.layers.17.self_attn.o_proj.bias', 'model.layers.17.self_attn.q_proj.bias', 'model.layers.17.self_attn.v_proj.bias', 'model.layers.18.mlp.down_proj.bias', 'model.layers.18.mlp.gate_proj.bias', 'model.layers.18.mlp.up_proj.bias', 'model.layers.18.self_attn.k_proj.bias', 'model.layers.18.self_attn.o_proj.bias', 'model.layers.18.self_attn.q_proj.bias', 'model.layers.18.self_attn.v_proj.bias', 'model.layers.19.mlp.down_proj.bias', 'model.layers.19.mlp.gate_proj.bias', 'model.layers.19.mlp.up_proj.bias', 'model.layers.19.self_attn.k_proj.bias', 'model.layers.19.self_attn.o_proj.bias', 'model.layers.19.self_attn.q_proj.bias', 'model.layers.19.self_attn.v_proj.bias', 'model.layers.2.mlp.down_proj.bias', 'model.layers.2.mlp.gate_proj.bias', 'model.layers.2.mlp.up_proj.bias', 'model.layers.2.self_attn.k_proj.bias', 'model.layers.2.self_attn.o_proj.bias', 'model.layers.2.self_attn.q_proj.bias', 'model.layers.2.self_attn.v_proj.bias', 'model.layers.20.mlp.down_proj.bias', 'model.layers.20.mlp.gate_proj.bias', 'model.layers.20.mlp.up_proj.bias', 'model.layers.20.self_attn.k_proj.bias', 'model.layers.20.self_attn.o_proj.bias', 'model.layers.20.self_attn.q_proj.bias', 'model.layers.20.self_attn.v_proj.bias', 'model.layers.21.mlp.down_proj.bias', 'model.layers.21.mlp.gate_proj.bias', 'model.layers.21.mlp.up_proj.bias', 'model.layers.21.self_attn.k_proj.bias', 'model.layers.21.self_attn.o_proj.bias', 'model.layers.21.self_attn.q_proj.bias', 'model.layers.21.self_attn.v_proj.bias', 'model.layers.22.mlp.down_proj.bias', 'model.layers.22.mlp.gate_proj.bias', 'model.layers.22.mlp.up_proj.bias', 'model.layers.22.self_attn.k_proj.bias', 'model.layers.22.self_attn.o_proj.bias', 'model.layers.22.self_attn.q_proj.bias', 'model.layers.22.self_attn.v_proj.bias', 'model.layers.23.mlp.down_proj.bias', 'model.layers.23.mlp.gate_proj.bias', 'model.layers.23.mlp.up_proj.bias', 'model.layers.23.self_attn.k_proj.bias', 'model.layers.23.self_attn.o_proj.bias', 'model.layers.23.self_attn.q_proj.bias', 'model.layers.23.self_attn.v_proj.bias', 'model.layers.24.mlp.down_proj.bias', 'model.layers.24.mlp.gate_proj.bias', 'model.layers.24.mlp.up_proj.bias', 'model.layers.24.self_attn.k_proj.bias', 'model.layers.24.self_attn.o_proj.bias', 'model.layers.24.self_attn.q_proj.bias', 'model.layers.24.self_attn.v_proj.bias', 'model.layers.25.mlp.down_proj.bias', 'model.layers.25.mlp.gate_proj.bias', 'model.layers.25.mlp.up_proj.bias', 'model.layers.25.self_attn.k_proj.bias', 'model.layers.25.self_attn.o_proj.bias', 'model.layers.25.self_attn.q_proj.bias', 'model.layers.25.self_attn.v_proj.bias', 'model.layers.3.mlp.down_proj.bias', 'model.layers.3.mlp.gate_proj.bias', 'model.layers.3.mlp.up_proj.bias', 'model.layers.3.self_attn.k_proj.bias', 'model.layers.3.self_attn.o_proj.bias', 'model.layers.3.self_attn.q_proj.bias', 'model.layers.3.self_attn.v_proj.bias', 'model.layers.4.mlp.down_proj.bias', 'model.layers.4.mlp.gate_proj.bias', 'model.layers.4.mlp.up_proj.bias', 'model.layers.4.self_attn.k_proj.bias', 'model.layers.4.self_attn.o_proj.bias', 'model.layers.4.self_attn.q_proj.bias', 'model.layers.4.self_attn.v_proj.bias', 'model.layers.5.mlp.down_proj.bias', 'model.layers.5.mlp.gate_proj.bias', 'model.layers.5.mlp.up_proj.bias', 'model.layers.5.self_attn.k_proj.bias', 'model.layers.5.self_attn.o_proj.bias', 'model.layers.5.self_attn.q_proj.bias', 'model.layers.5.self_attn.v_proj.bias', 'model.layers.6.mlp.down_proj.bias', 'model.layers.6.mlp.gate_proj.bias', 'model.layers.6.mlp.up_proj.bias', 'model.layers.6.self_attn.k_proj.bias', 'model.layers.6.self_attn.o_proj.bias', 'model.layers.6.self_attn.q_proj.bias', 'model.layers.6.self_attn.v_proj.bias', 'model.layers.7.mlp.down_proj.bias', 'model.layers.7.mlp.gate_proj.bias', 'model.layers.7.mlp.up_proj.bias', 'model.layers.7.self_attn.k_proj.bias', 'model.layers.7.self_attn.o_proj.bias', 'model.layers.7.self_attn.q_proj.bias', 'model.layers.7.self_attn.v_proj.bias', 'model.layers.8.mlp.down_proj.bias', 'model.layers.8.mlp.gate_proj.bias', 'model.layers.8.mlp.up_proj.bias', 'model.layers.8.self_attn.k_proj.bias', 'model.layers.8.self_attn.o_proj.bias', 'model.layers.8.self_attn.q_proj.bias', 'model.layers.8.self_attn.v_proj.bias', 'model.layers.9.mlp.down_proj.bias', 'model.layers.9.mlp.gate_proj.bias', 'model.layers.9.mlp.up_proj.bias', 'model.layers.9.self_attn.k_proj.bias', 'model.layers.9.self_attn.o_proj.bias', 'model.layers.9.self_attn.q_proj.bias', 'model.layers.9.self_attn.v_proj.bias']\n",
      "- This IS expected if you are initializing LlamaForCausalLM from the checkpoint of a model trained on another task or with another architecture (e.g. initializing a BertForSequenceClassification model from a BertForPreTraining model).\n",
      "- This IS NOT expected if you are initializing LlamaForCausalLM from the checkpoint of a model that you expect to be exactly identical (initializing a BertForSequenceClassification model from a BertForSequenceClassification model).\n"
     ]
    }
   ],
   "source": [
    "\n",
    "tokenizer = AutoTokenizer.from_pretrained(model_loc)\n",
    "\n",
    "quantization_config = BitsAndBytesConfig()\n",
    "#quantization_config = BitsAndBytesConfig(bnb_4bit_compute_dtype=torch.bfloat16)\n",
    "\n",
    "model = AutoModelForCausalLM.from_pretrained(\n",
    "    model_loc,\n",
    "    trust_remote_code=True,\n",
    "    torch_dtype=torch.float16,\n",
    "    #quantization_config=quantization_config,\n",
    "    device_map='cuda'\n",
    ")\n",
    "   #safetensors=True,\n",
    "    #load_in_4bit=True,\n",
    "    # Bei AWQ Modellen keine quantization config angeben"
   ]
  },
  {
   "cell_type": "markdown",
   "id": "8916e74f-6f9d-4b6d-9175-71814a323512",
   "metadata": {},
   "source": [
    "### Interferenz mit Ergebnis Speicherung"
   ]
  },
  {
   "cell_type": "code",
   "execution_count": null,
   "id": "66a892fb-0ff4-4c67-9f1f-bdc13713a1b9",
   "metadata": {
    "tags": []
   },
   "outputs": [
    {
     "name": "stderr",
     "output_type": "stream",
     "text": [
      "The attention mask and the pad token id were not set. As a consequence, you may observe unexpected behavior. Please pass your input's `attention_mask` to obtain reliable results.\n",
      "Setting `pad_token_id` to `eos_token_id`:2 for open-end generation.\n",
      "The attention mask and the pad token id were not set. As a consequence, you may observe unexpected behavior. Please pass your input's `attention_mask` to obtain reliable results.\n",
      "Setting `pad_token_id` to `eos_token_id`:2 for open-end generation.\n"
     ]
    },
    {
     "name": "stdout",
     "output_type": "stream",
     "text": [
      "['Llama-3-8B-Instruct-prune-lora-gptq', 3.146203466066055, 63.56867957115173, 9.51, 'Once upon a time', 'Once upon a time, in a land far, far away, there was a little girl named Alice. She lived in a small village with her parents and her brother, Jack. Alice was a very curious girl, always asking questions and wanting to learn new things.\\n\\nOne day, while walking through the forest with her brother, Alice came across a strange-looking rabbit. The rabbit was wearing a watch and seemed to be in a hurry.\\n\\n“Oh no!” exclaimed the rabbit. “I’m going to be late for the tea party!”\\n\\nAlice was confused. “But it’s only noon,” she said.\\n\\n“That’s what I said,” replied the rabbit. “But the tea party starts at 4 o’clock, and I’m already an hour late!”\\n\\nAlice had never heard of a tea party that started at 4 o’clock in the afternoon. She decided to follow']\n"
     ]
    },
    {
     "name": "stderr",
     "output_type": "stream",
     "text": [
      "The attention mask and the pad token id were not set. As a consequence, you may observe unexpected behavior. Please pass your input's `attention_mask` to obtain reliable results.\n",
      "Setting `pad_token_id` to `eos_token_id`:2 for open-end generation.\n"
     ]
    },
    {
     "name": "stdout",
     "output_type": "stream",
     "text": [
      "['Llama-3-8B-Instruct-prune-lora-gptq', 4.782308919530669, 41.82080316543579, 9.51, 'Why should I eat healthy?', 'Why should I eat healthy?\\n\\nEating healthy is important for your overall health and well-being. A healthy diet can help you maintain a healthy weight, reduce your risk of chronic diseases, and improve your mood.\\n\\nWhat are some tips for eating healthy?\\n\\n1. Eat plenty of fruits and vegetables.\\n2. Choose whole grains over processed grains.\\n3. Include lean protein sources in your diet.\\n4. Limit your intake of saturated and trans fats.\\n5. Eat healthy fats, such as those found in nuts and avocados.\\n6. Drink water instead of sugary beverages.\\n7. Limit your intake of added sugars and salt.\\n8. Get enough calcium and vitamin D.\\n9. Eat foods rich in antioxidants.\\n10. Avoid processed foods.\\n\\nWhat are some common myths']\n"
     ]
    }
   ],
   "source": [
    "# Funktion für das Speichern der Werte\n",
    "\n",
    "def append_data(result):\n",
    "    \n",
    "    with open(full_csv, mode='a', newline='') as file:\n",
    "        full_writer = csv.writer(file)\n",
    "        full_writer.writerow(result)\n",
    "        \n",
    "    with open(data_csv, mode='a', newline='') as file:\n",
    "        data_writer = csv.writer(file)\n",
    "        data_writer.writerow(result[0:4])\n",
    "\n",
    "                \n",
    "device = 'cuda'\n",
    "\n",
    "question_list = [\"Once upon a time\", \"Why should I eat healthy?\", \"Is there a second life after death?\", \"What is the most common injury?\",\"Who is Konrad Zuse?\"]\n",
    "\n",
    "for question in question_list:\n",
    "    prompt = f'''You are an helpful assistant. USER: {question} ASSISTANT:'''\n",
    "    input_ids = tokenizer.encode(question, return_tensors='pt')\n",
    "    # Änderung dr Zeile weil es Probleme mit der Ausführung gab (cuda/cpu anomalie)\n",
    "    input_ids = tokenizer(question, return_tensors=\"pt\").input_ids.to(device)\n",
    "    input_ids.to('cuda')\n",
    "    start_time = time.time()\n",
    "\n",
    "    # Führe die Inferenz durch\n",
    "    outputs = model.generate(input_ids, max_length=200)\n",
    "\n",
    "    # Messe die Zeit nach der Inferenz\n",
    "    end_time = time.time()\n",
    "\n",
    "    # Berechne die Inferenz-Zeit\n",
    "    inference_time = end_time - start_time\n",
    "\n",
    "    # Dekodiere die Ausgabe\n",
    "    output_text = tokenizer.decode(outputs[0], skip_special_tokens=True)\n",
    "    \n",
    "    # Berchnung des Ergebnis\n",
    "    #number_of_words = len(output_text.split())\n",
    "    number_of_tokens = len(outputs[0])\n",
    "    memory_usage = round((torch.cuda.memory_allocated() / (1024 **3)),2)\n",
    "    token_per_second = number_of_tokens/inference_time\n",
    "    result = [model_id,token_per_second, inference_time, memory_usage, question, output_text]\n",
    "    print(result)\n",
    "    append_data(result)\n",
    "              \n",
    "    \n",
    "                                                                \n",
    "    \n",
    "\n",
    "    \n",
    "    "
   ]
  },
  {
   "cell_type": "markdown",
   "id": "529f63a6-bc00-4650-b1f4-f93722e6c5e4",
   "metadata": {
    "jp-MarkdownHeadingCollapsed": true,
    "tags": []
   },
   "source": [
    "### Beispiel von HF für AWQ Models"
   ]
  },
  {
   "cell_type": "code",
   "execution_count": null,
   "id": "8a0e7e1e-8df8-4f83-8b19-efe34caedd64",
   "metadata": {
    "tags": []
   },
   "outputs": [],
   "source": [
    "from awq import AutoAWQForCausalLM\n",
    "from transformers import AutoTokenizer\n",
    "\n",
    "model_name_or_path = model_loc\n",
    "\n",
    "# Load model\n",
    "model = AutoAWQForCausalLM.from_quantized(model_name_or_path, fuse_layers=True,\n",
    "                                          trust_remote_code=True, safetensors=True)\n",
    "tokenizer = AutoTokenizer.from_pretrained(model_name_or_path, trust_remote_code=True)\n",
    "\n",
    "prompt = \"Tell me about AI\"\n",
    "prompt_template=f'''{prompt}\n",
    "\n",
    "'''\n",
    "\n",
    "print(\"\\n\\n*** Generate:\")\n",
    "\n",
    "tokens = tokenizer(\n",
    "    prompt_template,\n",
    "    return_tensors='pt'\n",
    ").input_ids.cuda()\n",
    "\n",
    "# Generate output\n",
    "generation_output = model.generate(\n",
    "    tokens,\n",
    "    do_sample=True,\n",
    "    temperature=0.7,\n",
    "    top_p=0.95,\n",
    "    top_k=40,\n",
    "    max_new_tokens=512\n",
    ")\n",
    "\n",
    "print(\"Output: \", tokenizer.decode(generation_output[0]))\n"
   ]
  },
  {
   "cell_type": "code",
   "execution_count": null,
   "id": "e6bee7fd-3a94-40a4-90c9-a5b2b8426754",
   "metadata": {
    "tags": []
   },
   "outputs": [],
   "source": [
    "from transformers import AutoModelForCausalLM, AutoTokenizer, pipeline\n",
    "\n",
    "model_name_or_path = \"TheBloke/em_german_mistral_v01-GPTQ\"\n",
    "# To use a different branch, change revision\n",
    "# For example: revision=\"gptq-4bit-32g-actorder_True\"\n",
    "model = AutoModelForCausalLM.from_pretrained(model_name_or_path,\n",
    "                                             device_map=\"auto\",\n",
    "                                             trust_remote_code=False,\n",
    "                                             revision=\"main\")\n",
    "\n",
    "tokenizer = AutoTokenizer.from_pretrained(model_name_or_path, use_fast=True)\n",
    "\n",
    "prompt = \"Warum soll ich gesund essen?\"\n",
    "prompt_template=f'''Du bist ein hilfreicher Assistent. USER: {prompt} ASSISTANT:\n",
    "'''\n",
    "\n",
    "print(\"\\n\\n*** Generate:\")\n",
    "\n",
    "input_ids = tokenizer(prompt_template, return_tensors='pt').input_ids.cuda()\n",
    "output = model.generate(inputs=input_ids, temperature=0.7, do_sample=True, top_p=0.95, top_k=40, max_new_tokens=512)\n",
    "print(tokenizer.decode(output[0]))\n"
   ]
  },
  {
   "cell_type": "code",
   "execution_count": 7,
   "id": "7ffa84fe-1000-4060-a497-83f7d7fa5719",
   "metadata": {},
   "outputs": [],
   "source": [
    "del model # Specify variable\n",
    "torch.cuda.empty_cache()"
   ]
  },
  {
   "cell_type": "code",
   "execution_count": null,
   "id": "8bc1e67b-bd73-4be8-8985-bc7be12de04b",
   "metadata": {},
   "outputs": [],
   "source": []
  }
 ],
 "metadata": {
  "kernelspec": {
   "display_name": "inference",
   "language": "python",
   "name": "inference"
  },
  "language_info": {
   "codemirror_mode": {
    "name": "ipython",
    "version": 3
   },
   "file_extension": ".py",
   "mimetype": "text/x-python",
   "name": "python",
   "nbconvert_exporter": "python",
   "pygments_lexer": "ipython3",
   "version": "3.10.0"
  }
 },
 "nbformat": 4,
 "nbformat_minor": 5
}
