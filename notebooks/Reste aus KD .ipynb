{
 "cells": [
  {
   "cell_type": "code",
   "execution_count": null,
   "id": "4926c278-e4a1-403d-ac85-058309bc83bf",
   "metadata": {},
   "outputs": [],
   "source": []
  },
  {
   "cell_type": "code",
   "execution_count": 5,
   "id": "a647acde-45e3-462a-9499-2699c6a5d425",
   "metadata": {
    "tags": []
   },
   "outputs": [
    {
     "ename": "NameError",
     "evalue": "name 'dataset' is not defined",
     "output_type": "error",
     "traceback": [
      "\u001b[0;31m---------------------------------------------------------------------------\u001b[0m",
      "\u001b[0;31mNameError\u001b[0m                                 Traceback (most recent call last)",
      "Cell \u001b[0;32mIn[5], line 4\u001b[0m\n\u001b[1;32m      1\u001b[0m \u001b[38;5;28;01mfrom\u001b[39;00m \u001b[38;5;21;01mdatasets\u001b[39;00m \u001b[38;5;28;01mimport\u001b[39;00m load_dataset, ClassLabel\n\u001b[1;32m      2\u001b[0m \u001b[38;5;66;03m#dataset = load_dataset(\"boolq\")\u001b[39;00m\n\u001b[0;32m----> 4\u001b[0m dataset \u001b[38;5;241m=\u001b[39m \u001b[43mdataset\u001b[49m\u001b[38;5;241m.\u001b[39mrename_column(\u001b[38;5;124m\"\u001b[39m\u001b[38;5;124manswer\u001b[39m\u001b[38;5;124m\"\u001b[39m,\u001b[38;5;124m\"\u001b[39m\u001b[38;5;124mlabels\u001b[39m\u001b[38;5;124m\"\u001b[39m)\n\u001b[1;32m      6\u001b[0m dataset \u001b[38;5;241m=\u001b[39m dataset\u001b[38;5;241m.\u001b[39mcast_column(\u001b[38;5;124m'\u001b[39m\u001b[38;5;124mlabels\u001b[39m\u001b[38;5;124m'\u001b[39m, ClassLabel(names\u001b[38;5;241m=\u001b[39m[\u001b[38;5;124m\"\u001b[39m\u001b[38;5;124mFalse\u001b[39m\u001b[38;5;124m\"\u001b[39m, \u001b[38;5;124m\"\u001b[39m\u001b[38;5;124mTrue\u001b[39m\u001b[38;5;124m\"\u001b[39m]))\n\u001b[1;32m      8\u001b[0m \u001b[38;5;28mprint\u001b[39m(dataset)\n",
      "\u001b[0;31mNameError\u001b[0m: name 'dataset' is not defined"
     ]
    }
   ],
   "source": [
    "from datasets import load_dataset, ClassLabel\n",
    "#dataset = load_dataset(\"boolq\")\n",
    "\n",
    "dataset = dataset.rename_column(\"answer\",\"labels\")\n",
    "\n",
    "dataset = dataset.cast_column('labels', ClassLabel(names=[\"False\", \"True\"]))\n",
    "\n",
    "print(dataset)"
   ]
  },
  {
   "cell_type": "markdown",
   "id": "f3ca6be8-cdcb-43d7-9d16-1e0af91ff4fa",
   "metadata": {
    "tags": []
   },
   "source": [
    "### MS_Marco"
   ]
  },
  {
   "cell_type": "code",
   "execution_count": 6,
   "id": "a502eab2-be42-48da-8f4c-65e7afd7fe82",
   "metadata": {
    "tags": []
   },
   "outputs": [],
   "source": [
    "from datasets import load_dataset\n",
    "# Loading\n",
    "dataset = load_dataset('ms_marco','v1.1') # General dataset\n",
    "\n",
    "# Funktion zum Hinzufügen des Labels\n",
    "def add_label(example):\n",
    "    example['label'] = 1\n",
    "    return example\n",
    "\n",
    "# Hinzufügen der Label-Spalte zum Trainingsdatensatz\n",
    "dataset = dataset.map(add_label)\n",
    "\n",
    "#dataset = dataset['train']\n",
    "#ms_marco_data = ms_marco_data['train']\n",
    "#dataset.rename_column('answers','labels')\n",
    "#print(\"dataset\", ms_marco_data)"
   ]
  },
  {
   "cell_type": "code",
   "execution_count": null,
   "id": "dbfb3de9-8845-4f0e-9bfb-cbf054309c73",
   "metadata": {
    "tags": []
   },
   "outputs": [],
   "source": []
  },
  {
   "cell_type": "code",
   "execution_count": 7,
   "id": "36600172-f912-4690-9172-35eb113133fa",
   "metadata": {
    "tags": []
   },
   "outputs": [],
   "source": [
    "# Definition der Preprocess Funktion\n",
    "def preprocess_function(examples):\n",
    "    return teacher_tokenizer(examples[\"query\"], truncation=True, padding=\"max_length\", max_length=512)\n",
    "    #return teacher_tokenizer(examples[\"text\"])"
   ]
  },
  {
   "cell_type": "code",
   "execution_count": null,
   "id": "4a8757ec-f131-42e7-85de-0bf3f2960db2",
   "metadata": {
    "tags": []
   },
   "outputs": [],
   "source": [
    "# Erstellen des Train Datasets\n",
    "#dataset = dataset.rename_column('answers','labels')\n",
    "train_dataset = dataset[\"train\"].map(preprocess_function, batched=True)\n",
    "#eval_dataset = dataset[\"test\"].map(preprocess_function, batched=True)\n",
    "#eval_dataset = dataset[\"test\"].map(batched=True)\n",
    "\n",
    "#train_dataset = train_dataset.remove_columns(['passages', 'query', 'query_id', 'query_type', 'wellFormedAnswers'])\n",
    "#eval_dataset = eval_dataset.remove_columns([\"text\"])\n",
    "\n",
    "\n",
    "# Zeige Beispiele\n",
    "print(\"\\nBeispiel Train Dataset:\\n\")\n",
    "print(train_dataset[1])\n",
    "#print(\"\\nBeispiel Eval Dataset:\\n\")\n",
    "#print(eval_dataset[1])"
   ]
  }
 ],
 "metadata": {
  "kernelspec": {
   "display_name": "kdein",
   "language": "python",
   "name": "kdein"
  },
  "language_info": {
   "codemirror_mode": {
    "name": "ipython",
    "version": 3
   },
   "file_extension": ".py",
   "mimetype": "text/x-python",
   "name": "python",
   "nbconvert_exporter": "python",
   "pygments_lexer": "ipython3",
   "version": "3.10.0"
  }
 },
 "nbformat": 4,
 "nbformat_minor": 5
}
