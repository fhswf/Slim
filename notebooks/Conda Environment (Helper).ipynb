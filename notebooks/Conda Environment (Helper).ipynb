{
 "cells": [
  {
   "cell_type": "markdown",
   "id": "6a539544-848e-4af1-9bde-6956b3636b6f",
   "metadata": {
    "tags": []
   },
   "source": [
    "# Allgemeine Conda Befehle"
   ]
  },
  {
   "cell_type": "markdown",
   "id": "823e6d9c-53c1-473f-b609-3376d4d4ea0f",
   "metadata": {},
   "source": [
    "## Legt ein Conda Environment an "
   ]
  },
  {
   "cell_type": "code",
   "execution_count": null,
   "id": "61e99cdd-d09c-43fe-b1a8-5ab56a702784",
   "metadata": {},
   "outputs": [],
   "source": [
    "conda create --name <environment> python==<version>"
   ]
  },
  {
   "cell_type": "markdown",
   "id": "89ab00a6-8277-478f-89d4-ec156902e00d",
   "metadata": {
    "tags": []
   },
   "source": [
    "## Aktiviert/Deaktiviert ein environment"
   ]
  },
  {
   "cell_type": "code",
   "execution_count": null,
   "id": "9dbfdfa5-6e90-495d-b1d2-69473ac004b5",
   "metadata": {},
   "outputs": [],
   "source": [
    "condo activate <environment>\n",
    "conda deactivate"
   ]
  },
  {
   "cell_type": "markdown",
   "id": "34a84069-f19c-4fa2-80d5-207172dcdd67",
   "metadata": {},
   "source": [
    "## Zeigt alle conda Environments an"
   ]
  },
  {
   "cell_type": "code",
   "execution_count": null,
   "id": "df08c411-5ebd-402e-9e7b-f1a460d6f9b6",
   "metadata": {},
   "outputs": [],
   "source": [
    "conda env list"
   ]
  },
  {
   "cell_type": "markdown",
   "id": "a68d7a55-ba8f-4282-964b-6e0101327ff4",
   "metadata": {},
   "source": [
    "## Zeigt alle Pakete im aktiven Environment an"
   ]
  },
  {
   "cell_type": "code",
   "execution_count": null,
   "id": "c970378f-7d3a-45e4-b762-4d3600ae4ec9",
   "metadata": {},
   "outputs": [],
   "source": [
    "conda list"
   ]
  },
  {
   "cell_type": "markdown",
   "id": "7434ffdb-fd48-482f-a030-7fe46c583511",
   "metadata": {},
   "source": [
    "## Aktivierung eines Environments"
   ]
  },
  {
   "cell_type": "code",
   "execution_count": null,
   "id": "df2e80c7-e541-4eb5-90b6-a93fb260ff8a",
   "metadata": {},
   "outputs": [],
   "source": [
    "conda activate <environment>"
   ]
  },
  {
   "cell_type": "markdown",
   "id": "de269dbc-2c59-42e2-ba82-fce59e531165",
   "metadata": {},
   "source": [
    "## Löscht ein komplettes Environment"
   ]
  },
  {
   "cell_type": "code",
   "execution_count": null,
   "id": "c38ba72a-ed26-41c6-9d64-191fa34f12a5",
   "metadata": {},
   "outputs": [],
   "source": [
    "conda remove --name <environment> --all"
   ]
  },
  {
   "cell_type": "markdown",
   "id": "1d106fac-af9b-4b70-9937-d1d96dc3e0ec",
   "metadata": {},
   "source": [
    "## Conda Environment in jupyter hinzufügen"
   ]
  },
  {
   "cell_type": "code",
   "execution_count": null,
   "id": "7412c93f-c423-4bb7-874a-18795cd77be5",
   "metadata": {},
   "outputs": [],
   "source": [
    "pip install --user ipykernel"
   ]
  },
  {
   "cell_type": "code",
   "execution_count": null,
   "id": "bf2b3a39-86b8-42fe-aff1-41b933aa5d0b",
   "metadata": {},
   "outputs": [],
   "source": [
    "python -m ipykernel install --user --name=<environment>"
   ]
  },
  {
   "cell_type": "markdown",
   "id": "69fb00a9-721b-4ced-a7a8-35058f1147b7",
   "metadata": {},
   "source": [
    "### Kernel Environement in Jupyter löschen"
   ]
  },
  {
   "cell_type": "code",
   "execution_count": null,
   "id": "b884a5fa-c126-4d84-83d8-9a06163497af",
   "metadata": {},
   "outputs": [],
   "source": [
    "jupyter kernelspec list # Zeigt an\n",
    "jupyter kernelspec remove <name> # löscht de Kernel"
   ]
  },
  {
   "cell_type": "markdown",
   "id": "edf5abd2-21ff-4ff2-882c-c68f223063e2",
   "metadata": {
    "tags": []
   },
   "source": [
    "# Environments für Masterarbeit\n",
    "\n",
    "### -> Die Anlage der Environments muss aus der Bash Shell erfolgen"
   ]
  },
  {
   "cell_type": "markdown",
   "id": "198459bb-aeba-437c-ab00-e0c419f256c5",
   "metadata": {},
   "source": [
    "## Anlegen eines environments für Knowledge Destillation (kd)"
   ]
  },
  {
   "cell_type": "code",
   "execution_count": null,
   "id": "ced9208e-cd5c-46eb-9a8d-d2d8a4e10f3f",
   "metadata": {},
   "outputs": [],
   "source": [
    "# Interaktive shell\n",
    "bash\n",
    "\n",
    "# Anlegen und aktivieren des Environments (hier mit dem Namen \"kd\")\n",
    "conda create --name kd python=3.9\n",
    "conda activate kd\n",
    "\n",
    "# Das sorgt dafür, das man das Environment in Jupyter auswählen kann\n",
    "pip install --user ipykernel\n",
    "python -m ipykernel install --user --name=kd\n",
    "\n",
    "# Installieren der notwendigen Pakete\n",
    "pip install torch==2.0 # Für Cuda Kompatibilität\n",
    "pip install accelerate\n",
    "pip install transformers\n",
    "pip install datasets\n",
    "pip install scikit_learn\n",
    "pip install ipywidgets\n",
    "#pip install torch==2.0.1 accelerate transformers datasets scikit_learn ipywidgets\n",
    "\n",
    "# Sicherheitshalber noch mal reaktivieren\n",
    "conda deactivate\n",
    "conda activate kd\n"
   ]
  },
  {
   "cell_type": "markdown",
   "id": "85a5b201-1b38-4968-9134-4bf8324ed21a",
   "metadata": {
    "tags": []
   },
   "source": [
    "## Environment für Quantization (AWQ)"
   ]
  },
  {
   "cell_type": "code",
   "execution_count": null,
   "id": "66d57063-aa8f-4e68-b56a-4289ae928d8d",
   "metadata": {},
   "outputs": [],
   "source": [
    "# Interaktive shell\n",
    "bash\n",
    "\n",
    "# Anlegen und aktivieren des Environments (hier mit dem Namen \"kd\")\n",
    "conda create --name awq python=3.10\n",
    "conda activate awq\n",
    "\n",
    "# Das sorgt dafür, das man das Environment in Jupyter auswählen kann\n",
    "pip install --user ipykernel\n",
    "python -m ipykernel install --user --name=awq\n",
    "\n",
    "# Installieren der notwendigen Pakete\n",
    "pip install autoawq\n",
    "pip install nvidia-ml-py3\n",
    "pip install numpy==1.26.4\n",
    "pip install sentencepiece\n",
    "pip install torch==2.0.1 # Für Cuda Kompatibilität\n",
    "pip install protobuf\n",
    "\n",
    "#pip install accelerate\n",
    "#pip install transformers\n",
    "#pip install datatsets\n",
    "#pip install scikit_learn\n",
    "pip install ipywidgets\n",
    "\n",
    "# Sicherheitshalber noch mal reaktivieren\n",
    "conda deactivate\n",
    "conda activate awq"
   ]
  },
  {
   "cell_type": "markdown",
   "id": "8ce8d7e9-28bc-45a8-8933-d6204c626412",
   "metadata": {},
   "source": [
    "## Envrionment für Pruning (LLM-Pruner)"
   ]
  },
  {
   "cell_type": "code",
   "execution_count": null,
   "id": "016f7ffd-49b8-43d8-b287-1b3cd895d540",
   "metadata": {},
   "outputs": [],
   "source": [
    "conda create --name prune python=3.10\n",
    "conda activate prune\n",
    "pip install torch==2.0.0 torchvision==0.15.1 torchaudio==2.0.1\n",
    "pip install platformdirs ipywidgets\n",
    "\n",
    "python -m ipykernel install --user --name=prune\n",
    "\n"
   ]
  },
  {
   "cell_type": "markdown",
   "id": "799d5110-e4d2-4a0f-b6ad-cba991b51e58",
   "metadata": {
    "tags": []
   },
   "source": [
    "# Allgemeine Prozeduren"
   ]
  },
  {
   "cell_type": "markdown",
   "id": "9b48218e-9bcd-401c-b426-30285eddb033",
   "metadata": {},
   "source": [
    "## Cuda"
   ]
  },
  {
   "cell_type": "code",
   "execution_count": null,
   "id": "3b22bee9-e735-4bb1-ab16-519dcc5eac29",
   "metadata": {},
   "outputs": [],
   "source": [
    "import os\n",
    "\n",
    "os.environ[\"PYTORCH_CUDA_ALLOC_CONF\"] = \"max_split_size_mb:256\"\n",
    "os.environ[\"CUDA_VISIBLE_DEVICES\"] = \"2,3\"\n",
    "!echo $CUDA_VISIBLE_DEVICES"
   ]
  },
  {
   "cell_type": "code",
   "execution_count": null,
   "id": "7efc28eb-ccd2-45cf-8c7b-95c718824349",
   "metadata": {},
   "outputs": [],
   "source": [
    "# Set CUDA devices. Does not work...\n",
    "!export CUDA_VISIBLE_DEVICES=0,1,2,3"
   ]
  },
  {
   "cell_type": "code",
   "execution_count": null,
   "id": "ae35501c-a2e5-4945-a263-67844fa7fbce",
   "metadata": {},
   "outputs": [],
   "source": [
    "# Clean Memory\n",
    "del trainer # Specify variable\n",
    "torch.cuda.empty_cache()\n"
   ]
  },
  {
   "cell_type": "code",
   "execution_count": null,
   "id": "4f69d853-b7f3-4a04-9b0d-255318f63079",
   "metadata": {},
   "outputs": [],
   "source": [
    "# Gründlichere Methode zur Memory Reinigung\n",
    "a.detach()\n",
    "del a\n",
    "gc.collect()\n",
    "torch.cuda.empty_cache()"
   ]
  },
  {
   "cell_type": "code",
   "execution_count": null,
   "id": "573d70b6-3323-4c60-ab99-5f7ea877842e",
   "metadata": {},
   "outputs": [],
   "source": [
    "# Ermittelt den Speicherplatz für ein Modell\n",
    "model.get_memory_footprint() \n",
    "print(f\"Memory footprint: {model.get_memory_footprint() / 1e6:.2f} MB\")"
   ]
  },
  {
   "cell_type": "code",
   "execution_count": null,
   "id": "2fa6daec-dd90-4c7a-ada2-3be144d4b2e9",
   "metadata": {},
   "outputs": [],
   "source": [
    "!export CUDA_VISIBLE_DEVICES=0,1,2,3\n",
    "!export PYTORCH_CUDA_ALLOC_CONF=\"max_split_size_mb:512\""
   ]
  }
 ],
 "metadata": {
  "kernelspec": {
   "display_name": "Bash",
   "language": "bash",
   "name": "bash"
  },
  "language_info": {
   "codemirror_mode": "shell",
   "file_extension": ".sh",
   "mimetype": "text/x-sh",
   "name": "bash"
  }
 },
 "nbformat": 4,
 "nbformat_minor": 5
}
