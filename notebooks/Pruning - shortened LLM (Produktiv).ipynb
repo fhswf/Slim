{
 "cells": [
  {
   "cell_type": "markdown",
   "id": "aa213e74-c2b9-4c46-ade4-d9af870a5e1d",
   "metadata": {},
   "source": [
    "# Pruning with shortened-llm\n",
    "\n",
    "We perform one-shot pruning by removing unimportant Transformer blocks in LLMs. Compared to recent baselines, our depth pruning achieves faster inference while yielding comparable or superior performance.\n",
    "In retraining pruned models for quality recovery, continued pretraining (CPT) on a large corpus markedly outperforms LoRA-based tuning, particularly at severe pruning ratios.\n",
    "\n",
    "Source: https://github.com/Nota-NetsPresso/shortened-llm"
   ]
  },
  {
   "cell_type": "markdown",
   "id": "53f97712-49d8-4805-ad2f-20f5e9fdb9e0",
   "metadata": {},
   "source": [
    "## Procedure for model compression\n",
    "The procedure runs better form a terminal window. So please copy the cells below and use it in a terminal"
   ]
  },
  {
   "cell_type": "code",
   "execution_count": 2,
   "id": "13c5dee5-a889-42ea-8a27-e22f17728cfa",
   "metadata": {
    "tags": []
   },
   "outputs": [
    {
     "name": "stdout",
     "output_type": "stream",
     "text": [
      "(/home/thsch026/my-envs/shortened-llm) \n"
     ]
    }
   ],
   "source": [
    "conda activate shortened-llm"
   ]
  },
  {
   "cell_type": "code",
   "execution_count": null,
   "id": "96c5f6d3-a67b-42ea-8cbc-018de04b20be",
   "metadata": {},
   "outputs": [],
   "source": [
    "cd /home/thsch026/masterarbeit/experiment/shortened-llm"
   ]
  },
  {
   "cell_type": "markdown",
   "id": "a92d61d4-e132-4189-9214-efce3b0981e4",
   "metadata": {},
   "source": [
    "### Choose the model you want to tune\n",
    "- There are a lot of scripts for models in the script directory. The ones that are used here were edited so that it works in this environment"
   ]
  },
  {
   "cell_type": "markdown",
   "id": "8acd132d-bbd3-4a12-ab2b-cbcc0a76aba8",
   "metadata": {},
   "source": [
    "#### Llama3-8b-instruct"
   ]
  },
  {
   "cell_type": "code",
   "execution_count": null,
   "id": "c22e4f20-277f-44af-9c54-355700baee2c",
   "metadata": {},
   "outputs": [],
   "source": [
    "script/prune_llama3-8b-instruct_crit-taylor.sh"
   ]
  },
  {
   "cell_type": "markdown",
   "id": "fef42753-fe80-4ee4-ab7c-72d49905e0e6",
   "metadata": {},
   "source": [
    "#### Llama3-8b"
   ]
  },
  {
   "cell_type": "code",
   "execution_count": null,
   "id": "765e3374-b8ab-4443-acbd-3f8e7a5ae2b7",
   "metadata": {},
   "outputs": [],
   "source": [
    "script/prune_llama3-8b_crit-taylor.sh"
   ]
  },
  {
   "cell_type": "code",
   "execution_count": null,
   "id": "631388d2-08a2-499c-a4e5-62801e73126a",
   "metadata": {},
   "outputs": [],
   "source": []
  }
 ],
 "metadata": {
  "kernelspec": {
   "display_name": "Bash",
   "language": "bash",
   "name": "bash"
  },
  "language_info": {
   "codemirror_mode": "shell",
   "file_extension": ".sh",
   "mimetype": "text/x-sh",
   "name": "bash"
  }
 },
 "nbformat": 4,
 "nbformat_minor": 5
}
