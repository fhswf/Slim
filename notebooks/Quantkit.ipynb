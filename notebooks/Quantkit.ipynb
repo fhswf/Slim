{
 "cells": [
  {
   "cell_type": "markdown",
   "id": "6f5528d9-4014-4ffe-b80b-a8306e79a4d3",
   "metadata": {},
   "source": [
    "## Quantization made easy"
   ]
  },
  {
   "cell_type": "code",
   "execution_count": 1,
   "id": "aa7bb48c-67fb-486e-bf6c-42d02d56a478",
   "metadata": {
    "tags": []
   },
   "outputs": [
    {
     "name": "stdout",
     "output_type": "stream",
     "text": [
      "(/home/thsch026/my-envs/quantkit) \n"
     ]
    }
   ],
   "source": [
    "conda activate quantkit"
   ]
  },
  {
   "cell_type": "code",
   "execution_count": 13,
   "id": "8e2a062d-8e71-4e62-970c-f448f632ab61",
   "metadata": {
    "tags": []
   },
   "outputs": [
    {
     "name": "stdout",
     "output_type": "stream",
     "text": [
      "(/home/thsch026/my-envs/quantkit) \n"
     ]
    }
   ],
   "source": [
    "exp; cd quantkit"
   ]
  },
  {
   "cell_type": "code",
   "execution_count": 14,
   "id": "eb8f2988-ddff-4253-a5b2-8ace63ac9761",
   "metadata": {
    "tags": []
   },
   "outputs": [
    {
     "name": "stdout",
     "output_type": "stream",
     "text": [
      "/home/thsch026/masterarbeit/experiment/quantkit\n",
      "(/home/thsch026/my-envs/quantkit) \n"
     ]
    }
   ],
   "source": [
    "pwd"
   ]
  },
  {
   "cell_type": "code",
   "execution_count": 3,
   "id": "af769cc6-9685-4e04-95a7-d9075b10462e",
   "metadata": {
    "tags": []
   },
   "outputs": [
    {
     "name": "stdout",
     "output_type": "stream",
     "text": [
      "(/home/thsch026/my-envs/quantkit) \n",
      "(/home/thsch026/my-envs/quantkit) \n"
     ]
    }
   ],
   "source": [
    "export IN_MODEL=\"/home/thsch026/masterarbeit/models/generated/prune_plus_lora/shortened-llm/Meta-Llama-3-8B-instruct_prune_lora\"\n",
    "export OUT_MODEL=\"/home/thsch026/masterarbeit/models/generated/prune_lora_gguf/Meta-Llama-3-8B-instruct_prune_lora_gguf\""
   ]
  },
  {
   "cell_type": "code",
   "execution_count": 16,
   "id": "6609328d-2ec4-4ed7-9f53-c713b622118b",
   "metadata": {
    "tags": []
   },
   "outputs": [
    {
     "name": "stdout",
     "output_type": "stream",
     "text": [
      "Usage: quantkit [OPTIONS] COMMAND [ARGS]...\n",
      "Try 'quantkit --help' for help.\n",
      "\n",
      "Error: No such command 'ggml'.\n",
      "(/home/thsch026/my-envs/quantkit) \n"
     ]
    },
    {
     "ename": "",
     "evalue": "2",
     "output_type": "error",
     "traceback": []
    }
   ],
   "source": [
    "quantkit  $IN_MODEL -out $OUT_MODEL "
   ]
  },
  {
   "cell_type": "code",
   "execution_count": 11,
   "id": "5c9f101c-c265-4ba3-95a5-1b2f2dac630e",
   "metadata": {
    "tags": []
   },
   "outputs": [
    {
     "name": "stdout",
     "output_type": "stream",
     "text": [
      "(/home/thsch026/my-envs/quantkit) \n"
     ]
    }
   ],
   "source": [
    "cd /home/thsch026/masterarbeit/models/generated/prune_lora_gguf/Meta-Llama-3-8B-instruct_prune_lora_gguf"
   ]
  },
  {
   "cell_type": "code",
   "execution_count": 12,
   "id": "bfbe092a-7bc9-4f65-9bc9-456d09294022",
   "metadata": {
    "tags": []
   },
   "outputs": [
    {
     "name": "stdout",
     "output_type": "stream",
     "text": [
      "/home/thsch026/masterarbeit/models/generated/prune_lora_gguf/Meta-Llama-3-8B-instruct_prune_lora_gguf\n",
      "(/home/thsch026/my-envs/quantkit) \n"
     ]
    }
   ],
   "source": [
    "pwd"
   ]
  },
  {
   "cell_type": "code",
   "execution_count": null,
   "id": "9e9d23e5-2f68-4920-8687-a059b0a1a2e4",
   "metadata": {},
   "outputs": [],
   "source": []
  }
 ],
 "metadata": {
  "kernelspec": {
   "display_name": "Bash",
   "language": "bash",
   "name": "bash"
  },
  "language_info": {
   "codemirror_mode": "shell",
   "file_extension": ".sh",
   "mimetype": "text/x-sh",
   "name": "bash"
  }
 },
 "nbformat": 4,
 "nbformat_minor": 5
}
