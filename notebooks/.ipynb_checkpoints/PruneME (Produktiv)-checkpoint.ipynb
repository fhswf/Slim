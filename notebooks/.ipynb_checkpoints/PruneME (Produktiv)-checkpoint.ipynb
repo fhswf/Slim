{
 "cells": [
  {
   "cell_type": "markdown",
   "id": "bcfdd528-799e-4eb5-bdf2-43466f3d11aa",
   "metadata": {},
   "source": [
    "# PruneMe\n",
    "- Repo: https://github.com/arcee-ai/PruneMe\n",
    "- Paper to cite: \n",
    "    @misc{gromov2024unreasonable,\n",
    "      title={The Unreasonable Ineffectiveness of the Deeper Layers}, \n",
    "      author={Andrey Gromov and Kushal Tirumala and Hassan Shapourian and Paolo Glorioso and Daniel A. Roberts},\n",
    "      year={2024},\n",
    "      eprint={2403.17887},\n",
    "      archivePrefix={arXiv},\n",
    "      primaryClass={cs.CL}\n",
    "    }"
   ]
  },
  {
   "cell_type": "markdown",
   "id": "622b49f6-5f79-4371-bae2-152c0326c5c6",
   "metadata": {
    "jp-MarkdownHeadingCollapsed": true,
    "tags": []
   },
   "source": [
    "## Vorbereitungen"
   ]
  },
  {
   "cell_type": "markdown",
   "id": "5acbc7db-3709-4209-98ea-a65a3aed383d",
   "metadata": {},
   "source": [
    "- Repository PruneMe kopieren (git clone https://github.com/arcee-ai/PruneMe)\n",
    "- Repository Mergekit kopieren (git clone https://github.com/arcee-ai/mergekit)\n",
    "- Installation wie auf den Repos beschrieben durchführen (pip install -e .)"
   ]
  },
  {
   "cell_type": "code",
   "execution_count": 7,
   "id": "1815b336-3c17-45e0-98cf-adb90934e8f1",
   "metadata": {
    "tags": []
   },
   "outputs": [],
   "source": [
    "!export MODEL=\"/home/thsch026/masterarbeit/models/llama3/Meta-Llama-3-8B-Instruct-HF\""
   ]
  },
  {
   "cell_type": "markdown",
   "id": "a7110ec1-75d8-4e0d-8f25-52081fa24cbb",
   "metadata": {},
   "source": [
    "## Workflow PruneMe \n",
    "> ### Analyse des Ursprungs Modells \n",
    "> - Wechsel  in das Verzeichnis compute_block_similarity:\n",
    "> - Ausführen des Tasks layer_similarity generiert eine CSV Datei welche im selben Verzeichnis abgelegt wird\n",
    "> - Aus dieser Datei sucht man die Layer mit den geringsten Unterschied als Basis für den Merge Task heraus\n",
    "\n",
    "> ### Erstellen des neuen  \"Pruned\" Modells\n",
    "> - Wechsel in das Verzeichnis slice_with_mergekit\n",
    "> - editieren der Datei slice.yaml mit den entsprechenden layern und modellnamen (siehe Beispiel unten)\n",
    "> - ausführen von merge_me.py\n",
    "> - das neue Modell wird im Verzeichnis \"merged\" abgelegt\n",
    "\n"
   ]
  },
  {
   "cell_type": "markdown",
   "id": "09757171-2850-45a6-9d55-fe8179166ae3",
   "metadata": {},
   "source": [
    "### Beipiel für den Inhalt von slice.yaml"
   ]
  },
  {
   "cell_type": "code",
   "execution_count": null,
   "id": "73ef5677-b610-45a2-9897-bbcc8599e06f",
   "metadata": {},
   "outputs": [],
   "source": [
    "slices:\n",
    "  - sources:\n",
    "      - model: /home/thsch026/masterarbeit/models/llama3/Meta-Llama-3-8B-Instruct-HF\n",
    "        layer_range: [0, 22]\n",
    "  - sources:\n",
    "      - model: /home/thsch026/masterarbeit/models/llama3/Meta-Llama-3-8B-Instruct-HF\n",
    "        layer_range: [30,32]\n",
    "            \n",
    "merge_method: passthrough\n",
    "dtype: bfloat16"
   ]
  },
  {
   "cell_type": "markdown",
   "id": "2a558439-39cf-4265-8775-667ee19cf624",
   "metadata": {
    "tags": []
   },
   "source": [
    "### Ausführen des Analyse Tasks"
   ]
  },
  {
   "cell_type": "code",
   "execution_count": null,
   "id": "6ca1a101-5ca8-40c2-8242-3148a36dad42",
   "metadata": {
    "tags": []
   },
   "outputs": [],
   "source": [
    "import os\n",
    "os.chdir('/home/thsch026/masterarbeit/experiment/PruneMe/compute_block_similarity')\n",
    "!python layer_similarity.py --model_path $MODEL \\\n",
    "                      --dataset \"arcee-ai/sec-data-mini\" \\\n",
    "                      --dataset_column \"text\" \\\n",
    "                      --batch_size 8 \\\n",
    "                      --max_length 1024 \\\n",
    "                      --layers_to_skip 8 \\\n",
    "                      --dataset_size 4000 \\\n",
    "                      --dataset_subset \"train\" "
   ]
  },
  {
   "cell_type": "code",
   "execution_count": null,
   "id": "8e6d8c2a-9e58-4dc7-897a-4bc167f2fab1",
   "metadata": {},
   "outputs": [],
   "source": [
    "!python layer_similarity.py --model_path \"mistralai/Mistral-7B-Instruct-v0.2\" \\\n",
    "                      --dataset \"arcee-ai/sec-data-mini\" \\\n",
    "                      --dataset_column \"text\" \\\n",
    "                      --batch_size 8 \\\n",
    "                      --max_length 1024 \\\n",
    "                      --layers_to_skip 8 \\\n",
    "                      --dataset_size 4000 \\\n",
    "                      --dataset_subset \"train\" "
   ]
  },
  {
   "cell_type": "markdown",
   "id": "62f8ca71-d630-42cb-a8bc-7dafe75997ec",
   "metadata": {
    "tags": []
   },
   "source": [
    "### Ausführen des Merging Tasks"
   ]
  },
  {
   "cell_type": "code",
   "execution_count": null,
   "id": "b01c967e-540d-4748-8ab4-2c1d200f4265",
   "metadata": {},
   "outputs": [],
   "source": [
    "python merge_me.py"
   ]
  }
 ],
 "metadata": {
  "kernelspec": {
   "display_name": "PruneMe",
   "language": "python",
   "name": "pruneme"
  },
  "language_info": {
   "codemirror_mode": {
    "name": "ipython",
    "version": 3
   },
   "file_extension": ".py",
   "mimetype": "text/x-python",
   "name": "python",
   "nbconvert_exporter": "python",
   "pygments_lexer": "ipython3",
   "version": "3.10.11"
  }
 },
 "nbformat": 4,
 "nbformat_minor": 5
}
