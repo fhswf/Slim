{
 "cells": [
  {
   "cell_type": "markdown",
   "id": "1ae2d401-5489-46dc-88b7-73ad6c6d3bad",
   "metadata": {
    "jp-MarkdownHeadingCollapsed": true,
    "tags": []
   },
   "source": [
    "## Old"
   ]
  },
  {
   "cell_type": "markdown",
   "id": "749fb1ae-5a15-49cf-8cf1-cbcbb59b4bc7",
   "metadata": {},
   "source": [
    "### Importieren der Klassen"
   ]
  },
  {
   "cell_type": "code",
   "execution_count": null,
   "id": "1fb41a6c-b844-4b75-b3b6-40ccaa6fd134",
   "metadata": {
    "tags": []
   },
   "outputs": [],
   "source": [
    "import time\n",
    "import torch\n",
    "import transformers\n",
    "from transformers import AutoTokenizer, AutoModelForCausalLM, BitsAndBytesConfig\n",
    "import bitsandbytes as bnb\n",
    "import accelerate"
   ]
  },
  {
   "cell_type": "markdown",
   "id": "086184b8-7c23-4d03-814e-782bf9bf11b7",
   "metadata": {},
   "source": [
    "### Festlegen des Modells"
   ]
  },
  {
   "cell_type": "code",
   "execution_count": null,
   "id": "bba8932f-6a50-4b70-aa75-8aa20571ff4d",
   "metadata": {
    "tags": []
   },
   "outputs": [],
   "source": [
    "model_id=\"/home/thsch026/masterarbeit/models/generated/llm-awq/Meta-Llama-3-8B-Instruct-HF-AWQ-4bit\""
   ]
  },
  {
   "cell_type": "markdown",
   "id": "c79d4441-2950-4b88-a4ff-39589bbb08d2",
   "metadata": {
    "tags": []
   },
   "source": [
    "### Initialisieren des Modells"
   ]
  },
  {
   "cell_type": "code",
   "execution_count": null,
   "id": "911c81b9-1c3f-494c-a8f4-2d2d6f2b8dd8",
   "metadata": {},
   "outputs": [],
   "source": [
    "\n",
    "tokenizer = AutoTokenizer.from_pretrained(model_id)\n",
    "model_id = \"meta-llama/Meta-Llama-3-8B-Instruct\"\n",
    "quantization_config = BitsAndBytesConfig(load_in_4bit=True, bnb_4bit_compute_dtype=torch.bfloat16)\n",
    "\n",
    "model = AutoModelForCausalLM.from_pretrained(\n",
    "    model_id,\n",
    "    trust_remote_code=True,\n",
    "    quantization_config=quantization_config, #load_in_8bit=True,#\n",
    "    device_map='auto',\n",
    "    token='<EOL>'\n",
    ")\n",
    "#peft_model = \"BojanaBas/Meta-Llama-3-8B-Instruct-pqa-10\"\n",
    "#model = PeftModel.from_pretrained(base_model, peft_model)"
   ]
  },
  {
   "cell_type": "markdown",
   "id": "2af0835d-38d5-4be2-97f3-d32e45bb6510",
   "metadata": {},
   "source": [
    "### Inferenz Test"
   ]
  },
  {
   "cell_type": "markdown",
   "id": "1ab0212d-3b3a-4eb3-879a-6da6f9520374",
   "metadata": {},
   "source": [
    "### Autoawq library is needed to test inference with AWQ Models"
   ]
  },
  {
   "cell_type": "code",
   "execution_count": null,
   "id": "c87aba23-5f11-42ca-b81b-6f924586513d",
   "metadata": {
    "tags": []
   },
   "outputs": [],
   "source": [
    "pip install autoawq"
   ]
  },
  {
   "cell_type": "code",
   "execution_count": null,
   "id": "9015bb47-a9ad-4180-a267-90f9326b1106",
   "metadata": {
    "tags": []
   },
   "outputs": [],
   "source": [
    "# Eingabetext\n",
    "input_text = \"Once upon a time\"\n",
    "#input_text = \"Why should I eat healthy?\"\n",
    "\n",
    "# Tokenisiere den Eingabetext\n",
    "input_ids = tokenizer.encode(input_text, return_tensors='pt')\n",
    "\n",
    "# Messe die Zeit vor der Inferenz\n",
    "start_time = time.time()\n",
    "\n",
    "# Führe die Inferenz durch\n",
    "outputs = model.generate(input_ids, max_length=50)\n",
    "\n",
    "# Messe die Zeit nach der Inferenz\n",
    "end_time = time.time()\n",
    "\n",
    "# Berechne die Inferenz-Zeit\n",
    "inference_time = end_time - start_time\n",
    "\n",
    "# Dekodiere die Ausgabe\n",
    "output_text = tokenizer.decode(outputs[0], skip_special_tokens=True)\n",
    "number_of_words = len(output_text.split())\n",
    "number_of_tokens = len(outputs[0])\n",
    "\n",
    "token_per_second = number_of_tokens/inference_time\n",
    "\n",
    "print(f\"Inferenz-Zeit: {inference_time} Sekunden\")\n",
    "print(f\"Output: {output_text}\")\n",
    "print(\"Tokens per second: \", token_per_second)\n",
    "\n"
   ]
  },
  {
   "cell_type": "code",
   "execution_count": null,
   "id": "16792f78-12ba-48e8-9a19-f1675d48c46f",
   "metadata": {},
   "outputs": [],
   "source": [
    "import csv\n",
    "\n",
    "# Die neuen Daten, die hinzugefügt werden sollen\n",
    "neue_daten = ['Lukas', 28]\n",
    "\n",
    "# Öffne die Datei im Anhangsmodus ('a' steht für append)\n",
    "with open('daten.csv', mode='a', newline='') as file:\n",
    "    writer = csv.writer(file)\n",
    "    \n",
    "    # Schreibe die neuen Daten in die CSV-Datei\n",
    "    writer.writerow(neue_daten)\n",
    "\n",
    "print(\"Neue Daten erfolgreich hinzugefügt.\")"
   ]
  },
  {
   "cell_type": "code",
   "execution_count": null,
   "id": "66e4c0ba-cebb-48bc-84f2-0916b8869830",
   "metadata": {},
   "outputs": [],
   "source": [
    "pip install sentencepiece"
   ]
  },
  {
   "cell_type": "markdown",
   "id": "df63ba6c-7a05-4ad8-9731-c24e1cb9bb01",
   "metadata": {
    "tags": []
   },
   "source": [
    "## Evaluierung Modelle"
   ]
  },
  {
   "cell_type": "markdown",
   "id": "c05cdc7a-fc84-4f70-b419-5071a1a37ff2",
   "metadata": {
    "jp-MarkdownHeadingCollapsed": true,
    "tags": []
   },
   "source": [
    "### Sentencepiece muss ggf. noch mal installiert werden für Mistral (fast tokenizer)"
   ]
  },
  {
   "cell_type": "code",
   "execution_count": null,
   "id": "23d6026d-5fbb-43c5-b93e-b96dc8eafed9",
   "metadata": {},
   "outputs": [],
   "source": [
    "pip install sentencepiece"
   ]
  },
  {
   "cell_type": "code",
   "execution_count": null,
   "id": "060e047d-42d8-4f91-9a86-3439955f8ccc",
   "metadata": {
    "tags": []
   },
   "outputs": [],
   "source": [
    "!pip3 install transformers optimum autoawq bitsandbytes sentencepiece torch time accelerate csv packaging\n",
    "# !pip3 install auto-gptq --extra-index-url https://huggingface.github.io/autogptq-index/whl/cu117/"
   ]
  },
  {
   "cell_type": "markdown",
   "id": "1e30b253-4a58-4ba9-9a75-f3a553365b89",
   "metadata": {
    "tags": []
   },
   "source": [
    "### Laden der libaries und festlegen der GPU"
   ]
  },
  {
   "cell_type": "code",
   "execution_count": 1,
   "id": "1de386e7-4cb0-4987-9d7e-38fc6ec2bdc9",
   "metadata": {
    "tags": []
   },
   "outputs": [
    {
     "name": "stdout",
     "output_type": "stream",
     "text": [
      "0,1,2,3\n"
     ]
    }
   ],
   "source": [
    "import os\n",
    "\n",
    "os.environ[\"PYTORCH_CUDA_ALLOC_CONF\"] = \"max_split_size_mb:256\"\n",
    "os.environ[\"CUDA_VISIBLE_DEVICES\"] = \"0,1,2,3\"\n",
    "!echo $CUDA_VISIBLE_DEVICES\n",
    "# torch.cuda.set_device(1)"
   ]
  },
  {
   "cell_type": "code",
   "execution_count": null,
   "id": "742b64f7-1b7a-43e5-a05f-de5969d3fb09",
   "metadata": {},
   "outputs": [],
   "source": [
    "!pip install optimum"
   ]
  },
  {
   "cell_type": "code",
   "execution_count": 3,
   "id": "e57cfb40-2d1c-4f5f-adc0-9134f7f08c46",
   "metadata": {
    "tags": []
   },
   "outputs": [],
   "source": [
    "import time\n",
    "import torch\n",
    "import transformers\n",
    "from transformers import AutoTokenizer, AutoModelForCausalLM, BitsAndBytesConfig \n",
    "import bitsandbytes as bnb\n",
    "import accelerate\n",
    "import csv\n",
    "import packaging\n",
    "#from awq import AutoAWQForCausalLM"
   ]
  },
  {
   "cell_type": "markdown",
   "id": "ad42e67d-5f77-419a-bed4-7cb0f1f2cb11",
   "metadata": {},
   "source": [
    "### Ergebnis Dateien"
   ]
  },
  {
   "cell_type": "code",
   "execution_count": 4,
   "id": "993981e1-1528-4ea8-b4ef-cca2461b922e",
   "metadata": {
    "tags": []
   },
   "outputs": [],
   "source": [
    "full_csv= \"/home/thsch026/masterarbeit/Slim/results/inference/inference12_full.csv\"\n",
    "data_csv= \"/home/thsch026/masterarbeit/Slim/results/inference/inference12_memory_mean.csv\""
   ]
  },
  {
   "cell_type": "markdown",
   "id": "a740d057-2c5f-48fb-89ab-b69dbb4eabd9",
   "metadata": {
    "jp-MarkdownHeadingCollapsed": true,
    "tags": []
   },
   "source": [
    "##  1. Referenz Modelle"
   ]
  },
  {
   "cell_type": "markdown",
   "id": "e4ab7136-9c90-40d2-b7c0-495b09e3edbc",
   "metadata": {
    "jp-MarkdownHeadingCollapsed": true,
    "tags": []
   },
   "source": [
    "### Llama-3-8B-Instruct"
   ]
  },
  {
   "cell_type": "code",
   "execution_count": 35,
   "id": "edba68fd-af1a-4718-8701-aeb759c15015",
   "metadata": {
    "tags": []
   },
   "outputs": [],
   "source": [
    "model_id =\"Meta-Llama-3-8B-Instruct\"\n",
    "model_loc = \"meta-llama/Meta-Llama-3-8B-Instruct\"\n",
    "tokenizer = \"meta-llama/Meta-Llama-3-8B-Instruct\""
   ]
  },
  {
   "cell_type": "markdown",
   "id": "f09dbea4-d24c-43b4-b174-1ce3a9e9bcd4",
   "metadata": {
    "jp-MarkdownHeadingCollapsed": true,
    "tags": []
   },
   "source": [
    "### Mistral-7B-Instruct-v0.2"
   ]
  },
  {
   "cell_type": "code",
   "execution_count": 60,
   "id": "c612ad07-641b-4ec5-8575-ed42951820a4",
   "metadata": {
    "tags": []
   },
   "outputs": [],
   "source": [
    "model_id = \"Mistral-7B-Instruct-v0.2\"\n",
    "model_loc = \"mistralai/Mistral-7B-Instruct-v0.2\"\n",
    "tokenizer = model_loc"
   ]
  },
  {
   "cell_type": "markdown",
   "id": "debccc23-2cd3-4695-a303-29c46813b7fa",
   "metadata": {
    "jp-MarkdownHeadingCollapsed": true,
    "tags": []
   },
   "source": [
    "### Llama-2-7b-chat-hf"
   ]
  },
  {
   "cell_type": "code",
   "execution_count": 8,
   "id": "65143c68-c364-42bb-97f9-1eb2a4e59c0a",
   "metadata": {
    "tags": []
   },
   "outputs": [],
   "source": [
    "model_loc = \"meta-llama/Llama-2-7b-chat-hf\"\n",
    "tokenizer = \"meta-llama/Llama-2-7b-chat-hf\"\n",
    "model_id = \"Llama-2-7b-chat\""
   ]
  },
  {
   "cell_type": "markdown",
   "id": "591f1d89-5918-4afe-93b4-c89a43de1070",
   "metadata": {
    "jp-MarkdownHeadingCollapsed": true,
    "tags": []
   },
   "source": [
    "## 2. AWQ Modelle"
   ]
  },
  {
   "cell_type": "markdown",
   "id": "fec0a0f1-2798-4c82-940d-ded98e46a78d",
   "metadata": {
    "jp-MarkdownHeadingCollapsed": true,
    "tags": []
   },
   "source": [
    "### Llama-3-8B-Instruct-AWQ-4bit"
   ]
  },
  {
   "cell_type": "code",
   "execution_count": 38,
   "id": "427a6178-f8f0-4c2c-8404-2858df0f78b3",
   "metadata": {
    "tags": []
   },
   "outputs": [],
   "source": [
    "model_path = \"/home/thsch026/masterarbeit/models/generated/llm-awq/\"\n",
    "model_id = \"Meta-Llama-3-8B-Instruct-AWQ\"\n",
    "model_loc = model_path + model_id\n",
    "tokenizer = model_loc"
   ]
  },
  {
   "cell_type": "markdown",
   "id": "3eb61b69-ec27-4e61-81c5-dc39db441407",
   "metadata": {
    "jp-MarkdownHeadingCollapsed": true,
    "tags": []
   },
   "source": [
    "### Mistral-7B-Instruct-v0.2-AWQ-4bit"
   ]
  },
  {
   "cell_type": "code",
   "execution_count": 63,
   "id": "1f4644b0-0c07-4525-a262-5e5092965137",
   "metadata": {
    "tags": []
   },
   "outputs": [],
   "source": [
    "model_path = \"/home/thsch026/masterarbeit/models/generated/llm-awq/\"\n",
    "model_id = \"Mistral-7B-Instruct-v0.2-AWQ-4bit\"\n",
    "model_loc = model_path + model_id\n",
    "tokenizer = model_path + model_id"
   ]
  },
  {
   "cell_type": "markdown",
   "id": "ff33ab1a-31f6-46fb-8f6e-1d735517611e",
   "metadata": {
    "jp-MarkdownHeadingCollapsed": true,
    "tags": []
   },
   "source": [
    "### Llama-2-7b-chat-HF-AWQ-4bit"
   ]
  },
  {
   "cell_type": "code",
   "execution_count": 7,
   "id": "26a08e90-bbc7-41ac-aa94-8b49c873df1b",
   "metadata": {
    "tags": []
   },
   "outputs": [],
   "source": [
    "model_loc = \"/home/thsch026/masterarbeit/models/generated/llm-awq/Llama-2-7b-chat-HF-AWQ-4bit\"\n",
    "tokenizer = \"/home/thsch026/masterarbeit/models/generated/llm-awq/Llama-2-7b-chat-HF-AWQ-4bit\"\n",
    "model_id = \"Llama-2-7b-chat-HF-AWQ-4bit\""
   ]
  },
  {
   "cell_type": "markdown",
   "id": "54021899-6689-45cb-b6c8-6805645bc3a1",
   "metadata": {
    "jp-MarkdownHeadingCollapsed": true,
    "tags": []
   },
   "source": [
    "## 3. Pruned Models (shortened-LLM)"
   ]
  },
  {
   "cell_type": "markdown",
   "id": "2048b853-dfc4-4a59-909b-5bb9f98f0898",
   "metadata": {
    "jp-MarkdownHeadingCollapsed": true,
    "tags": []
   },
   "source": [
    "### Meta-Llama-3-8B-Instruct"
   ]
  },
  {
   "cell_type": "code",
   "execution_count": 41,
   "id": "9a82db0d-4996-4b89-834b-4dc8cdf40b8d",
   "metadata": {
    "tags": []
   },
   "outputs": [],
   "source": [
    "model_loc = \"/home/thsch026/masterarbeit/models/generated/prune/shortened-llm/Meta-LLama-3-8B-instruct\"\n",
    "model_id = \"Meta-Llama-3-8B-Instruct_pruned(llm-shortened)\"\n",
    "tokenizer = model_loc"
   ]
  },
  {
   "cell_type": "markdown",
   "id": "80eb2f74-9dce-46ca-a352-131d286967e5",
   "metadata": {
    "jp-MarkdownHeadingCollapsed": true,
    "tags": []
   },
   "source": [
    "### Mistral-7B-Instruct-v02"
   ]
  },
  {
   "cell_type": "code",
   "execution_count": 66,
   "id": "d6d29fad-5f12-4fdf-8e89-d72802527710",
   "metadata": {
    "tags": []
   },
   "outputs": [],
   "source": [
    "model_loc = \"/home/thsch026/masterarbeit/models/generated/prune/shortened-llm/Mistral-7B-Instruct-v02\"\n",
    "model_id = \"Mistral-7B-Instruct-v02_pruned(llm-shortened)\"\n",
    "tokenizer = \"/home/thsch026/masterarbeit/models/generated/prune/shortened-llm/Mistral-7B-Instruct-v02\""
   ]
  },
  {
   "cell_type": "markdown",
   "id": "6483eb73-5af8-4942-9685-650ce9558326",
   "metadata": {
    "jp-MarkdownHeadingCollapsed": true,
    "tags": []
   },
   "source": [
    "### Llama-2-7b-chat-hf pruned six layers"
   ]
  },
  {
   "cell_type": "code",
   "execution_count": 10,
   "id": "83a41d8b-92f9-4fec-aaa8-4af2a3c2c98c",
   "metadata": {
    "tags": []
   },
   "outputs": [],
   "source": [
    "model_loc = \"/home/thsch026/masterarbeit/models/generated/prune/shortened-llm/Llama-2-7b-hf\"\n",
    "tokenizer = \"/home/thsch026/masterarbeit/models/generated/prune/shortened-llm/Llama-2-7b-hf\"\n",
    "model_id = \"Llama-2-7b-hf_pruned_llm-shortened\""
   ]
  },
  {
   "cell_type": "markdown",
   "id": "1a05ef4b-71df-48c3-8362-346ed1da4635",
   "metadata": {
    "jp-MarkdownHeadingCollapsed": true
   },
   "source": [
    "## 3 a. Pruned Models PruneMe"
   ]
  },
  {
   "cell_type": "markdown",
   "id": "ac9ee0c9-53c6-46df-ad83-ae67b4eb3400",
   "metadata": {
    "jp-MarkdownHeadingCollapsed": true,
    "tags": []
   },
   "source": [
    "#### Meta-Llama-3-8B-Instruct-8_Ext"
   ]
  },
  {
   "cell_type": "code",
   "execution_count": 81,
   "id": "ed7a7741-07fa-499a-b7d4-5d7e4e2d5f94",
   "metadata": {
    "tags": []
   },
   "outputs": [],
   "source": [
    "model_loc = \"/home/thsch026/masterarbeit/models/generated/prune/pruneme/Meta-Llama-3-8B-Instruct-8_Ext\"\n",
    "tokenizer = \"/home/thsch026/masterarbeit/models/generated/prune/pruneme/Meta-Llama-3-8B-Instruct-8_Ext\"\n",
    "model_id = \"Meta-Llama-3-8B-Instruct-8_Ext\""
   ]
  },
  {
   "cell_type": "markdown",
   "id": "5ab04b09-b529-41d2-a851-d17561eb852e",
   "metadata": {
    "jp-MarkdownHeadingCollapsed": true,
    "tags": []
   },
   "source": [
    "#### Meta-Llama-3-8B-Instruct-12_ext"
   ]
  },
  {
   "cell_type": "code",
   "execution_count": 84,
   "id": "c118c837-45bc-4c31-831a-20d31d05b848",
   "metadata": {
    "tags": []
   },
   "outputs": [],
   "source": [
    "model_loc = \"/home/thsch026/masterarbeit/models/generated/prune/pruneme/Meta-Llama-3-8B-Instruct-12_Ext\"\n",
    "tokenizer = \"/home/thsch026/masterarbeit/models/generated/prune/pruneme/Meta-Llama-3-8B-Instruct-12_Ext\"\n",
    "model_id = \"Meta-Llama-3-8B-Instruct-12_Ext\""
   ]
  },
  {
   "cell_type": "markdown",
   "id": "7ae592ef-20d2-4974-a248-73c6776a0e09",
   "metadata": {
    "jp-MarkdownHeadingCollapsed": true,
    "tags": []
   },
   "source": [
    "#### Mistral 7 B Instruct v02 8 layers pruned"
   ]
  },
  {
   "cell_type": "code",
   "execution_count": 8,
   "id": "791831b3-cbd0-480c-9035-a4973c5feae1",
   "metadata": {
    "tags": []
   },
   "outputs": [],
   "source": [
    "model_loc = \"/home/thsch026/masterarbeit/models/generated/prune/pruneme/Mistral-7B-Instruct-v0.2-8_Ext\"\n",
    "tokenizer = \"/home/thsch026/masterarbeit/models/generated/prune/pruneme/Mistral-7B-Instruct-v0.2-8_Ext\"\n",
    "model_id = \"Mistral-7B-Instruct-v0.2-8_Ext\""
   ]
  },
  {
   "cell_type": "markdown",
   "id": "9b550fae-fb27-4eeb-bc0c-f5b247e5d214",
   "metadata": {
    "jp-MarkdownHeadingCollapsed": true,
    "tags": []
   },
   "source": [
    "#### Mistral 7 B Instruct v02 12 layers pruned"
   ]
  },
  {
   "cell_type": "code",
   "execution_count": 11,
   "id": "83b6b5b2-367c-4a94-9f86-1528ecb350c0",
   "metadata": {},
   "outputs": [],
   "source": [
    "model_loc = \"/home/thsch026/masterarbeit/models/generated/prune/pruneme/Mistral-7B-Instruct-v0.2-12_Ext\"\n",
    "tokenizer = \"/home/thsch026/masterarbeit/models/generated/prune/pruneme/Mistral-7B-Instruct-v0.2-12_Ext\"\n",
    "model_id = \"Mistral-7B-Instruct-v0.2-12_Ext\""
   ]
  },
  {
   "cell_type": "markdown",
   "id": "5ad3ccb3-1cac-441e-9c7d-a27b4118ed6c",
   "metadata": {
    "jp-MarkdownHeadingCollapsed": true,
    "tags": []
   },
   "source": [
    "## 4. Lora Models"
   ]
  },
  {
   "cell_type": "markdown",
   "id": "936a2b36-d74a-41b6-a118-b2a333d2be68",
   "metadata": {
    "jp-MarkdownHeadingCollapsed": true,
    "tags": []
   },
   "source": [
    "#### Meta-Llama-3-8B-Instruct_ms-marco - ok"
   ]
  },
  {
   "cell_type": "code",
   "execution_count": 44,
   "id": "750851c6-986b-4b03-a782-b86025d109b0",
   "metadata": {
    "tags": []
   },
   "outputs": [],
   "source": [
    "model_loc = \"/home/thsch026/masterarbeit/models/generated/lora/Llama-3-8B-Instruct_ms-marco\"\n",
    "model_id = \"Llama-3-8B-Instruct_ms-marco\"\n",
    "tokenizer = \"meta-llama/Meta-Llama-3-8B-Instruct\""
   ]
  },
  {
   "cell_type": "markdown",
   "id": "701b9e61-e6b9-4e17-ab9e-64a28647048b",
   "metadata": {
    "jp-MarkdownHeadingCollapsed": true,
    "tags": []
   },
   "source": [
    "#### Mistral-7B-Instruct-v02_ms-marco"
   ]
  },
  {
   "cell_type": "code",
   "execution_count": 69,
   "id": "2e23e4f4-d4f7-4532-a020-3982f96182d4",
   "metadata": {
    "tags": []
   },
   "outputs": [],
   "source": [
    "model_loc = \"/home/thsch026/masterarbeit/models/generated/lora/mistral_7B-Instruct-v02_ms-marco\"\n",
    "tokenizer = \"/home/thsch026/masterarbeit/models/generated/lora/mistral_7B-Instruct-v02_ms-marco\"\n",
    "model_id = \"mistral_7B-Instruct-v02_ms-marco\""
   ]
  },
  {
   "cell_type": "markdown",
   "id": "062bfcde-9d00-428a-a0ae-d86f5e33c757",
   "metadata": {
    "jp-MarkdownHeadingCollapsed": true,
    "tags": []
   },
   "source": [
    "#### Llama-2-7b-chat_ms-marco"
   ]
  },
  {
   "cell_type": "code",
   "execution_count": 13,
   "id": "539eeea2-3f46-4b1f-bf8e-7fef8900dbd9",
   "metadata": {
    "tags": []
   },
   "outputs": [],
   "source": [
    "model_loc = \"/home/thsch026/masterarbeit/models/generated/lora/Llama-2-7b-chat_ms-marco\"\n",
    "tokenizer = \"/home/thsch026/masterarbeit/models/generated/lora/Llama-2-7b-chat_ms-marco\"\n",
    "model_id = \"Llama-2-7b-chat_ms-marco\""
   ]
  },
  {
   "cell_type": "markdown",
   "id": "52234743-5342-4575-bc8f-a3a5648bbe8e",
   "metadata": {
    "jp-MarkdownHeadingCollapsed": true,
    "tags": []
   },
   "source": [
    "##  5. Qlora Models"
   ]
  },
  {
   "cell_type": "markdown",
   "id": "2d295691-3815-4d68-9756-8f21b57cffa0",
   "metadata": {
    "jp-MarkdownHeadingCollapsed": true,
    "tags": []
   },
   "source": [
    "### Meta-Llama-3-8B-Instruct_qlora"
   ]
  },
  {
   "cell_type": "code",
   "execution_count": 47,
   "id": "3f09e204-2574-4e1d-9525-397c68f6c59b",
   "metadata": {
    "tags": []
   },
   "outputs": [],
   "source": [
    "model_loc = \"/home/thsch026/masterarbeit/models/generated/qlora/Meta-Llama-3-8B-Instruct_qlora\"\n",
    "model_id = \"Meta-Llama-3-8B-Instruct_qlora\"\n",
    "tokenizer = \"/home/thsch026/masterarbeit/models/generated/qlora/Meta-Llama-3-8B-Instruct_qlora\""
   ]
  },
  {
   "cell_type": "markdown",
   "id": "3b86211c-58c4-451a-8aad-9fd2e87b8b1b",
   "metadata": {
    "jp-MarkdownHeadingCollapsed": true,
    "tags": []
   },
   "source": [
    "### Mistral-7B-Instruct-v0.2_qlora"
   ]
  },
  {
   "cell_type": "code",
   "execution_count": 72,
   "id": "ff3456e0-8a11-4747-923b-d45efaf21e57",
   "metadata": {
    "tags": []
   },
   "outputs": [],
   "source": [
    "model_loc = \"/home/thsch026/masterarbeit/models/generated/qlora/Mistral-7B-Instruct-v0.2_qlora\"\n",
    "tokenizer = \"/home/thsch026/masterarbeit/models/generated/qlora/Mistral-7B-Instruct-v0.2_qlora\"\n",
    "model_id = \"Mistral-7B-Instruct-v0.2_qlora\""
   ]
  },
  {
   "cell_type": "markdown",
   "id": "3995301f-a7ab-4cc2-be5a-3fe8b73a21b1",
   "metadata": {
    "jp-MarkdownHeadingCollapsed": true,
    "tags": []
   },
   "source": [
    "### llama-2-7b-chat_qlora"
   ]
  },
  {
   "cell_type": "code",
   "execution_count": 16,
   "id": "aa741a7d-1ce7-40f5-85a1-8ac046fd7261",
   "metadata": {
    "tags": []
   },
   "outputs": [],
   "source": [
    "model_loc = \"/home/thsch026/masterarbeit/models/generated/qlora/Llama-2-7b-chat-hf_qlora\"\n",
    "tokenizer = \"/home/thsch026/masterarbeit/models/generated/qlora/Llama-2-7b-chat-hf_qlora\"\n",
    "model_id = \"llama-2-7b-chat_qlora\""
   ]
  },
  {
   "cell_type": "markdown",
   "id": "e79403c4-5b32-45c7-9d4a-9202960d19fc",
   "metadata": {
    "jp-MarkdownHeadingCollapsed": true,
    "tags": []
   },
   "source": [
    "## 6. Prune + Lora Models (shortened-LLM)"
   ]
  },
  {
   "cell_type": "markdown",
   "id": "ec746b6d-13dd-4076-a963-850e24e41d77",
   "metadata": {
    "jp-MarkdownHeadingCollapsed": true,
    "tags": []
   },
   "source": [
    "#### Meta-Llama-3-8B-Instruct -> Pruned + Lora"
   ]
  },
  {
   "cell_type": "code",
   "execution_count": 50,
   "id": "ee28e905-cdd4-438e-afd1-4057ef8e6f2a",
   "metadata": {
    "tags": []
   },
   "outputs": [],
   "source": [
    "model_loc = \"/home/thsch026/masterarbeit/models/generated/prune_plus_lora/shortened-llm/Meta-Llama-3-8B-instruct_prune_lora\"\n",
    "model_id = \"Meta-Llama-3-8B-instruct_prune_lora\"\n",
    "tokenizer = \"/home/thsch026/masterarbeit/models/generated/prune_plus_lora/shortened-llm/Meta-Llama-3-8B-instruct_prune_lora\""
   ]
  },
  {
   "cell_type": "markdown",
   "id": "3e9a8491-d334-4f15-ab58-80f9a3a8b6f1",
   "metadata": {
    "jp-MarkdownHeadingCollapsed": true,
    "tags": []
   },
   "source": [
    "#### Mistral-7B-Instruct-v02_prune_lora"
   ]
  },
  {
   "cell_type": "code",
   "execution_count": 75,
   "id": "91e863a6-a0c2-484d-9bcf-a6e08f1a1834",
   "metadata": {
    "tags": []
   },
   "outputs": [],
   "source": [
    "model_loc = \"/home/thsch026/masterarbeit/models/generated/prune_plus_lora/shortened-llm/Mistral-7B-Instruct-v02_prune_lora\"\n",
    "tokenizer = \"/home/thsch026/masterarbeit/models/generated/prune_plus_lora/shortened-llm/Mistral-7B-Instruct-v02_prune_lora\"\n",
    "model_id = \"Mistral-7B-Instruct-v02_prune_lora\""
   ]
  },
  {
   "cell_type": "markdown",
   "id": "e41b5d54-b7ce-4d02-bc31-fff91f571229",
   "metadata": {
    "jp-MarkdownHeadingCollapsed": true,
    "tags": []
   },
   "source": [
    "#### Llama-2-7b-hf_prune_lora"
   ]
  },
  {
   "cell_type": "code",
   "execution_count": 19,
   "id": "358a1bc1-c349-471d-9619-a7f990a79d51",
   "metadata": {
    "tags": []
   },
   "outputs": [],
   "source": [
    "model_loc = \"/home/thsch026/masterarbeit/models/generated/prune_plus_lora/shortened-llm/Llama-2-7b-hf_prune_lora\"\n",
    "tokenizer = \"/home/thsch026/masterarbeit/models/generated/prune_plus_lora/shortened-llm/Llama-2-7b-hf_prune_lora\"\n",
    "model_id = \"Llama-2-7b-hf_prune_lora\""
   ]
  },
  {
   "cell_type": "markdown",
   "id": "c06aa4a7-700d-4fe2-a6e1-caf5412620d8",
   "metadata": {
    "tags": []
   },
   "source": [
    "## 7. Prune + Lora + AWQ Models"
   ]
  },
  {
   "cell_type": "markdown",
   "id": "e1b106f3-b689-4f66-959d-741cbd80c7d1",
   "metadata": {
    "tags": []
   },
   "source": [
    "#### Mistral-7B-Instruct-v02_prune_lora_awq"
   ]
  },
  {
   "cell_type": "code",
   "execution_count": 4,
   "id": "db0f508c-f8c3-45b5-90bd-d2ebd89d9458",
   "metadata": {
    "tags": []
   },
   "outputs": [],
   "source": [
    "model_loc = \"/home/thsch026/masterarbeit/models/generated/prune_plus_lora_plus_awq/Mistral-7B-Instruct-v02_prune_lora_awq\"\n",
    "tokenizer = \"/home/thsch026/masterarbeit/models/generated/prune_plus_lora_plus_awq/Mistral-7B-Instruct-v02_prune_lora_awq\"\n",
    "model_id = \"Mistral-7B-Instruct_prune_lora_awq\""
   ]
  },
  {
   "cell_type": "markdown",
   "id": "a1295e2a-ddc3-4876-9440-86dbfd0efa3c",
   "metadata": {
    "jp-MarkdownHeadingCollapsed": true,
    "tags": []
   },
   "source": [
    "#### Meta-Llama-3-8B-Instruct_prune_lora_awq"
   ]
  },
  {
   "cell_type": "code",
   "execution_count": 53,
   "id": "efa35d37-8c34-48aa-a957-8df37b280c4b",
   "metadata": {
    "tags": []
   },
   "outputs": [],
   "source": [
    "model_loc = \"/home/thsch026/masterarbeit/models/generated/prune_plus_lora_plus_awq/Meta-Llama-3-8B-Instruct_prune_lora_awq\"\n",
    "model_id =\"Meta-Llama-3-8B-Instruct_prune_lora_awq\"\n",
    "tokenizer = \"/home/thsch026/masterarbeit/models/generated/prune_plus_lora_plus_awq/Meta-Llama-3-8B-Instruct_prune_lora_awq\""
   ]
  },
  {
   "cell_type": "markdown",
   "id": "7a0e5d84-707f-40e0-ad48-c030230a8bf1",
   "metadata": {
    "tags": []
   },
   "source": [
    "#### Llama-2-7b-chat-hf_prune_lora_awq"
   ]
  },
  {
   "cell_type": "code",
   "execution_count": 11,
   "id": "19aea15c-da65-41c6-96e6-fff44cddc23c",
   "metadata": {
    "tags": []
   },
   "outputs": [],
   "source": [
    "model_loc = \"/home/thsch026/masterarbeit/models/generated/prune_plus_lora_plus_awq/Llama-2-7b-chat-hf_prune_lora_awq\"\n",
    "tokenizer = \"/home/thsch026/masterarbeit/models/generated/prune_plus_lora_plus_awq/Llama-2-7b-chat-hf_prune_lora_awq\"\n",
    "model_id =\"Llama-2-7b-chat-hf_prune_lora_awq\""
   ]
  },
  {
   "cell_type": "markdown",
   "id": "e0fd7cf1-7a80-4846-b7bd-5b1a4b6af39f",
   "metadata": {
    "tags": []
   },
   "source": [
    "## 8. GPTQ Models"
   ]
  },
  {
   "cell_type": "markdown",
   "id": "430fede0-c533-44e4-98f2-a18558ec82f7",
   "metadata": {
    "tags": []
   },
   "source": [
    "#### Llama-3-8B-Instruct-prune-lora-gptq 4 Bit"
   ]
  },
  {
   "cell_type": "code",
   "execution_count": 21,
   "id": "088c031e-71f2-4635-bae9-5a08eacc094b",
   "metadata": {
    "tags": []
   },
   "outputs": [],
   "source": [
    "model_loc = \"/home/thsch026/masterarbeit/models/generated/prune_lora_gptq/Llama_3_8B_Instruct-prune-lora-gptq_4bit\"\n",
    "model_id = \"Llama-3-8B-Instruct-prune-lora-gptq_4bit\"\n",
    "tokenizer = \"/home/thsch026/masterarbeit/models/generated/prune_lora_gptq/Llama_3_8B_Instruct-prune-lora-gptq_4bit\""
   ]
  },
  {
   "cell_type": "markdown",
   "id": "b44f33d7-fc5f-4893-9840-b2cf8619b1f6",
   "metadata": {},
   "source": [
    "#### Llama-3-8B-Instruct_gptq_4bit"
   ]
  },
  {
   "cell_type": "code",
   "execution_count": 5,
   "id": "b81e4ef9-e909-41fd-b4c4-25367592e448",
   "metadata": {},
   "outputs": [],
   "source": [
    "model_loc = \"/home/thsch026/masterarbeit/models/generated/gptq/Meta-Llama-3-8B-instruct_gptq_4bit\"\n",
    "model_id = \"Llama-3-8B-Instruct_gptq_4bit\"\n",
    "tokenizer = \"/home/thsch026/masterarbeit/models/generated/gptq/Meta-Llama-3-8B-instruct_gptq_4bit\""
   ]
  },
  {
   "cell_type": "markdown",
   "id": "c071cd75-86fb-4f4f-896c-7a5418e1b1f4",
   "metadata": {},
   "source": [
    "#### Llama-3-8B-Instruct_gptq_3bit"
   ]
  },
  {
   "cell_type": "code",
   "execution_count": 7,
   "id": "ed414de0-7b0d-4c50-8c58-282d800d58c1",
   "metadata": {},
   "outputs": [],
   "source": [
    "model_loc = \"/home/thsch026/masterarbeit/models/generated/gptq/Meta-Llama-3-8B-instruct_gptq_3bit\"\n",
    "model_id = \"Llama-3-8B-Instruct_gptq_3bit\"\n",
    "tokenizer = \"/home/thsch026/masterarbeit/models/generated/gptq/Meta-Llama-3-8B-instruct_gptq_3bit\""
   ]
  },
  {
   "cell_type": "markdown",
   "id": "5dfb7d86-48b0-4bd5-aaf1-d8f7d530a4fb",
   "metadata": {},
   "source": [
    "#### Llama-3-8B-Instruct_gptq_2bit"
   ]
  },
  {
   "cell_type": "code",
   "execution_count": 7,
   "id": "0b1887ae-b954-4511-a554-d17ccdb2952b",
   "metadata": {},
   "outputs": [],
   "source": [
    "model_loc = \"/home/thsch026/masterarbeit/models/generated/gptq/Meta-Llama-3-8B-instruct_gptq_2bit\"\n",
    "model_id = \"Llama-3-8B-Instruct_gptq_2bit\"\n",
    "tokenizer = \"/home/thsch026/masterarbeit/models/generated/gptq/Meta-Llama-3-8B-instruct_gptq_2bit\""
   ]
  },
  {
   "cell_type": "markdown",
   "id": "665341bc-0c9e-4fbc-b599-eb7dcb4918ed",
   "metadata": {
    "jp-MarkdownHeadingCollapsed": true
   },
   "source": [
    "### Mistral 7B Instruct 4 Bit"
   ]
  },
  {
   "cell_type": "code",
   "execution_count": 10,
   "id": "ac6e2930-9e68-4d55-bfe5-6a7bd5b7715e",
   "metadata": {},
   "outputs": [],
   "source": [
    "model_loc = \"/home/thsch026/masterarbeit/models/generated/gptq/Mistral-7B-Instruct-v0.2_gptq_4bit\"\n",
    "tokenizer = \"/home/thsch026/masterarbeit/models/generated/gptq/Mistral-7B-Instruct-v0.2_gptq_4bit\"\n",
    "model_id = \"Mistral 7B Instruct v0.2 gptq 4Bit\""
   ]
  },
  {
   "cell_type": "markdown",
   "id": "900c438b-dcbf-43de-8258-436e06781a5e",
   "metadata": {
    "jp-MarkdownHeadingCollapsed": true
   },
   "source": [
    "### Mistral 7B Instruct 3 Bit"
   ]
  },
  {
   "cell_type": "code",
   "execution_count": 4,
   "id": "0dcae3a8-6405-4d6b-ad8f-1fbccd6f3b45",
   "metadata": {},
   "outputs": [],
   "source": [
    "model_loc = \"/home/thsch026/masterarbeit/models/generated/gptq/Mistral-7B-Instruct-v0.2_gptq_3bit\"\n",
    "tokenizer = \"/home/thsch026/masterarbeit/models/generated/gptq/Mistral-7B-Instruct-v0.2_gptq_3bit\"\n",
    "model_id = \"Mistral 7B Instruct v0.2 gptq 3-Bit\""
   ]
  },
  {
   "cell_type": "markdown",
   "id": "aad48632-e793-451b-b740-48ad88df7728",
   "metadata": {
    "jp-MarkdownHeadingCollapsed": true
   },
   "source": [
    "### Mistral 7B Instruct 2 Bit"
   ]
  },
  {
   "cell_type": "code",
   "execution_count": 1,
   "id": "21b77222-fe29-478a-bb11-b65b9691d2c9",
   "metadata": {},
   "outputs": [],
   "source": [
    "model_loc = \"/home/thsch026/masterarbeit/models/generated/gptq/Mistral-7B-Instruct-v0.2_gptq_2bit\"\n",
    "tokenizer = \"/home/thsch026/masterarbeit/models/generated/gptq/Mistral-7B-Instruct-v0.2_gptq_2bit\"\n",
    "model_id = \"Mistral 7B Instruct v0.2 gptq 2Bit\""
   ]
  },
  {
   "cell_type": "code",
   "execution_count": null,
   "id": "5efce158-8f66-44a5-b175-caade83134ac",
   "metadata": {},
   "outputs": [],
   "source": [
    "TEST"
   ]
  },
  {
   "cell_type": "code",
   "execution_count": 9,
   "id": "e5112591-9447-44fd-96cc-79a15206f37b",
   "metadata": {},
   "outputs": [],
   "source": [
    "model_loc = \"/home/thsch026/masterarbeit/models/generated/lora/Llama-3-8B-Instruct_ms-marco/merged\"\n",
    "tokenizer = \"meta-llama/Meta-Llama-3-8B-Instruct\"\n",
    "model_id = \"Llama 3 8B Instruct LoRA ms-marco merged\""
   ]
  },
  {
   "cell_type": "code",
   "execution_count": 8,
   "id": "55ad2d1e-2a37-47a5-8bd9-a0977cd3f4bb",
   "metadata": {},
   "outputs": [],
   "source": [
    "model_loc = \"/home/thsch026/masterarbeit/models/generated/qlora/Meta-Llama-3-8B-Instruct_qlora\"\n",
    "tokenizer = \"meta-llama/Meta-Llama-3-8B-Instruct\"\n",
    "model_id = \"Meta Llama 3 8B Instruct qlora (17000 steps)\""
   ]
  },
  {
   "cell_type": "markdown",
   "id": "46418667-8aa4-4a9e-a2c5-9bf8a8adc04f",
   "metadata": {
    "tags": []
   },
   "source": [
    "## Inference Task"
   ]
  },
  {
   "cell_type": "markdown",
   "id": "e09340b3-5eca-4527-9b13-8c10a8ef9899",
   "metadata": {
    "tags": []
   },
   "source": [
    "### Laden des Modells"
   ]
  },
  {
   "cell_type": "code",
   "execution_count": 6,
   "id": "08332cb9-b9ed-45c8-a7fe-6d5374421209",
   "metadata": {},
   "outputs": [
    {
     "name": "stdout",
     "output_type": "stream",
     "text": [
      "\n",
      "Loading Model:  Llama-3-8B-Instruct_gptq_4bit\n"
     ]
    },
    {
     "ename": "PackageNotFoundError",
     "evalue": "No package metadata was found for auto-gptq",
     "output_type": "error",
     "traceback": [
      "\u001b[0;31m---------------------------------------------------------------------------\u001b[0m",
      "\u001b[0;31mPackageNotFoundError\u001b[0m                      Traceback (most recent call last)",
      "Cell \u001b[0;32mIn[6], line 7\u001b[0m\n\u001b[1;32m      4\u001b[0m quantization_config \u001b[38;5;241m=\u001b[39m BitsAndBytesConfig()\n\u001b[1;32m      5\u001b[0m \u001b[38;5;66;03m#quantization_config = BitsAndBytesConfig(bnb_4bit_compute_dtype=torch.bfloat16)\u001b[39;00m\n\u001b[0;32m----> 7\u001b[0m model \u001b[38;5;241m=\u001b[39m \u001b[43mAutoModelForCausalLM\u001b[49m\u001b[38;5;241;43m.\u001b[39;49m\u001b[43mfrom_pretrained\u001b[49m\u001b[43m(\u001b[49m\n\u001b[1;32m      8\u001b[0m \u001b[43m    \u001b[49m\u001b[43mmodel_loc\u001b[49m\u001b[43m,\u001b[49m\n\u001b[1;32m      9\u001b[0m \u001b[43m    \u001b[49m\u001b[43mtrust_remote_code\u001b[49m\u001b[38;5;241;43m=\u001b[39;49m\u001b[38;5;28;43;01mTrue\u001b[39;49;00m\u001b[43m,\u001b[49m\n\u001b[1;32m     10\u001b[0m \u001b[43m    \u001b[49m\u001b[43mtorch_dtype\u001b[49m\u001b[38;5;241;43m=\u001b[39;49m\u001b[43mtorch\u001b[49m\u001b[38;5;241;43m.\u001b[39;49m\u001b[43mfloat16\u001b[49m\u001b[43m,\u001b[49m\n\u001b[1;32m     11\u001b[0m \u001b[43m    \u001b[49m\u001b[38;5;66;43;03m#quantization_config=quantization_config,\u001b[39;49;00m\n\u001b[1;32m     12\u001b[0m \u001b[43m    \u001b[49m\u001b[43mdevice_map\u001b[49m\u001b[38;5;241;43m=\u001b[39;49m\u001b[38;5;124;43m'\u001b[39;49m\u001b[38;5;124;43mcuda\u001b[39;49m\u001b[38;5;124;43m'\u001b[39;49m\n\u001b[1;32m     13\u001b[0m \u001b[43m)\u001b[49m\n\u001b[1;32m     14\u001b[0m \u001b[38;5;28mprint\u001b[39m (\u001b[38;5;124m\"\u001b[39m\u001b[38;5;124mLoading COMPLETED\u001b[39m\u001b[38;5;124m\"\u001b[39m)\n\u001b[1;32m     16\u001b[0m \u001b[38;5;66;03m#safetensors=True,\u001b[39;00m\n\u001b[1;32m     17\u001b[0m     \u001b[38;5;66;03m#load_in_4bit=True,\u001b[39;00m\n\u001b[1;32m     18\u001b[0m     \u001b[38;5;66;03m# Bei AWQ Modellen keine quantization config angeben\u001b[39;00m\n",
      "File \u001b[0;32m~/my-envs/inference12/lib/python3.10/site-packages/transformers/models/auto/auto_factory.py:564\u001b[0m, in \u001b[0;36m_BaseAutoModelClass.from_pretrained\u001b[0;34m(cls, pretrained_model_name_or_path, *model_args, **kwargs)\u001b[0m\n\u001b[1;32m    562\u001b[0m \u001b[38;5;28;01melif\u001b[39;00m \u001b[38;5;28mtype\u001b[39m(config) \u001b[38;5;129;01min\u001b[39;00m \u001b[38;5;28mcls\u001b[39m\u001b[38;5;241m.\u001b[39m_model_mapping\u001b[38;5;241m.\u001b[39mkeys():\n\u001b[1;32m    563\u001b[0m     model_class \u001b[38;5;241m=\u001b[39m _get_model_class(config, \u001b[38;5;28mcls\u001b[39m\u001b[38;5;241m.\u001b[39m_model_mapping)\n\u001b[0;32m--> 564\u001b[0m     \u001b[38;5;28;01mreturn\u001b[39;00m \u001b[43mmodel_class\u001b[49m\u001b[38;5;241;43m.\u001b[39;49m\u001b[43mfrom_pretrained\u001b[49m\u001b[43m(\u001b[49m\n\u001b[1;32m    565\u001b[0m \u001b[43m        \u001b[49m\u001b[43mpretrained_model_name_or_path\u001b[49m\u001b[43m,\u001b[49m\u001b[43m \u001b[49m\u001b[38;5;241;43m*\u001b[39;49m\u001b[43mmodel_args\u001b[49m\u001b[43m,\u001b[49m\u001b[43m \u001b[49m\u001b[43mconfig\u001b[49m\u001b[38;5;241;43m=\u001b[39;49m\u001b[43mconfig\u001b[49m\u001b[43m,\u001b[49m\u001b[43m \u001b[49m\u001b[38;5;241;43m*\u001b[39;49m\u001b[38;5;241;43m*\u001b[39;49m\u001b[43mhub_kwargs\u001b[49m\u001b[43m,\u001b[49m\u001b[43m \u001b[49m\u001b[38;5;241;43m*\u001b[39;49m\u001b[38;5;241;43m*\u001b[39;49m\u001b[43mkwargs\u001b[49m\n\u001b[1;32m    566\u001b[0m \u001b[43m    \u001b[49m\u001b[43m)\u001b[49m\n\u001b[1;32m    567\u001b[0m \u001b[38;5;28;01mraise\u001b[39;00m \u001b[38;5;167;01mValueError\u001b[39;00m(\n\u001b[1;32m    568\u001b[0m     \u001b[38;5;124mf\u001b[39m\u001b[38;5;124m\"\u001b[39m\u001b[38;5;124mUnrecognized configuration class \u001b[39m\u001b[38;5;132;01m{\u001b[39;00mconfig\u001b[38;5;241m.\u001b[39m\u001b[38;5;18m__class__\u001b[39m\u001b[38;5;132;01m}\u001b[39;00m\u001b[38;5;124m for this kind of AutoModel: \u001b[39m\u001b[38;5;132;01m{\u001b[39;00m\u001b[38;5;28mcls\u001b[39m\u001b[38;5;241m.\u001b[39m\u001b[38;5;18m__name__\u001b[39m\u001b[38;5;132;01m}\u001b[39;00m\u001b[38;5;124m.\u001b[39m\u001b[38;5;130;01m\\n\u001b[39;00m\u001b[38;5;124m\"\u001b[39m\n\u001b[1;32m    569\u001b[0m     \u001b[38;5;124mf\u001b[39m\u001b[38;5;124m\"\u001b[39m\u001b[38;5;124mModel type should be one of \u001b[39m\u001b[38;5;132;01m{\u001b[39;00m\u001b[38;5;124m'\u001b[39m\u001b[38;5;124m, \u001b[39m\u001b[38;5;124m'\u001b[39m\u001b[38;5;241m.\u001b[39mjoin(c\u001b[38;5;241m.\u001b[39m\u001b[38;5;18m__name__\u001b[39m\u001b[38;5;250m \u001b[39m\u001b[38;5;28;01mfor\u001b[39;00m\u001b[38;5;250m \u001b[39mc\u001b[38;5;250m \u001b[39m\u001b[38;5;129;01min\u001b[39;00m\u001b[38;5;250m \u001b[39m\u001b[38;5;28mcls\u001b[39m\u001b[38;5;241m.\u001b[39m_model_mapping\u001b[38;5;241m.\u001b[39mkeys())\u001b[38;5;132;01m}\u001b[39;00m\u001b[38;5;124m.\u001b[39m\u001b[38;5;124m\"\u001b[39m\n\u001b[1;32m    570\u001b[0m )\n",
      "File \u001b[0;32m~/my-envs/inference12/lib/python3.10/site-packages/transformers/modeling_utils.py:3398\u001b[0m, in \u001b[0;36mPreTrainedModel.from_pretrained\u001b[0;34m(cls, pretrained_model_name_or_path, config, cache_dir, ignore_mismatched_sizes, force_download, local_files_only, token, revision, use_safetensors, *model_args, **kwargs)\u001b[0m\n\u001b[1;32m   3395\u001b[0m     hf_quantizer \u001b[38;5;241m=\u001b[39m \u001b[38;5;28;01mNone\u001b[39;00m\n\u001b[1;32m   3397\u001b[0m \u001b[38;5;28;01mif\u001b[39;00m hf_quantizer \u001b[38;5;129;01mis\u001b[39;00m \u001b[38;5;129;01mnot\u001b[39;00m \u001b[38;5;28;01mNone\u001b[39;00m:\n\u001b[0;32m-> 3398\u001b[0m     \u001b[43mhf_quantizer\u001b[49m\u001b[38;5;241;43m.\u001b[39;49m\u001b[43mvalidate_environment\u001b[49m\u001b[43m(\u001b[49m\n\u001b[1;32m   3399\u001b[0m \u001b[43m        \u001b[49m\u001b[43mtorch_dtype\u001b[49m\u001b[38;5;241;43m=\u001b[39;49m\u001b[43mtorch_dtype\u001b[49m\u001b[43m,\u001b[49m\u001b[43m \u001b[49m\u001b[43mfrom_tf\u001b[49m\u001b[38;5;241;43m=\u001b[39;49m\u001b[43mfrom_tf\u001b[49m\u001b[43m,\u001b[49m\u001b[43m \u001b[49m\u001b[43mfrom_flax\u001b[49m\u001b[38;5;241;43m=\u001b[39;49m\u001b[43mfrom_flax\u001b[49m\u001b[43m,\u001b[49m\u001b[43m \u001b[49m\u001b[43mdevice_map\u001b[49m\u001b[38;5;241;43m=\u001b[39;49m\u001b[43mdevice_map\u001b[49m\n\u001b[1;32m   3400\u001b[0m \u001b[43m    \u001b[49m\u001b[43m)\u001b[49m\n\u001b[1;32m   3401\u001b[0m     torch_dtype \u001b[38;5;241m=\u001b[39m hf_quantizer\u001b[38;5;241m.\u001b[39mupdate_torch_dtype(torch_dtype)\n\u001b[1;32m   3402\u001b[0m     device_map \u001b[38;5;241m=\u001b[39m hf_quantizer\u001b[38;5;241m.\u001b[39mupdate_device_map(device_map)\n",
      "File \u001b[0;32m~/my-envs/inference12/lib/python3.10/site-packages/transformers/quantizers/quantizer_gptq.py:52\u001b[0m, in \u001b[0;36mGptqHfQuantizer.validate_environment\u001b[0;34m(self, *args, **kwargs)\u001b[0m\n\u001b[1;32m     51\u001b[0m \u001b[38;5;28;01mdef\u001b[39;00m \u001b[38;5;21mvalidate_environment\u001b[39m(\u001b[38;5;28mself\u001b[39m, \u001b[38;5;241m*\u001b[39margs, \u001b[38;5;241m*\u001b[39m\u001b[38;5;241m*\u001b[39mkwargs):\n\u001b[0;32m---> 52\u001b[0m     gptq_supports_cpu \u001b[38;5;241m=\u001b[39m version\u001b[38;5;241m.\u001b[39mparse(\u001b[43mimportlib\u001b[49m\u001b[38;5;241;43m.\u001b[39;49m\u001b[43mmetadata\u001b[49m\u001b[38;5;241;43m.\u001b[39;49m\u001b[43mversion\u001b[49m\u001b[43m(\u001b[49m\u001b[38;5;124;43m\"\u001b[39;49m\u001b[38;5;124;43mauto-gptq\u001b[39;49m\u001b[38;5;124;43m\"\u001b[39;49m\u001b[43m)\u001b[49m) \u001b[38;5;241m>\u001b[39m version\u001b[38;5;241m.\u001b[39mparse(\u001b[38;5;124m\"\u001b[39m\u001b[38;5;124m0.4.2\u001b[39m\u001b[38;5;124m\"\u001b[39m)\n\u001b[1;32m     53\u001b[0m     \u001b[38;5;28;01mif\u001b[39;00m \u001b[38;5;129;01mnot\u001b[39;00m gptq_supports_cpu \u001b[38;5;129;01mand\u001b[39;00m \u001b[38;5;129;01mnot\u001b[39;00m torch\u001b[38;5;241m.\u001b[39mcuda\u001b[38;5;241m.\u001b[39mis_available():\n\u001b[1;32m     54\u001b[0m         \u001b[38;5;28;01mraise\u001b[39;00m \u001b[38;5;167;01mRuntimeError\u001b[39;00m(\u001b[38;5;124m\"\u001b[39m\u001b[38;5;124mGPU is required to quantize or run quantize model.\u001b[39m\u001b[38;5;124m\"\u001b[39m)\n",
      "File \u001b[0;32m~/my-envs/inference12/lib/python3.10/importlib/metadata/__init__.py:946\u001b[0m, in \u001b[0;36mversion\u001b[0;34m(distribution_name)\u001b[0m\n\u001b[1;32m    939\u001b[0m \u001b[38;5;28;01mdef\u001b[39;00m \u001b[38;5;21mversion\u001b[39m(distribution_name):\n\u001b[1;32m    940\u001b[0m \u001b[38;5;250m    \u001b[39m\u001b[38;5;124;03m\"\"\"Get the version string for the named package.\u001b[39;00m\n\u001b[1;32m    941\u001b[0m \n\u001b[1;32m    942\u001b[0m \u001b[38;5;124;03m    :param distribution_name: The name of the distribution package to query.\u001b[39;00m\n\u001b[1;32m    943\u001b[0m \u001b[38;5;124;03m    :return: The version string for the package as defined in the package's\u001b[39;00m\n\u001b[1;32m    944\u001b[0m \u001b[38;5;124;03m        \"Version\" metadata key.\u001b[39;00m\n\u001b[1;32m    945\u001b[0m \u001b[38;5;124;03m    \"\"\"\u001b[39;00m\n\u001b[0;32m--> 946\u001b[0m     \u001b[38;5;28;01mreturn\u001b[39;00m \u001b[43mdistribution\u001b[49m\u001b[43m(\u001b[49m\u001b[43mdistribution_name\u001b[49m\u001b[43m)\u001b[49m\u001b[38;5;241m.\u001b[39mversion\n",
      "File \u001b[0;32m~/my-envs/inference12/lib/python3.10/importlib/metadata/__init__.py:919\u001b[0m, in \u001b[0;36mdistribution\u001b[0;34m(distribution_name)\u001b[0m\n\u001b[1;32m    913\u001b[0m \u001b[38;5;28;01mdef\u001b[39;00m \u001b[38;5;21mdistribution\u001b[39m(distribution_name):\n\u001b[1;32m    914\u001b[0m \u001b[38;5;250m    \u001b[39m\u001b[38;5;124;03m\"\"\"Get the ``Distribution`` instance for the named package.\u001b[39;00m\n\u001b[1;32m    915\u001b[0m \n\u001b[1;32m    916\u001b[0m \u001b[38;5;124;03m    :param distribution_name: The name of the distribution package as a string.\u001b[39;00m\n\u001b[1;32m    917\u001b[0m \u001b[38;5;124;03m    :return: A ``Distribution`` instance (or subclass thereof).\u001b[39;00m\n\u001b[1;32m    918\u001b[0m \u001b[38;5;124;03m    \"\"\"\u001b[39;00m\n\u001b[0;32m--> 919\u001b[0m     \u001b[38;5;28;01mreturn\u001b[39;00m \u001b[43mDistribution\u001b[49m\u001b[38;5;241;43m.\u001b[39;49m\u001b[43mfrom_name\u001b[49m\u001b[43m(\u001b[49m\u001b[43mdistribution_name\u001b[49m\u001b[43m)\u001b[49m\n",
      "File \u001b[0;32m~/my-envs/inference12/lib/python3.10/importlib/metadata/__init__.py:518\u001b[0m, in \u001b[0;36mDistribution.from_name\u001b[0;34m(cls, name)\u001b[0m\n\u001b[1;32m    516\u001b[0m         \u001b[38;5;28;01mreturn\u001b[39;00m dist\n\u001b[1;32m    517\u001b[0m \u001b[38;5;28;01melse\u001b[39;00m:\n\u001b[0;32m--> 518\u001b[0m     \u001b[38;5;28;01mraise\u001b[39;00m PackageNotFoundError(name)\n",
      "\u001b[0;31mPackageNotFoundError\u001b[0m: No package metadata was found for auto-gptq"
     ]
    }
   ],
   "source": [
    "print(\"\\nLoading Model: \", model_id)\n",
    "tokenizer = AutoTokenizer.from_pretrained(tokenizer)\n",
    "\n",
    "quantization_config = BitsAndBytesConfig()\n",
    "#quantization_config = BitsAndBytesConfig(bnb_4bit_compute_dtype=torch.bfloat16)\n",
    "\n",
    "model = AutoModelForCausalLM.from_pretrained(\n",
    "    model_loc,\n",
    "    trust_remote_code=True,\n",
    "    torch_dtype=torch.float16,\n",
    "    #quantization_config=quantization_config,\n",
    "    device_map='cuda'\n",
    ")\n",
    "print (\"Loading COMPLETED\")\n",
    "\n",
    "#safetensors=True,\n",
    "    #load_in_4bit=True,\n",
    "    # Bei AWQ Modellen keine quantization config angeben"
   ]
  },
  {
   "cell_type": "markdown",
   "id": "8916e74f-6f9d-4b6d-9175-71814a323512",
   "metadata": {
    "jp-MarkdownHeadingCollapsed": true,
    "tags": []
   },
   "source": [
    "### Inferenz mit Ergebnis Speicherung"
   ]
  },
  {
   "cell_type": "code",
   "execution_count": null,
   "id": "66a892fb-0ff4-4c67-9f1f-bdc13713a1b9",
   "metadata": {
    "tags": []
   },
   "outputs": [],
   "source": [
    "# Funktion für das Speichern der Werte\n",
    "\n",
    "def append_data(result):\n",
    "    \n",
    "    with open(full_csv, mode='a', newline='') as file:\n",
    "        full_writer = csv.writer(file)\n",
    "        full_writer.writerow(result)\n",
    "        \n",
    "    with open(data_csv, mode='a', newline='') as file:\n",
    "        data_writer = csv.writer(file)\n",
    "        data_writer.writerow(result[0:4])\n",
    "\n",
    "                \n",
    "device = 'cuda'\n",
    "\n",
    "question_list = [\"Once upon a time\", \"Why should I eat healthy?\", \"Is there a second life after death?\", \"What is the most common injury?\",\"Who is Konrad Zuse?\"]\n",
    "\n",
    "for question in question_list:\n",
    "    prompt = f'''You are an helpful assistant. USER: {question} ASSISTANT:'''\n",
    "    input_ids = tokenizer.encode(question, return_tensors='pt')\n",
    "    # Änderung dr Zeile weil es Probleme mit der Ausführung gab (cuda/cpu anomalie)\n",
    "    input_ids = tokenizer(question, return_tensors=\"pt\").input_ids.to(device)\n",
    "    input_ids.to('cuda')\n",
    "    start_time = time.time()\n",
    "\n",
    "    # Führe die Inferenz durch\n",
    "    outputs = model.generate(input_ids, max_length=200)\n",
    "\n",
    "    # Messe die Zeit nach der Inferenz\n",
    "    end_time = time.time()\n",
    "\n",
    "    # Berechne die Inferenz-Zeit\n",
    "    inference_time = end_time - start_time\n",
    "\n",
    "    # Dekodiere die Ausgabe\n",
    "    output_text = tokenizer.decode(outputs[0], skip_special_tokens=True)\n",
    "    \n",
    "    # Berchnung des Ergebnis\n",
    "    #number_of_words = len(output_text.split())\n",
    "    number_of_tokens = len(outputs[0])\n",
    "    memory_usage = round((torch.cuda.memory_allocated() / (1024 **3)),2)\n",
    "    token_per_second = number_of_tokens/inference_time\n",
    "    result = [model_id,token_per_second, inference_time, memory_usage, question, output_text]\n",
    "    print(result)\n",
    "    append_data(result)\n",
    "              \n",
    "    \n",
    "                                                                \n",
    "    \n",
    "\n",
    "    \n",
    "    "
   ]
  },
  {
   "cell_type": "markdown",
   "id": "3f6b4cc7-3407-4541-b702-f4db520df638",
   "metadata": {},
   "source": [
    "## Inferenz Durchschnittswerte"
   ]
  },
  {
   "cell_type": "code",
   "execution_count": null,
   "id": "c100ec4e-066b-4aa5-921c-b3bfaba19882",
   "metadata": {
    "tags": []
   },
   "outputs": [],
   "source": [
    "# Funktion für das Speichern der Werte\n",
    "from statistics import mean\n",
    "def append_data(result):\n",
    "\n",
    "    with open(full_csv, mode='a', newline='') as file:\n",
    "        full_writer = csv.writer(file)\n",
    "        full_writer.writerow(result)\n",
    "\n",
    "def append_avg(result_avg):\n",
    "\n",
    "    with open(data_csv, mode='a', newline='') as file:\n",
    "        data_writer = csv.writer(file)\n",
    "        data_writer.writerow(result_avg)\n",
    "\n",
    "# Clean memory\n",
    "\n",
    "device = 'cuda'\n",
    "token_avg_list = []\n",
    "memory_avg_list = []\n",
    "\n",
    "# del(model)\n",
    "# torch.cuda.empty_cache()\n",
    "\n",
    "question_list = [\"Once upon a time\", \"Why should I eat healthy?\", \"Is there a second life after death?\", \"What is the most common injury?\",\"Who is Konrad Zuse?\"]\n",
    "\n",
    "for question in question_list:\n",
    "    prompt = f'''You are an helpful assistant. USER: {question} ASSISTANT:'''\n",
    "    input_ids = tokenizer.encode(question, return_tensors='pt')\n",
    "    # Änderung dr Zeile weil es Probleme mit der Ausführung gab (cuda/cpu anomalie)\n",
    "    input_ids = tokenizer(question, return_tensors=\"pt\").input_ids.to(device)\n",
    "    input_ids.to('cuda')\n",
    "    start_time = time.time()\n",
    "\n",
    "    # Führe die Inferenz durch\n",
    "    outputs = model.generate(input_ids, max_length=200)\n",
    "\n",
    "    # Messe die Zeit nach der Inferenz\n",
    "    end_time = time.time()\n",
    "\n",
    "    # Berechne die Inferenz-Zeit\n",
    "    inference_time = end_time - start_time\n",
    "\n",
    "    # Dekodiere die Ausgabe\n",
    "    output_text = tokenizer.decode(outputs[0], skip_special_tokens=True)\n",
    "\n",
    "    # Berchnung des Ergebnis\n",
    "    #number_of_words = len(output_text.split())\n",
    "    number_of_tokens = len(outputs[0])\n",
    "    memory_usage = round((torch.cuda.memory_allocated() / (1024 **3)),2)\n",
    "    token_per_second = number_of_tokens/inference_time\n",
    "    token_avg_list.append(token_per_second)\n",
    "    memory_avg_list.append(memory_usage)\n",
    "    result = [model_id,token_per_second, inference_time, memory_usage, question, output_text]\n",
    "    print(result)\n",
    "    append_data(result)\n",
    "\n",
    "token_avg = mean(token_avg_list)\n",
    "memory_avg = mean(memory_avg_list)\n",
    "result_avg = [model_id, token_avg, memory_avg]\n",
    "append_avg(result_avg)\n",
    "print(result_avg)\n"
   ]
  },
  {
   "cell_type": "markdown",
   "id": "529f63a6-bc00-4650-b1f4-f93722e6c5e4",
   "metadata": {
    "jp-MarkdownHeadingCollapsed": true,
    "tags": []
   },
   "source": [
    "### Beispiel von HF für AWQ Models"
   ]
  },
  {
   "cell_type": "code",
   "execution_count": null,
   "id": "8a0e7e1e-8df8-4f83-8b19-efe34caedd64",
   "metadata": {
    "tags": []
   },
   "outputs": [],
   "source": [
    "from awq import AutoAWQForCausalLM\n",
    "from transformers import AutoTokenizer\n",
    "\n",
    "model_name_or_path = model_loc\n",
    "\n",
    "# Load model\n",
    "model = AutoAWQForCausalLM.from_quantized(model_name_or_path, fuse_layers=True,\n",
    "                                          trust_remote_code=True, safetensors=True)\n",
    "tokenizer = AutoTokenizer.from_pretrained(model_name_or_path, trust_remote_code=True)\n",
    "\n",
    "prompt = \"Tell me about AI\"\n",
    "prompt_template=f'''{prompt}\n",
    "\n",
    "'''\n",
    "\n",
    "print(\"\\n\\n*** Generate:\")\n",
    "\n",
    "tokens = tokenizer(\n",
    "    prompt_template,\n",
    "    return_tensors='pt'\n",
    ").input_ids.cuda()\n",
    "\n",
    "# Generate output\n",
    "generation_output = model.generate(\n",
    "    tokens,\n",
    "    do_sample=True,\n",
    "    temperature=0.7,\n",
    "    top_p=0.95,\n",
    "    top_k=40,\n",
    "    max_new_tokens=512\n",
    ")\n",
    "\n",
    "print(\"Output: \", tokenizer.decode(generation_output[0]))\n"
   ]
  },
  {
   "cell_type": "code",
   "execution_count": null,
   "id": "e6bee7fd-3a94-40a4-90c9-a5b2b8426754",
   "metadata": {
    "tags": []
   },
   "outputs": [],
   "source": [
    "from transformers import AutoModelForCausalLM, AutoTokenizer, pipeline\n",
    "\n",
    "model_name_or_path = \"TheBloke/em_german_mistral_v01-GPTQ\"\n",
    "# To use a different branch, change revision\n",
    "# For example: revision=\"gptq-4bit-32g-actorder_True\"\n",
    "model = AutoModelForCausalLM.from_pretrained(model_name_or_path,\n",
    "                                             device_map=\"auto\",\n",
    "                                             trust_remote_code=False,\n",
    "                                             revision=\"main\")\n",
    "\n",
    "tokenizer = AutoTokenizer.from_pretrained(model_name_or_path, use_fast=True)\n",
    "\n",
    "prompt = \"Warum soll ich gesund essen?\"\n",
    "prompt_template=f'''Du bist ein hilfreicher Assistent. USER: {prompt} ASSISTANT:\n",
    "'''\n",
    "\n",
    "print(\"\\n\\n*** Generate:\")\n",
    "\n",
    "input_ids = tokenizer(prompt_template, return_tensors='pt').input_ids.cuda()\n",
    "output = model.generate(inputs=input_ids, temperature=0.7, do_sample=True, top_p=0.95, top_k=40, max_new_tokens=512)\n",
    "print(tokenizer.decode(output[0]))\n"
   ]
  },
  {
   "cell_type": "code",
   "execution_count": 7,
   "id": "7ffa84fe-1000-4060-a497-83f7d7fa5719",
   "metadata": {},
   "outputs": [],
   "source": [
    "del model # Specify variable\n",
    "torch.cuda.empty_cache()"
   ]
  },
  {
   "cell_type": "code",
   "execution_count": null,
   "id": "8bc1e67b-bd73-4be8-8985-bc7be12de04b",
   "metadata": {},
   "outputs": [],
   "source": []
  }
 ],
 "metadata": {
  "kernelspec": {
   "display_name": "inference12",
   "language": "python",
   "name": "inference12"
  },
  "language_info": {
   "codemirror_mode": {
    "name": "ipython",
    "version": 3
   },
   "file_extension": ".py",
   "mimetype": "text/x-python",
   "name": "python",
   "nbconvert_exporter": "python",
   "pygments_lexer": "ipython3",
   "version": "3.10.0"
  }
 },
 "nbformat": 4,
 "nbformat_minor": 5
}
