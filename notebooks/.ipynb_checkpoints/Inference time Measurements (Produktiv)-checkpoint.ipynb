{
 "cells": [
  {
   "cell_type": "markdown",
   "id": "1ae2d401-5489-46dc-88b7-73ad6c6d3bad",
   "metadata": {
    "jp-MarkdownHeadingCollapsed": true,
    "tags": []
   },
   "source": [
    "## Old"
   ]
  },
  {
   "cell_type": "markdown",
   "id": "749fb1ae-5a15-49cf-8cf1-cbcbb59b4bc7",
   "metadata": {},
   "source": [
    "### Importieren der Klassen"
   ]
  },
  {
   "cell_type": "code",
   "execution_count": null,
   "id": "1fb41a6c-b844-4b75-b3b6-40ccaa6fd134",
   "metadata": {
    "tags": []
   },
   "outputs": [],
   "source": [
    "import time\n",
    "import torch\n",
    "import transformers\n",
    "from transformers import AutoTokenizer, AutoModelForCausalLM, BitsAndBytesConfig\n",
    "import bitsandbytes as bnb\n",
    "import accelerate"
   ]
  },
  {
   "cell_type": "markdown",
   "id": "086184b8-7c23-4d03-814e-782bf9bf11b7",
   "metadata": {},
   "source": [
    "### Festlegen des Modells"
   ]
  },
  {
   "cell_type": "code",
   "execution_count": null,
   "id": "bba8932f-6a50-4b70-aa75-8aa20571ff4d",
   "metadata": {
    "tags": []
   },
   "outputs": [],
   "source": [
    "model_id=\"/home/thsch026/masterarbeit/models/generated/llm-awq/Meta-Llama-3-8B-Instruct-HF-AWQ-4bit\""
   ]
  },
  {
   "cell_type": "markdown",
   "id": "c79d4441-2950-4b88-a4ff-39589bbb08d2",
   "metadata": {
    "tags": []
   },
   "source": [
    "### Initialisieren des Modells"
   ]
  },
  {
   "cell_type": "code",
   "execution_count": null,
   "id": "911c81b9-1c3f-494c-a8f4-2d2d6f2b8dd8",
   "metadata": {},
   "outputs": [],
   "source": [
    "\n",
    "tokenizer = AutoTokenizer.from_pretrained(model_id)\n",
    "model_id = \"meta-llama/Meta-Llama-3-8B-Instruct\"\n",
    "quantization_config = BitsAndBytesConfig(load_in_4bit=True, bnb_4bit_compute_dtype=torch.bfloat16)\n",
    "\n",
    "model = AutoModelForCausalLM.from_pretrained(\n",
    "    model_id,\n",
    "    trust_remote_code=True,\n",
    "    quantization_config=quantization_config, #load_in_8bit=True,#\n",
    "    device_map='auto',\n",
    "    token='<EOL>'\n",
    ")\n",
    "#peft_model = \"BojanaBas/Meta-Llama-3-8B-Instruct-pqa-10\"\n",
    "#model = PeftModel.from_pretrained(base_model, peft_model)"
   ]
  },
  {
   "cell_type": "markdown",
   "id": "2af0835d-38d5-4be2-97f3-d32e45bb6510",
   "metadata": {},
   "source": [
    "### Inferenz Test"
   ]
  },
  {
   "cell_type": "markdown",
   "id": "1ab0212d-3b3a-4eb3-879a-6da6f9520374",
   "metadata": {},
   "source": [
    "### Autoawq library is needed to test inference with AWQ Models"
   ]
  },
  {
   "cell_type": "code",
   "execution_count": null,
   "id": "c87aba23-5f11-42ca-b81b-6f924586513d",
   "metadata": {
    "tags": []
   },
   "outputs": [],
   "source": [
    "pip install autoawq"
   ]
  },
  {
   "cell_type": "code",
   "execution_count": null,
   "id": "9015bb47-a9ad-4180-a267-90f9326b1106",
   "metadata": {
    "tags": []
   },
   "outputs": [],
   "source": [
    "# Eingabetext\n",
    "input_text = \"Once upon a time\"\n",
    "#input_text = \"Why should I eat healthy?\"\n",
    "\n",
    "# Tokenisiere den Eingabetext\n",
    "input_ids = tokenizer.encode(input_text, return_tensors='pt')\n",
    "\n",
    "# Messe die Zeit vor der Inferenz\n",
    "start_time = time.time()\n",
    "\n",
    "# Führe die Inferenz durch\n",
    "outputs = model.generate(input_ids, max_length=50)\n",
    "\n",
    "# Messe die Zeit nach der Inferenz\n",
    "end_time = time.time()\n",
    "\n",
    "# Berechne die Inferenz-Zeit\n",
    "inference_time = end_time - start_time\n",
    "\n",
    "# Dekodiere die Ausgabe\n",
    "output_text = tokenizer.decode(outputs[0], skip_special_tokens=True)\n",
    "number_of_words = len(output_text.split())\n",
    "number_of_tokens = len(outputs[0])\n",
    "\n",
    "token_per_second = number_of_tokens/inference_time\n",
    "\n",
    "print(f\"Inferenz-Zeit: {inference_time} Sekunden\")\n",
    "print(f\"Output: {output_text}\")\n",
    "print(\"Tokens per second: \", token_per_second)\n",
    "\n"
   ]
  },
  {
   "cell_type": "code",
   "execution_count": null,
   "id": "16792f78-12ba-48e8-9a19-f1675d48c46f",
   "metadata": {},
   "outputs": [],
   "source": [
    "import csv\n",
    "\n",
    "# Die neuen Daten, die hinzugefügt werden sollen\n",
    "neue_daten = ['Lukas', 28]\n",
    "\n",
    "# Öffne die Datei im Anhangsmodus ('a' steht für append)\n",
    "with open('daten.csv', mode='a', newline='') as file:\n",
    "    writer = csv.writer(file)\n",
    "    \n",
    "    # Schreibe die neuen Daten in die CSV-Datei\n",
    "    writer.writerow(neue_daten)\n",
    "\n",
    "print(\"Neue Daten erfolgreich hinzugefügt.\")"
   ]
  },
  {
   "cell_type": "code",
   "execution_count": null,
   "id": "66e4c0ba-cebb-48bc-84f2-0916b8869830",
   "metadata": {},
   "outputs": [],
   "source": [
    "pip install sentencepiece"
   ]
  },
  {
   "cell_type": "markdown",
   "id": "df63ba6c-7a05-4ad8-9731-c24e1cb9bb01",
   "metadata": {
    "tags": []
   },
   "source": [
    "## Evaluierung Modelle"
   ]
  },
  {
   "cell_type": "markdown",
   "id": "c05cdc7a-fc84-4f70-b419-5071a1a37ff2",
   "metadata": {
    "jp-MarkdownHeadingCollapsed": true,
    "tags": []
   },
   "source": [
    "### Sentencepiece muss ggf. noch mal installiert werden für Mistral (fast tokenizer)"
   ]
  },
  {
   "cell_type": "code",
   "execution_count": null,
   "id": "23d6026d-5fbb-43c5-b93e-b96dc8eafed9",
   "metadata": {},
   "outputs": [],
   "source": [
    "pip install sentencepiece"
   ]
  },
  {
   "cell_type": "markdown",
   "id": "1e30b253-4a58-4ba9-9a75-f3a553365b89",
   "metadata": {
    "tags": []
   },
   "source": [
    "### Laden der libaries und festlegen der GPU"
   ]
  },
  {
   "cell_type": "code",
   "execution_count": 1,
   "id": "1de386e7-4cb0-4987-9d7e-38fc6ec2bdc9",
   "metadata": {
    "tags": []
   },
   "outputs": [
    {
     "name": "stdout",
     "output_type": "stream",
     "text": [
      "1\n"
     ]
    }
   ],
   "source": [
    "import os\n",
    "\n",
    "os.environ[\"PYTORCH_CUDA_ALLOC_CONF\"] = \"max_split_size_mb:256\"\n",
    "os.environ[\"CUDA_VISIBLE_DEVICES\"] = \"1\"\n",
    "!echo $CUDA_VISIBLE_DEVICES\n",
    "# torch.cuda.set_device(1)"
   ]
  },
  {
   "cell_type": "code",
   "execution_count": 6,
   "id": "357aed18-c488-4c52-8177-26af6f01e4a0",
   "metadata": {
    "tags": []
   },
   "outputs": [
    {
     "name": "stdout",
     "output_type": "stream",
     "text": [
      "Requirement already satisfied: packaging in /home/thsch026/my-envs/inference/lib/python3.10/site-packages (24.1)\n",
      "Note: you may need to restart the kernel to use updated packages.\n"
     ]
    }
   ],
   "source": [
    "pip install packaging"
   ]
  },
  {
   "cell_type": "code",
   "execution_count": 2,
   "id": "e57cfb40-2d1c-4f5f-adc0-9134f7f08c46",
   "metadata": {
    "tags": []
   },
   "outputs": [],
   "source": [
    "import time\n",
    "import torch\n",
    "import transformers\n",
    "from transformers import AutoTokenizer, AutoModelForCausalLM, BitsAndBytesConfig\n",
    "import bitsandbytes as bnb\n",
    "import accelerate\n",
    "import csv"
   ]
  },
  {
   "cell_type": "markdown",
   "id": "ad42e67d-5f77-419a-bed4-7cb0f1f2cb11",
   "metadata": {},
   "source": [
    "### Ergebnis Dateien"
   ]
  },
  {
   "cell_type": "code",
   "execution_count": 3,
   "id": "993981e1-1528-4ea8-b4ef-cca2461b922e",
   "metadata": {
    "tags": []
   },
   "outputs": [],
   "source": [
    "full_csv= \"/home/thsch026/masterarbeit/Slim/results/inference/inference_full.csv\"\n",
    "data_csv= \"/home/thsch026/masterarbeit/Slim/results/inference/inference_data_only.csv\""
   ]
  },
  {
   "cell_type": "markdown",
   "id": "a740d057-2c5f-48fb-89ab-b69dbb4eabd9",
   "metadata": {
    "jp-MarkdownHeadingCollapsed": true,
    "tags": []
   },
   "source": [
    "##  1. Referenz Modelle"
   ]
  },
  {
   "cell_type": "markdown",
   "id": "e4ab7136-9c90-40d2-b7c0-495b09e3edbc",
   "metadata": {
    "jp-MarkdownHeadingCollapsed": true,
    "tags": []
   },
   "source": [
    "### Llama-3-8B-Instruct"
   ]
  },
  {
   "cell_type": "code",
   "execution_count": null,
   "id": "edba68fd-af1a-4718-8701-aeb759c15015",
   "metadata": {
    "tags": []
   },
   "outputs": [],
   "source": [
    "model_id =\"Meta-Llama-3-8B-Instruct\"\n",
    "model_loc = \"meta-llama/Meta-Llama-3-8B-Instruct\""
   ]
  },
  {
   "cell_type": "markdown",
   "id": "f09dbea4-d24c-43b4-b174-1ce3a9e9bcd4",
   "metadata": {
    "jp-MarkdownHeadingCollapsed": true,
    "tags": []
   },
   "source": [
    "### Mistral-7B-Instruct-v0.2"
   ]
  },
  {
   "cell_type": "code",
   "execution_count": null,
   "id": "c612ad07-641b-4ec5-8575-ed42951820a4",
   "metadata": {
    "tags": []
   },
   "outputs": [],
   "source": [
    "model_id = \"Mistral-7B-Instruct-v0.2\"\n",
    "model_loc = \"mistralai/Mistral-7B-Instruct-v0.2\""
   ]
  },
  {
   "cell_type": "markdown",
   "id": "debccc23-2cd3-4695-a303-29c46813b7fa",
   "metadata": {
    "jp-MarkdownHeadingCollapsed": true,
    "tags": []
   },
   "source": [
    "### Llama-2-7b-chat-hf"
   ]
  },
  {
   "cell_type": "code",
   "execution_count": null,
   "id": "65143c68-c364-42bb-97f9-1eb2a4e59c0a",
   "metadata": {
    "tags": []
   },
   "outputs": [],
   "source": [
    "model_id = \"Llama-2-7b-chat-hf\"\n",
    "model_loc = \"meta-llama/Llama-2-7b-chat-hf\""
   ]
  },
  {
   "cell_type": "markdown",
   "id": "591f1d89-5918-4afe-93b4-c89a43de1070",
   "metadata": {
    "jp-MarkdownHeadingCollapsed": true,
    "tags": []
   },
   "source": [
    "## 2. AWQ Modelle"
   ]
  },
  {
   "cell_type": "markdown",
   "id": "fec0a0f1-2798-4c82-940d-ded98e46a78d",
   "metadata": {
    "jp-MarkdownHeadingCollapsed": true,
    "tags": []
   },
   "source": [
    "### Llama-3-8B-Instruct-HF-AWQ-4bit"
   ]
  },
  {
   "cell_type": "code",
   "execution_count": null,
   "id": "427a6178-f8f0-4c2c-8404-2858df0f78b3",
   "metadata": {
    "tags": []
   },
   "outputs": [],
   "source": [
    "model_path = \"/home/thsch026/masterarbeit/models/generated/llm-awq/\"\n",
    "model_id = \"Meta-Llama-3-8B-Instruct-HF-AWQ-4bit\"\n",
    "model_loc = model_path + model_id"
   ]
  },
  {
   "cell_type": "markdown",
   "id": "3eb61b69-ec27-4e61-81c5-dc39db441407",
   "metadata": {
    "tags": []
   },
   "source": [
    "### Mistral-7B-Instruct-v0.2-AWQ-4bit"
   ]
  },
  {
   "cell_type": "code",
   "execution_count": null,
   "id": "1f4644b0-0c07-4525-a262-5e5092965137",
   "metadata": {
    "tags": []
   },
   "outputs": [],
   "source": [
    "model_path = \"/home/thsch026/masterarbeit/models/generated/llm-awq/\"\n",
    "model_id = \"Mistral-7B-Instruct-v0.2-AWQ-4bit\"\n",
    "model_loc = model_path + model_id"
   ]
  },
  {
   "cell_type": "markdown",
   "id": "ff33ab1a-31f6-46fb-8f6e-1d735517611e",
   "metadata": {
    "jp-MarkdownHeadingCollapsed": true,
    "tags": []
   },
   "source": [
    "### Llama-2-7b-chat-HF-AWQ-4bit"
   ]
  },
  {
   "cell_type": "code",
   "execution_count": null,
   "id": "26a08e90-bbc7-41ac-aa94-8b49c873df1b",
   "metadata": {
    "tags": []
   },
   "outputs": [],
   "source": [
    "model_path = \"/home/thsch026/masterarbeit/models/generated/llm-awq/\"\n",
    "model_id = \"Llama-2-7b-chat-HF-AWQ-4bit\"\n",
    "model_loc = model_path + model_id"
   ]
  },
  {
   "cell_type": "code",
   "execution_count": null,
   "id": "6d59293b-6efa-4cc7-8959-01c8b6078248",
   "metadata": {
    "tags": []
   },
   "outputs": [],
   "source": [
    "model_path = \"/home/thsch026/masterarbeit/models/generated/awq/quant/\"\n",
    "model_id = \"Meta-Llama-3-8B-Instruct-HF-w8-g128-awq-v2.pt\"\n",
    "model_loc = model_path + model_id"
   ]
  },
  {
   "cell_type": "markdown",
   "id": "54021899-6689-45cb-b6c8-6805645bc3a1",
   "metadata": {
    "tags": []
   },
   "source": [
    "## 3. Pruned Models (shortened-LLM)"
   ]
  },
  {
   "cell_type": "markdown",
   "id": "2048b853-dfc4-4a59-909b-5bb9f98f0898",
   "metadata": {
    "jp-MarkdownHeadingCollapsed": true,
    "tags": []
   },
   "source": [
    "### Meta-Llama-3-8B"
   ]
  },
  {
   "cell_type": "code",
   "execution_count": null,
   "id": "9a82db0d-4996-4b89-834b-4dc8cdf40b8d",
   "metadata": {
    "tags": []
   },
   "outputs": [],
   "source": [
    "model_loc = \"/home/thsch026/masterarbeit/models/generated/prune/shortened-llm/Meta-Llama-3-8B\"\n",
    "model_id = \"Meta-Llama-3-8B_pruned_llm-shortened\""
   ]
  },
  {
   "cell_type": "markdown",
   "id": "6483eb73-5af8-4942-9685-650ce9558326",
   "metadata": {
    "jp-MarkdownHeadingCollapsed": true,
    "tags": []
   },
   "source": [
    "### Llama-2-7b-hf (schlechtes Ergebnis)"
   ]
  },
  {
   "cell_type": "code",
   "execution_count": null,
   "id": "83a41d8b-92f9-4fec-aaa8-4af2a3c2c98c",
   "metadata": {
    "tags": []
   },
   "outputs": [],
   "source": [
    "model_loc = \"/home/thsch026/masterarbeit/models/generated/prune/shortened-llm/Llama-2-7b-hf\"\n",
    "model_id = \"Llama-2-7b-hf_pruned_llm-shortened\""
   ]
  },
  {
   "cell_type": "markdown",
   "id": "80eb2f74-9dce-46ca-a352-131d286967e5",
   "metadata": {
    "jp-MarkdownHeadingCollapsed": true,
    "tags": []
   },
   "source": [
    "### Mistral-7B-Instruct"
   ]
  },
  {
   "cell_type": "code",
   "execution_count": null,
   "id": "d6d29fad-5f12-4fdf-8e89-d72802527710",
   "metadata": {
    "tags": []
   },
   "outputs": [],
   "source": [
    "model_loc = \"/home/thsch026/masterarbeit/models/generated/prune/shortened-llm/Mistral-7B-Instruct\"\n",
    "model_id = \"Mistral-7B-Instruct_pruned_llm-shortened\""
   ]
  },
  {
   "cell_type": "markdown",
   "id": "5ad3ccb3-1cac-441e-9c7d-a27b4118ed6c",
   "metadata": {
    "jp-MarkdownHeadingCollapsed": true,
    "tags": []
   },
   "source": [
    "## 4. Lora Models"
   ]
  },
  {
   "cell_type": "markdown",
   "id": "936a2b36-d74a-41b6-a118-b2a333d2be68",
   "metadata": {},
   "source": [
    "#### Meta-Llama-3-8B_ms-marco (Kein gutes Ergebnis)"
   ]
  },
  {
   "cell_type": "code",
   "execution_count": 12,
   "id": "750851c6-986b-4b03-a782-b86025d109b0",
   "metadata": {
    "tags": []
   },
   "outputs": [],
   "source": [
    "model_loc = \"/home/thsch026/masterarbeit/models/generated/lora/Meta-Llama-3-8B_ms-marco/model\"\n",
    "model_id = \"Meta-Llama-3-8B_ms-marco\""
   ]
  },
  {
   "cell_type": "code",
   "execution_count": null,
   "id": "b6fe523b-5400-4c5e-acab-9de3491c0158",
   "metadata": {},
   "outputs": [],
   "source": []
  },
  {
   "cell_type": "code",
   "execution_count": null,
   "id": "3c77e3aa-d61e-42c7-971c-c7bf04f9e226",
   "metadata": {},
   "outputs": [],
   "source": []
  },
  {
   "cell_type": "markdown",
   "id": "52234743-5342-4575-bc8f-a3a5648bbe8e",
   "metadata": {
    "jp-MarkdownHeadingCollapsed": true,
    "tags": []
   },
   "source": [
    "##  5. Qlora Models"
   ]
  },
  {
   "cell_type": "markdown",
   "id": "2d295691-3815-4d68-9756-8f21b57cffa0",
   "metadata": {
    "jp-MarkdownHeadingCollapsed": true,
    "tags": []
   },
   "source": [
    "### Meta-Llama-3-8B-Instruct_qlora"
   ]
  },
  {
   "cell_type": "code",
   "execution_count": null,
   "id": "3f09e204-2574-4e1d-9525-397c68f6c59b",
   "metadata": {
    "tags": []
   },
   "outputs": [],
   "source": [
    "model_loc = \"/home/thsch026/masterarbeit/models/generated/qlora/Meta-Llama-3-8B-Instruct_qlora\"\n",
    "model_id = \"Meta-Llama-3-8B-Instruct_qlora\""
   ]
  },
  {
   "cell_type": "markdown",
   "id": "3b86211c-58c4-451a-8aad-9fd2e87b8b1b",
   "metadata": {
    "jp-MarkdownHeadingCollapsed": true,
    "tags": []
   },
   "source": [
    "### Mistral-7B-Instruct-v0.2_qlora"
   ]
  },
  {
   "cell_type": "code",
   "execution_count": null,
   "id": "ff3456e0-8a11-4747-923b-d45efaf21e57",
   "metadata": {
    "tags": []
   },
   "outputs": [],
   "source": [
    "model_loc = \"/home/thsch026/masterarbeit/models/generated/qlora/Mistral-7B-Instruct-v0.2_qlora\"\n",
    "model_id = \"Mistral-7B-Instruct-v0.2_qlora\""
   ]
  },
  {
   "cell_type": "markdown",
   "id": "3995301f-a7ab-4cc2-be5a-3fe8b73a21b1",
   "metadata": {
    "tags": []
   },
   "source": [
    "### llama-2-7b-chat_qlora (Fehlt noch)"
   ]
  },
  {
   "cell_type": "code",
   "execution_count": null,
   "id": "aa741a7d-1ce7-40f5-85a1-8ac046fd7261",
   "metadata": {
    "tags": []
   },
   "outputs": [],
   "source": [
    "model_loc = \"/home/thsch026/masterarbeit/models/generated/qlora/llama-2-7b-chat_qlora\"\n",
    "model_id = \"llama-2-7b-chat_qlora\""
   ]
  },
  {
   "cell_type": "markdown",
   "id": "e79403c4-5b32-45c7-9d4a-9202960d19fc",
   "metadata": {
    "jp-MarkdownHeadingCollapsed": true,
    "tags": []
   },
   "source": [
    "## 6. Prune + Lora Models (shortened-LLM)"
   ]
  },
  {
   "cell_type": "markdown",
   "id": "ec746b6d-13dd-4076-a963-850e24e41d77",
   "metadata": {},
   "source": [
    "#### Meta-Llama-3-8B"
   ]
  },
  {
   "cell_type": "code",
   "execution_count": 4,
   "id": "ee28e905-cdd4-438e-afd1-4057ef8e6f2a",
   "metadata": {
    "tags": []
   },
   "outputs": [],
   "source": [
    "model_loc = \"/home/thsch026/masterarbeit/models/generated/prune_plus_lora/shortened-llm/Meta-Llama-3-8B_prune_lora\"\n",
    "model_id = \"Meta-Llama-3-8B_prune_lora\""
   ]
  },
  {
   "cell_type": "markdown",
   "id": "e41b5d54-b7ce-4d02-bc31-fff91f571229",
   "metadata": {},
   "source": [
    "#### Llama-2-7b-hf_prune_lora"
   ]
  },
  {
   "cell_type": "code",
   "execution_count": 8,
   "id": "358a1bc1-c349-471d-9619-a7f990a79d51",
   "metadata": {
    "tags": []
   },
   "outputs": [],
   "source": [
    "model_loc = \"/home/thsch026/masterarbeit/models/generated/prune_plus_lora/shortened-llm/Llama-2-7b-hf_prune_lora\"\n",
    "model_id = \"Llama-2-7b-hf_prune_lora\""
   ]
  },
  {
   "cell_type": "markdown",
   "id": "3e9a8491-d334-4f15-ab58-80f9a3a8b6f1",
   "metadata": {},
   "source": [
    "#### Mistral-7B-Instruct_prune_lora"
   ]
  },
  {
   "cell_type": "code",
   "execution_count": 4,
   "id": "91e863a6-a0c2-484d-9bcf-a6e08f1a1834",
   "metadata": {
    "tags": []
   },
   "outputs": [],
   "source": [
    "model_loc = \"/home/thsch026/masterarbeit/models/generated/prune_plus_lora/shortened-llm/Mistral-7B-Instruct_prune_lora\"\n",
    "model_id = \"Mistral-7B-Instruct_prune_lora\""
   ]
  },
  {
   "cell_type": "markdown",
   "id": "c06aa4a7-700d-4fe2-a6e1-caf5412620d8",
   "metadata": {},
   "source": [
    "## 7. Prune + Lora + AWQ Models"
   ]
  },
  {
   "cell_type": "markdown",
   "id": "e1b106f3-b689-4f66-959d-741cbd80c7d1",
   "metadata": {
    "jp-MarkdownHeadingCollapsed": true,
    "tags": []
   },
   "source": [
    "#### Mistral-7B-Instruct_prune_lora_awq"
   ]
  },
  {
   "cell_type": "code",
   "execution_count": 4,
   "id": "db0f508c-f8c3-45b5-90bd-d2ebd89d9458",
   "metadata": {
    "tags": []
   },
   "outputs": [],
   "source": [
    "model_loc = \"/home/thsch026/masterarbeit/models/generated/prune_plus_lora_plus_awq/Mistral-7B-Instruct-v02_prune_lora_awq\"\n",
    "model_id = \"Mistral-7B-Instruct_prune_lora_awq\""
   ]
  },
  {
   "cell_type": "markdown",
   "id": "a1295e2a-ddc3-4876-9440-86dbfd0efa3c",
   "metadata": {
    "jp-MarkdownHeadingCollapsed": true,
    "tags": []
   },
   "source": [
    "#### Meta-Llama-3-8B_prune_lora_awq"
   ]
  },
  {
   "cell_type": "code",
   "execution_count": 8,
   "id": "efa35d37-8c34-48aa-a957-8df37b280c4b",
   "metadata": {
    "tags": []
   },
   "outputs": [],
   "source": [
    "model_loc = \"/home/thsch026/masterarbeit/models/generated/prune_plus_lora_plus_awq/Meta-Llama-3-8B_prune_lora_awq\"\n",
    "model_id =\"Meta-Llama-3-8B_prune_lora_awq\""
   ]
  },
  {
   "cell_type": "markdown",
   "id": "7a0e5d84-707f-40e0-ad48-c030230a8bf1",
   "metadata": {
    "tags": []
   },
   "source": [
    "#### Llama-2-7b-chat-hf_prune_lora_awq"
   ]
  },
  {
   "cell_type": "code",
   "execution_count": 12,
   "id": "19aea15c-da65-41c6-96e6-fff44cddc23c",
   "metadata": {
    "tags": []
   },
   "outputs": [],
   "source": [
    "model_loc = \"/home/thsch026/masterarbeit/models/generated/prune_plus_lora_plus_awq/Llama-2-7b-chat-hf_prune_lora_awq\"\n",
    "model_id =\"Llama-2-7b-chat-hf_prune_lora_awq\""
   ]
  },
  {
   "cell_type": "markdown",
   "id": "430fede0-c533-44e4-98f2-a18558ec82f7",
   "metadata": {},
   "source": [
    "#### Llama-3-8B-Instruct-prune-lora-ggu"
   ]
  },
  {
   "cell_type": "code",
   "execution_count": 5,
   "id": "088c031e-71f2-4635-bae9-5a08eacc094b",
   "metadata": {
    "tags": []
   },
   "outputs": [],
   "source": [
    "model_loc = \"/home/thsch026/masterarbeit/models/generated/prune_lora_gguf/Llama_3_8B_Instruct-prune-lora-gguf\"\n",
    "model_id = \"Llama-3-8B-Instruct-prune-lora-gguf\""
   ]
  },
  {
   "cell_type": "markdown",
   "id": "46418667-8aa4-4a9e-a2c5-9bf8a8adc04f",
   "metadata": {},
   "source": [
    "## Inference Task"
   ]
  },
  {
   "cell_type": "markdown",
   "id": "e09340b3-5eca-4527-9b13-8c10a8ef9899",
   "metadata": {
    "tags": []
   },
   "source": [
    "### Laden des Modells"
   ]
  },
  {
   "cell_type": "code",
   "execution_count": 6,
   "id": "08332cb9-b9ed-45c8-a7fe-6d5374421209",
   "metadata": {},
   "outputs": [
    {
     "name": "stderr",
     "output_type": "stream",
     "text": [
      "Special tokens have been added in the vocabulary, make sure the associated word embeddings are fine-tuned or trained.\n"
     ]
    },
    {
     "ename": "ImportError",
     "evalue": "cannot import name 'packaging' from 'pkg_resources' (/home/thsch026/my-envs/inference/lib/python3.10/site-packages/pkg_resources/__init__.py)",
     "output_type": "error",
     "traceback": [
      "\u001b[0;31m---------------------------------------------------------------------------\u001b[0m",
      "\u001b[0;31mImportError\u001b[0m                               Traceback (most recent call last)",
      "Cell \u001b[0;32mIn[6], line 6\u001b[0m\n\u001b[1;32m      1\u001b[0m tokenizer \u001b[38;5;241m=\u001b[39m AutoTokenizer\u001b[38;5;241m.\u001b[39mfrom_pretrained(model_loc)\n\u001b[1;32m      3\u001b[0m \u001b[38;5;66;03m#quantization_config = BitsAndBytesConfig(load_in_4bit=True, bnb_4bit_compute_dtype=torch.bfloat16)\u001b[39;00m\n\u001b[1;32m      4\u001b[0m \u001b[38;5;66;03m#quantization_config = BitsAndBytesConfig(bnb_4bit_compute_dtype=torch.bfloat16)\u001b[39;00m\n\u001b[0;32m----> 6\u001b[0m model \u001b[38;5;241m=\u001b[39m \u001b[43mAutoModelForCausalLM\u001b[49m\u001b[38;5;241;43m.\u001b[39;49m\u001b[43mfrom_pretrained\u001b[49m\u001b[43m(\u001b[49m\n\u001b[1;32m      7\u001b[0m \u001b[43m    \u001b[49m\u001b[43mmodel_loc\u001b[49m\u001b[43m,\u001b[49m\n\u001b[1;32m      8\u001b[0m \u001b[43m    \u001b[49m\u001b[43mtrust_remote_code\u001b[49m\u001b[38;5;241;43m=\u001b[39;49m\u001b[38;5;28;43;01mTrue\u001b[39;49;00m\u001b[43m,\u001b[49m\n\u001b[1;32m      9\u001b[0m \u001b[43m    \u001b[49m\u001b[38;5;66;43;03m# Bei AWQ Modellen keine quantization config angeben\u001b[39;49;00m\n\u001b[1;32m     10\u001b[0m \u001b[43m   \u001b[49m\u001b[38;5;66;43;03m# quantization_config=quantization_config, #load_in_8bit=True\u001b[39;49;00m\n\u001b[1;32m     11\u001b[0m \u001b[43m    \u001b[49m\u001b[43mdevice_map\u001b[49m\u001b[38;5;241;43m=\u001b[39;49m\u001b[38;5;124;43m'\u001b[39;49m\u001b[38;5;124;43mcuda\u001b[39;49m\u001b[38;5;124;43m'\u001b[39;49m\n\u001b[1;32m     12\u001b[0m \u001b[43m)\u001b[49m\n",
      "File \u001b[0;32m~/my-envs/inference/lib/python3.10/site-packages/transformers/models/auto/auto_factory.py:563\u001b[0m, in \u001b[0;36m_BaseAutoModelClass.from_pretrained\u001b[0;34m(cls, pretrained_model_name_or_path, *model_args, **kwargs)\u001b[0m\n\u001b[1;32m    561\u001b[0m \u001b[38;5;28;01melif\u001b[39;00m \u001b[38;5;28mtype\u001b[39m(config) \u001b[38;5;129;01min\u001b[39;00m \u001b[38;5;28mcls\u001b[39m\u001b[38;5;241m.\u001b[39m_model_mapping\u001b[38;5;241m.\u001b[39mkeys():\n\u001b[1;32m    562\u001b[0m     model_class \u001b[38;5;241m=\u001b[39m _get_model_class(config, \u001b[38;5;28mcls\u001b[39m\u001b[38;5;241m.\u001b[39m_model_mapping)\n\u001b[0;32m--> 563\u001b[0m     \u001b[38;5;28;01mreturn\u001b[39;00m \u001b[43mmodel_class\u001b[49m\u001b[38;5;241;43m.\u001b[39;49m\u001b[43mfrom_pretrained\u001b[49m\u001b[43m(\u001b[49m\n\u001b[1;32m    564\u001b[0m \u001b[43m        \u001b[49m\u001b[43mpretrained_model_name_or_path\u001b[49m\u001b[43m,\u001b[49m\u001b[43m \u001b[49m\u001b[38;5;241;43m*\u001b[39;49m\u001b[43mmodel_args\u001b[49m\u001b[43m,\u001b[49m\u001b[43m \u001b[49m\u001b[43mconfig\u001b[49m\u001b[38;5;241;43m=\u001b[39;49m\u001b[43mconfig\u001b[49m\u001b[43m,\u001b[49m\u001b[43m \u001b[49m\u001b[38;5;241;43m*\u001b[39;49m\u001b[38;5;241;43m*\u001b[39;49m\u001b[43mhub_kwargs\u001b[49m\u001b[43m,\u001b[49m\u001b[43m \u001b[49m\u001b[38;5;241;43m*\u001b[39;49m\u001b[38;5;241;43m*\u001b[39;49m\u001b[43mkwargs\u001b[49m\n\u001b[1;32m    565\u001b[0m \u001b[43m    \u001b[49m\u001b[43m)\u001b[49m\n\u001b[1;32m    566\u001b[0m \u001b[38;5;28;01mraise\u001b[39;00m \u001b[38;5;167;01mValueError\u001b[39;00m(\n\u001b[1;32m    567\u001b[0m     \u001b[38;5;124mf\u001b[39m\u001b[38;5;124m\"\u001b[39m\u001b[38;5;124mUnrecognized configuration class \u001b[39m\u001b[38;5;132;01m{\u001b[39;00mconfig\u001b[38;5;241m.\u001b[39m\u001b[38;5;18m__class__\u001b[39m\u001b[38;5;132;01m}\u001b[39;00m\u001b[38;5;124m for this kind of AutoModel: \u001b[39m\u001b[38;5;132;01m{\u001b[39;00m\u001b[38;5;28mcls\u001b[39m\u001b[38;5;241m.\u001b[39m\u001b[38;5;18m__name__\u001b[39m\u001b[38;5;132;01m}\u001b[39;00m\u001b[38;5;124m.\u001b[39m\u001b[38;5;130;01m\\n\u001b[39;00m\u001b[38;5;124m\"\u001b[39m\n\u001b[1;32m    568\u001b[0m     \u001b[38;5;124mf\u001b[39m\u001b[38;5;124m\"\u001b[39m\u001b[38;5;124mModel type should be one of \u001b[39m\u001b[38;5;132;01m{\u001b[39;00m\u001b[38;5;124m'\u001b[39m\u001b[38;5;124m, \u001b[39m\u001b[38;5;124m'\u001b[39m\u001b[38;5;241m.\u001b[39mjoin(c\u001b[38;5;241m.\u001b[39m\u001b[38;5;18m__name__\u001b[39m\u001b[38;5;250m \u001b[39m\u001b[38;5;28;01mfor\u001b[39;00m\u001b[38;5;250m \u001b[39mc\u001b[38;5;250m \u001b[39m\u001b[38;5;129;01min\u001b[39;00m\u001b[38;5;250m \u001b[39m\u001b[38;5;28mcls\u001b[39m\u001b[38;5;241m.\u001b[39m_model_mapping\u001b[38;5;241m.\u001b[39mkeys())\u001b[38;5;132;01m}\u001b[39;00m\u001b[38;5;124m.\u001b[39m\u001b[38;5;124m\"\u001b[39m\n\u001b[1;32m    569\u001b[0m )\n",
      "File \u001b[0;32m~/my-envs/inference/lib/python3.10/site-packages/transformers/modeling_utils.py:3160\u001b[0m, in \u001b[0;36mPreTrainedModel.from_pretrained\u001b[0;34m(cls, pretrained_model_name_or_path, config, cache_dir, ignore_mismatched_sizes, force_download, local_files_only, token, revision, use_safetensors, *model_args, **kwargs)\u001b[0m\n\u001b[1;32m   3158\u001b[0m     \u001b[38;5;28;01melse\u001b[39;00m:\n\u001b[1;32m   3159\u001b[0m         config\u001b[38;5;241m.\u001b[39mquantization_config \u001b[38;5;241m=\u001b[39m quantization_config\n\u001b[0;32m-> 3160\u001b[0m     hf_quantizer \u001b[38;5;241m=\u001b[39m \u001b[43mAutoHfQuantizer\u001b[49m\u001b[38;5;241;43m.\u001b[39;49m\u001b[43mfrom_config\u001b[49m\u001b[43m(\u001b[49m\u001b[43mconfig\u001b[49m\u001b[38;5;241;43m.\u001b[39;49m\u001b[43mquantization_config\u001b[49m\u001b[43m,\u001b[49m\u001b[43m \u001b[49m\u001b[43mpre_quantized\u001b[49m\u001b[38;5;241;43m=\u001b[39;49m\u001b[43mpre_quantized\u001b[49m\u001b[43m)\u001b[49m\n\u001b[1;32m   3161\u001b[0m \u001b[38;5;28;01melse\u001b[39;00m:\n\u001b[1;32m   3162\u001b[0m     hf_quantizer \u001b[38;5;241m=\u001b[39m \u001b[38;5;28;01mNone\u001b[39;00m\n",
      "File \u001b[0;32m~/my-envs/inference/lib/python3.10/site-packages/transformers/quantizers/auto.py:124\u001b[0m, in \u001b[0;36mAutoHfQuantizer.from_config\u001b[0;34m(cls, quantization_config, **kwargs)\u001b[0m\n\u001b[1;32m    118\u001b[0m     \u001b[38;5;28;01mraise\u001b[39;00m \u001b[38;5;167;01mValueError\u001b[39;00m(\n\u001b[1;32m    119\u001b[0m         \u001b[38;5;124mf\u001b[39m\u001b[38;5;124m\"\u001b[39m\u001b[38;5;124mUnknown quantization type, got \u001b[39m\u001b[38;5;132;01m{\u001b[39;00mquant_method\u001b[38;5;132;01m}\u001b[39;00m\u001b[38;5;124m - supported types are:\u001b[39m\u001b[38;5;124m\"\u001b[39m\n\u001b[1;32m    120\u001b[0m         \u001b[38;5;124mf\u001b[39m\u001b[38;5;124m\"\u001b[39m\u001b[38;5;124m \u001b[39m\u001b[38;5;132;01m{\u001b[39;00m\u001b[38;5;28mlist\u001b[39m(AUTO_QUANTIZER_MAPPING\u001b[38;5;241m.\u001b[39mkeys())\u001b[38;5;132;01m}\u001b[39;00m\u001b[38;5;124m\"\u001b[39m\n\u001b[1;32m    121\u001b[0m     )\n\u001b[1;32m    123\u001b[0m target_cls \u001b[38;5;241m=\u001b[39m AUTO_QUANTIZER_MAPPING[quant_method]\n\u001b[0;32m--> 124\u001b[0m \u001b[38;5;28;01mreturn\u001b[39;00m \u001b[43mtarget_cls\u001b[49m\u001b[43m(\u001b[49m\u001b[43mquantization_config\u001b[49m\u001b[43m,\u001b[49m\u001b[43m \u001b[49m\u001b[38;5;241;43m*\u001b[39;49m\u001b[38;5;241;43m*\u001b[39;49m\u001b[43mkwargs\u001b[49m\u001b[43m)\u001b[49m\n",
      "File \u001b[0;32m~/my-envs/inference/lib/python3.10/site-packages/transformers/quantizers/quantizer_gptq.py:47\u001b[0m, in \u001b[0;36mGptqHfQuantizer.__init__\u001b[0;34m(self, quantization_config, **kwargs)\u001b[0m\n\u001b[1;32m     45\u001b[0m \u001b[38;5;28;01mdef\u001b[39;00m \u001b[38;5;21m__init__\u001b[39m(\u001b[38;5;28mself\u001b[39m, quantization_config: QuantizationConfigMixin, \u001b[38;5;241m*\u001b[39m\u001b[38;5;241m*\u001b[39mkwargs):\n\u001b[1;32m     46\u001b[0m     \u001b[38;5;28msuper\u001b[39m()\u001b[38;5;241m.\u001b[39m\u001b[38;5;21m__init__\u001b[39m(quantization_config, \u001b[38;5;241m*\u001b[39m\u001b[38;5;241m*\u001b[39mkwargs)\n\u001b[0;32m---> 47\u001b[0m     \u001b[38;5;28;01mfrom\u001b[39;00m \u001b[38;5;21;01moptimum\u001b[39;00m\u001b[38;5;21;01m.\u001b[39;00m\u001b[38;5;21;01mgptq\u001b[39;00m \u001b[38;5;28;01mimport\u001b[39;00m GPTQQuantizer\n\u001b[1;32m     49\u001b[0m     \u001b[38;5;28mself\u001b[39m\u001b[38;5;241m.\u001b[39moptimum_quantizer \u001b[38;5;241m=\u001b[39m GPTQQuantizer\u001b[38;5;241m.\u001b[39mfrom_dict(\u001b[38;5;28mself\u001b[39m\u001b[38;5;241m.\u001b[39mquantization_config\u001b[38;5;241m.\u001b[39mto_dict_optimum())\n",
      "File \u001b[0;32m~/my-envs/inference/lib/python3.10/site-packages/optimum/gptq/__init__.py:15\u001b[0m\n\u001b[1;32m      1\u001b[0m \u001b[38;5;66;03m# coding=utf-8\u001b[39;00m\n\u001b[1;32m      2\u001b[0m \u001b[38;5;66;03m# Copyright 2023 HuggingFace Inc. team.\u001b[39;00m\n\u001b[1;32m      3\u001b[0m \u001b[38;5;66;03m#\u001b[39;00m\n\u001b[0;32m   (...)\u001b[0m\n\u001b[1;32m     13\u001b[0m \u001b[38;5;66;03m# See the License for the specific language governing permissions and\u001b[39;00m\n\u001b[1;32m     14\u001b[0m \u001b[38;5;66;03m# limitations under the License.\u001b[39;00m\n\u001b[0;32m---> 15\u001b[0m \u001b[38;5;28;01mfrom\u001b[39;00m \u001b[38;5;21;01m.\u001b[39;00m\u001b[38;5;21;01mquantizer\u001b[39;00m \u001b[38;5;28;01mimport\u001b[39;00m GPTQQuantizer, load_quantized_model\n",
      "File \u001b[0;32m~/my-envs/inference/lib/python3.10/site-packages/optimum/gptq/quantizer.py:43\u001b[0m\n\u001b[1;32m     40\u001b[0m     \u001b[38;5;28;01mfrom\u001b[39;00m \u001b[38;5;21;01maccelerate\u001b[39;00m\u001b[38;5;21;01m.\u001b[39;00m\u001b[38;5;21;01mhooks\u001b[39;00m \u001b[38;5;28;01mimport\u001b[39;00m remove_hook_from_module\n\u001b[1;32m     42\u001b[0m \u001b[38;5;28;01mif\u001b[39;00m is_auto_gptq_available():\n\u001b[0;32m---> 43\u001b[0m     \u001b[38;5;28;01mfrom\u001b[39;00m \u001b[38;5;21;01mauto_gptq\u001b[39;00m \u001b[38;5;28;01mimport\u001b[39;00m exllama_set_max_input_length\n\u001b[1;32m     44\u001b[0m     \u001b[38;5;28;01mfrom\u001b[39;00m \u001b[38;5;21;01mauto_gptq\u001b[39;00m\u001b[38;5;21;01m.\u001b[39;00m\u001b[38;5;21;01mmodeling\u001b[39;00m\u001b[38;5;21;01m.\u001b[39;00m\u001b[38;5;21;01m_utils\u001b[39;00m \u001b[38;5;28;01mimport\u001b[39;00m autogptq_post_init\n\u001b[1;32m     45\u001b[0m     \u001b[38;5;28;01mfrom\u001b[39;00m \u001b[38;5;21;01mauto_gptq\u001b[39;00m\u001b[38;5;21;01m.\u001b[39;00m\u001b[38;5;21;01mquantization\u001b[39;00m \u001b[38;5;28;01mimport\u001b[39;00m GPTQ\n",
      "File \u001b[0;32m~/my-envs/inference/lib/python3.10/site-packages/auto_gptq/__init__.py:3\u001b[0m\n\u001b[1;32m      1\u001b[0m \u001b[38;5;28;01mfrom\u001b[39;00m \u001b[38;5;21;01m.\u001b[39;00m\u001b[38;5;21;01mmodeling\u001b[39;00m \u001b[38;5;28;01mimport\u001b[39;00m AutoGPTQForCausalLM, BaseQuantizeConfig\n\u001b[1;32m      2\u001b[0m \u001b[38;5;28;01mfrom\u001b[39;00m \u001b[38;5;21;01m.\u001b[39;00m\u001b[38;5;21;01mutils\u001b[39;00m\u001b[38;5;21;01m.\u001b[39;00m\u001b[38;5;21;01mexllama_utils\u001b[39;00m \u001b[38;5;28;01mimport\u001b[39;00m exllama_set_max_input_length\n\u001b[0;32m----> 3\u001b[0m \u001b[38;5;28;01mfrom\u001b[39;00m \u001b[38;5;21;01m.\u001b[39;00m\u001b[38;5;21;01mutils\u001b[39;00m\u001b[38;5;21;01m.\u001b[39;00m\u001b[38;5;21;01mpeft_utils\u001b[39;00m \u001b[38;5;28;01mimport\u001b[39;00m get_gptq_peft_model\n\u001b[1;32m      6\u001b[0m __version__ \u001b[38;5;241m=\u001b[39m \u001b[38;5;124m\"\u001b[39m\u001b[38;5;124m0.7.1\u001b[39m\u001b[38;5;124m\"\u001b[39m\n",
      "File \u001b[0;32m~/my-envs/inference/lib/python3.10/site-packages/auto_gptq/utils/peft_utils.py:6\u001b[0m\n\u001b[1;32m      3\u001b[0m \u001b[38;5;28;01mfrom\u001b[39;00m \u001b[38;5;21;01mtyping\u001b[39;00m \u001b[38;5;28;01mimport\u001b[39;00m List, Optional, Tuple, Union\n\u001b[1;32m      5\u001b[0m \u001b[38;5;28;01mimport\u001b[39;00m \u001b[38;5;21;01mtorch\u001b[39;00m\n\u001b[0;32m----> 6\u001b[0m \u001b[38;5;28;01mfrom\u001b[39;00m \u001b[38;5;21;01mpeft\u001b[39;00m \u001b[38;5;28;01mimport\u001b[39;00m PeftConfig, PeftModel, PeftType, get_peft_model\n\u001b[1;32m      7\u001b[0m \u001b[38;5;28;01mfrom\u001b[39;00m \u001b[38;5;21;01mpeft\u001b[39;00m\u001b[38;5;21;01m.\u001b[39;00m\u001b[38;5;21;01mmapping\u001b[39;00m \u001b[38;5;28;01mimport\u001b[39;00m PEFT_TYPE_TO_CONFIG_MAPPING\n\u001b[1;32m      8\u001b[0m \u001b[38;5;28;01mfrom\u001b[39;00m \u001b[38;5;21;01mpeft\u001b[39;00m\u001b[38;5;21;01m.\u001b[39;00m\u001b[38;5;21;01mpeft_model\u001b[39;00m \u001b[38;5;28;01mimport\u001b[39;00m PEFT_TYPE_TO_MODEL_MAPPING\n",
      "File \u001b[0;32m~/my-envs/inference/lib/python3.10/site-packages/peft/__init__.py:22\u001b[0m\n\u001b[1;32m      1\u001b[0m \u001b[38;5;66;03m# flake8: noqa\u001b[39;00m\n\u001b[1;32m      2\u001b[0m \u001b[38;5;66;03m# There's no way to ignore \"F401 '...' imported but unused\" warnings in this\u001b[39;00m\n\u001b[1;32m      3\u001b[0m \u001b[38;5;66;03m# module, but to preserve other warnings. So, don't check this module at all.\u001b[39;00m\n\u001b[0;32m   (...)\u001b[0m\n\u001b[1;32m     17\u001b[0m \u001b[38;5;66;03m# See the License for the specific language governing permissions and\u001b[39;00m\n\u001b[1;32m     18\u001b[0m \u001b[38;5;66;03m# limitations under the License.\u001b[39;00m\n\u001b[1;32m     20\u001b[0m __version__ \u001b[38;5;241m=\u001b[39m \u001b[38;5;124m\"\u001b[39m\u001b[38;5;124m0.11.1\u001b[39m\u001b[38;5;124m\"\u001b[39m\n\u001b[0;32m---> 22\u001b[0m \u001b[38;5;28;01mfrom\u001b[39;00m \u001b[38;5;21;01m.\u001b[39;00m\u001b[38;5;21;01mauto\u001b[39;00m \u001b[38;5;28;01mimport\u001b[39;00m (\n\u001b[1;32m     23\u001b[0m     AutoPeftModel,\n\u001b[1;32m     24\u001b[0m     AutoPeftModelForCausalLM,\n\u001b[1;32m     25\u001b[0m     AutoPeftModelForSequenceClassification,\n\u001b[1;32m     26\u001b[0m     AutoPeftModelForSeq2SeqLM,\n\u001b[1;32m     27\u001b[0m     AutoPeftModelForTokenClassification,\n\u001b[1;32m     28\u001b[0m     AutoPeftModelForQuestionAnswering,\n\u001b[1;32m     29\u001b[0m     AutoPeftModelForFeatureExtraction,\n\u001b[1;32m     30\u001b[0m )\n\u001b[1;32m     31\u001b[0m \u001b[38;5;28;01mfrom\u001b[39;00m \u001b[38;5;21;01m.\u001b[39;00m\u001b[38;5;21;01mmapping\u001b[39;00m \u001b[38;5;28;01mimport\u001b[39;00m (\n\u001b[1;32m     32\u001b[0m     MODEL_TYPE_TO_PEFT_MODEL_MAPPING,\n\u001b[1;32m     33\u001b[0m     PEFT_TYPE_TO_CONFIG_MAPPING,\n\u001b[0;32m   (...)\u001b[0m\n\u001b[1;32m     36\u001b[0m     inject_adapter_in_model,\n\u001b[1;32m     37\u001b[0m )\n\u001b[1;32m     38\u001b[0m \u001b[38;5;28;01mfrom\u001b[39;00m \u001b[38;5;21;01m.\u001b[39;00m\u001b[38;5;21;01mmixed_model\u001b[39;00m \u001b[38;5;28;01mimport\u001b[39;00m PeftMixedModel\n",
      "File \u001b[0;32m~/my-envs/inference/lib/python3.10/site-packages/peft/auto.py:32\u001b[0m\n\u001b[1;32m     21\u001b[0m \u001b[38;5;28;01mfrom\u001b[39;00m \u001b[38;5;21;01mtransformers\u001b[39;00m \u001b[38;5;28;01mimport\u001b[39;00m (\n\u001b[1;32m     22\u001b[0m     AutoModel,\n\u001b[1;32m     23\u001b[0m     AutoModelForCausalLM,\n\u001b[0;32m   (...)\u001b[0m\n\u001b[1;32m     28\u001b[0m     AutoTokenizer,\n\u001b[1;32m     29\u001b[0m )\n\u001b[1;32m     31\u001b[0m \u001b[38;5;28;01mfrom\u001b[39;00m \u001b[38;5;21;01m.\u001b[39;00m\u001b[38;5;21;01mconfig\u001b[39;00m \u001b[38;5;28;01mimport\u001b[39;00m PeftConfig\n\u001b[0;32m---> 32\u001b[0m \u001b[38;5;28;01mfrom\u001b[39;00m \u001b[38;5;21;01m.\u001b[39;00m\u001b[38;5;21;01mmapping\u001b[39;00m \u001b[38;5;28;01mimport\u001b[39;00m MODEL_TYPE_TO_PEFT_MODEL_MAPPING\n\u001b[1;32m     33\u001b[0m \u001b[38;5;28;01mfrom\u001b[39;00m \u001b[38;5;21;01m.\u001b[39;00m\u001b[38;5;21;01mpeft_model\u001b[39;00m \u001b[38;5;28;01mimport\u001b[39;00m (\n\u001b[1;32m     34\u001b[0m     PeftModel,\n\u001b[1;32m     35\u001b[0m     PeftModelForCausalLM,\n\u001b[0;32m   (...)\u001b[0m\n\u001b[1;32m     40\u001b[0m     PeftModelForTokenClassification,\n\u001b[1;32m     41\u001b[0m )\n\u001b[1;32m     42\u001b[0m \u001b[38;5;28;01mfrom\u001b[39;00m \u001b[38;5;21;01m.\u001b[39;00m\u001b[38;5;21;01mutils\u001b[39;00m\u001b[38;5;21;01m.\u001b[39;00m\u001b[38;5;21;01mconstants\u001b[39;00m \u001b[38;5;28;01mimport\u001b[39;00m TOKENIZER_CONFIG_NAME\n",
      "File \u001b[0;32m~/my-envs/inference/lib/python3.10/site-packages/peft/mapping.py:22\u001b[0m\n\u001b[1;32m     19\u001b[0m \u001b[38;5;28;01mimport\u001b[39;00m \u001b[38;5;21;01mtorch\u001b[39;00m\n\u001b[1;32m     21\u001b[0m \u001b[38;5;28;01mfrom\u001b[39;00m \u001b[38;5;21;01m.\u001b[39;00m\u001b[38;5;21;01mconfig\u001b[39;00m \u001b[38;5;28;01mimport\u001b[39;00m PeftConfig\n\u001b[0;32m---> 22\u001b[0m \u001b[38;5;28;01mfrom\u001b[39;00m \u001b[38;5;21;01m.\u001b[39;00m\u001b[38;5;21;01mmixed_model\u001b[39;00m \u001b[38;5;28;01mimport\u001b[39;00m PeftMixedModel\n\u001b[1;32m     23\u001b[0m \u001b[38;5;28;01mfrom\u001b[39;00m \u001b[38;5;21;01m.\u001b[39;00m\u001b[38;5;21;01mpeft_model\u001b[39;00m \u001b[38;5;28;01mimport\u001b[39;00m (\n\u001b[1;32m     24\u001b[0m     PeftModel,\n\u001b[1;32m     25\u001b[0m     PeftModelForCausalLM,\n\u001b[0;32m   (...)\u001b[0m\n\u001b[1;32m     30\u001b[0m     PeftModelForTokenClassification,\n\u001b[1;32m     31\u001b[0m )\n\u001b[1;32m     32\u001b[0m \u001b[38;5;28;01mfrom\u001b[39;00m \u001b[38;5;21;01m.\u001b[39;00m\u001b[38;5;21;01mtuners\u001b[39;00m \u001b[38;5;28;01mimport\u001b[39;00m (\n\u001b[1;32m     33\u001b[0m     AdaLoraConfig,\n\u001b[1;32m     34\u001b[0m     AdaLoraModel,\n\u001b[0;32m   (...)\u001b[0m\n\u001b[1;32m     57\u001b[0m     VeraModel,\n\u001b[1;32m     58\u001b[0m )\n",
      "File \u001b[0;32m~/my-envs/inference/lib/python3.10/site-packages/peft/mixed_model.py:26\u001b[0m\n\u001b[1;32m     23\u001b[0m \u001b[38;5;28;01mfrom\u001b[39;00m \u001b[38;5;21;01mtorch\u001b[39;00m \u001b[38;5;28;01mimport\u001b[39;00m nn\n\u001b[1;32m     24\u001b[0m \u001b[38;5;28;01mfrom\u001b[39;00m \u001b[38;5;21;01mtransformers\u001b[39;00m\u001b[38;5;21;01m.\u001b[39;00m\u001b[38;5;21;01mutils\u001b[39;00m \u001b[38;5;28;01mimport\u001b[39;00m PushToHubMixin\n\u001b[0;32m---> 26\u001b[0m \u001b[38;5;28;01mfrom\u001b[39;00m \u001b[38;5;21;01mpeft\u001b[39;00m\u001b[38;5;21;01m.\u001b[39;00m\u001b[38;5;21;01mtuners\u001b[39;00m\u001b[38;5;21;01m.\u001b[39;00m\u001b[38;5;21;01mmixed\u001b[39;00m \u001b[38;5;28;01mimport\u001b[39;00m COMPATIBLE_TUNER_TYPES\n\u001b[1;32m     28\u001b[0m \u001b[38;5;28;01mfrom\u001b[39;00m \u001b[38;5;21;01m.\u001b[39;00m\u001b[38;5;21;01mconfig\u001b[39;00m \u001b[38;5;28;01mimport\u001b[39;00m PeftConfig\n\u001b[1;32m     29\u001b[0m \u001b[38;5;28;01mfrom\u001b[39;00m \u001b[38;5;21;01m.\u001b[39;00m\u001b[38;5;21;01mpeft_model\u001b[39;00m \u001b[38;5;28;01mimport\u001b[39;00m PeftModel\n",
      "File \u001b[0;32m~/my-envs/inference/lib/python3.10/site-packages/peft/tuners/__init__.py:26\u001b[0m\n\u001b[1;32m     24\u001b[0m \u001b[38;5;28;01mfrom\u001b[39;00m \u001b[38;5;21;01m.\u001b[39;00m\u001b[38;5;21;01mia3\u001b[39;00m \u001b[38;5;28;01mimport\u001b[39;00m IA3Config, IA3Model\n\u001b[1;32m     25\u001b[0m \u001b[38;5;28;01mfrom\u001b[39;00m \u001b[38;5;21;01m.\u001b[39;00m\u001b[38;5;21;01madalora\u001b[39;00m \u001b[38;5;28;01mimport\u001b[39;00m AdaLoraConfig, AdaLoraModel\n\u001b[0;32m---> 26\u001b[0m \u001b[38;5;28;01mfrom\u001b[39;00m \u001b[38;5;21;01m.\u001b[39;00m\u001b[38;5;21;01mboft\u001b[39;00m \u001b[38;5;28;01mimport\u001b[39;00m BOFTConfig, BOFTModel\n\u001b[1;32m     27\u001b[0m \u001b[38;5;28;01mfrom\u001b[39;00m \u001b[38;5;21;01m.\u001b[39;00m\u001b[38;5;21;01mp_tuning\u001b[39;00m \u001b[38;5;28;01mimport\u001b[39;00m PromptEncoder, PromptEncoderConfig, PromptEncoderReparameterizationType\n\u001b[1;32m     28\u001b[0m \u001b[38;5;28;01mfrom\u001b[39;00m \u001b[38;5;21;01m.\u001b[39;00m\u001b[38;5;21;01mprefix_tuning\u001b[39;00m \u001b[38;5;28;01mimport\u001b[39;00m PrefixEncoder, PrefixTuningConfig\n",
      "File \u001b[0;32m~/my-envs/inference/lib/python3.10/site-packages/peft/tuners/boft/__init__.py:16\u001b[0m\n\u001b[1;32m      1\u001b[0m \u001b[38;5;66;03m# Copyright 2023-present the HuggingFace Inc. team.\u001b[39;00m\n\u001b[1;32m      2\u001b[0m \u001b[38;5;66;03m#\u001b[39;00m\n\u001b[1;32m      3\u001b[0m \u001b[38;5;66;03m# Licensed under the Apache License, Version 2.0 (the \"License\");\u001b[39;00m\n\u001b[0;32m   (...)\u001b[0m\n\u001b[1;32m     12\u001b[0m \u001b[38;5;66;03m# See the License for the specific language governing permissions and\u001b[39;00m\n\u001b[1;32m     13\u001b[0m \u001b[38;5;66;03m# limitations under the License.\u001b[39;00m\n\u001b[1;32m     15\u001b[0m \u001b[38;5;28;01mfrom\u001b[39;00m \u001b[38;5;21;01m.\u001b[39;00m\u001b[38;5;21;01mconfig\u001b[39;00m \u001b[38;5;28;01mimport\u001b[39;00m BOFTConfig\n\u001b[0;32m---> 16\u001b[0m \u001b[38;5;28;01mfrom\u001b[39;00m \u001b[38;5;21;01m.\u001b[39;00m\u001b[38;5;21;01mlayer\u001b[39;00m \u001b[38;5;28;01mimport\u001b[39;00m BOFTLayer\n\u001b[1;32m     17\u001b[0m \u001b[38;5;28;01mfrom\u001b[39;00m \u001b[38;5;21;01m.\u001b[39;00m\u001b[38;5;21;01mmodel\u001b[39;00m \u001b[38;5;28;01mimport\u001b[39;00m BOFTModel\n\u001b[1;32m     20\u001b[0m __all__ \u001b[38;5;241m=\u001b[39m [\u001b[38;5;124m\"\u001b[39m\u001b[38;5;124mBOFTConfig\u001b[39m\u001b[38;5;124m\"\u001b[39m, \u001b[38;5;124m\"\u001b[39m\u001b[38;5;124mBOFTLayer\u001b[39m\u001b[38;5;124m\"\u001b[39m, \u001b[38;5;124m\"\u001b[39m\u001b[38;5;124mBOFTModel\u001b[39m\u001b[38;5;124m\"\u001b[39m]\n",
      "File \u001b[0;32m~/my-envs/inference/lib/python3.10/site-packages/peft/tuners/boft/layer.py:30\u001b[0m\n\u001b[1;32m     28\u001b[0m \u001b[38;5;28;01mimport\u001b[39;00m \u001b[38;5;21;01mtorch\u001b[39;00m\u001b[38;5;21;01m.\u001b[39;00m\u001b[38;5;21;01mnn\u001b[39;00m\u001b[38;5;21;01m.\u001b[39;00m\u001b[38;5;21;01mfunctional\u001b[39;00m \u001b[38;5;28;01mas\u001b[39;00m \u001b[38;5;21;01mF\u001b[39;00m\n\u001b[1;32m     29\u001b[0m \u001b[38;5;28;01mfrom\u001b[39;00m \u001b[38;5;21;01mtorch\u001b[39;00m\u001b[38;5;21;01m.\u001b[39;00m\u001b[38;5;21;01mautograd\u001b[39;00m \u001b[38;5;28;01mimport\u001b[39;00m Function\n\u001b[0;32m---> 30\u001b[0m \u001b[38;5;28;01mfrom\u001b[39;00m \u001b[38;5;21;01mtorch\u001b[39;00m\u001b[38;5;21;01m.\u001b[39;00m\u001b[38;5;21;01mutils\u001b[39;00m\u001b[38;5;21;01m.\u001b[39;00m\u001b[38;5;21;01mcpp_extension\u001b[39;00m \u001b[38;5;28;01mimport\u001b[39;00m load\n\u001b[1;32m     32\u001b[0m \u001b[38;5;28;01mfrom\u001b[39;00m \u001b[38;5;21;01mpeft\u001b[39;00m\u001b[38;5;21;01m.\u001b[39;00m\u001b[38;5;21;01mtuners\u001b[39;00m\u001b[38;5;21;01m.\u001b[39;00m\u001b[38;5;21;01mtuners_utils\u001b[39;00m \u001b[38;5;28;01mimport\u001b[39;00m BaseTunerLayer, check_adapters_to_merge\n\u001b[1;32m     35\u001b[0m _FBD_CUDA \u001b[38;5;241m=\u001b[39m \u001b[38;5;28;01mNone\u001b[39;00m\n",
      "File \u001b[0;32m~/my-envs/inference/lib/python3.10/site-packages/torch/utils/cpp_extension.py:25\u001b[0m\n\u001b[1;32m     22\u001b[0m \u001b[38;5;28;01mfrom\u001b[39;00m \u001b[38;5;21;01mtorch\u001b[39;00m\u001b[38;5;21;01m.\u001b[39;00m\u001b[38;5;21;01mtorch_version\u001b[39;00m \u001b[38;5;28;01mimport\u001b[39;00m TorchVersion\n\u001b[1;32m     24\u001b[0m \u001b[38;5;28;01mfrom\u001b[39;00m \u001b[38;5;21;01msetuptools\u001b[39;00m\u001b[38;5;21;01m.\u001b[39;00m\u001b[38;5;21;01mcommand\u001b[39;00m\u001b[38;5;21;01m.\u001b[39;00m\u001b[38;5;21;01mbuild_ext\u001b[39;00m \u001b[38;5;28;01mimport\u001b[39;00m build_ext\n\u001b[0;32m---> 25\u001b[0m \u001b[38;5;28;01mfrom\u001b[39;00m \u001b[38;5;21;01mpkg_resources\u001b[39;00m \u001b[38;5;28;01mimport\u001b[39;00m packaging  \u001b[38;5;66;03m# type: ignore[attr-defined]\u001b[39;00m\n\u001b[1;32m     27\u001b[0m IS_WINDOWS \u001b[38;5;241m=\u001b[39m sys\u001b[38;5;241m.\u001b[39mplatform \u001b[38;5;241m==\u001b[39m \u001b[38;5;124m'\u001b[39m\u001b[38;5;124mwin32\u001b[39m\u001b[38;5;124m'\u001b[39m\n\u001b[1;32m     28\u001b[0m IS_MACOS \u001b[38;5;241m=\u001b[39m sys\u001b[38;5;241m.\u001b[39mplatform\u001b[38;5;241m.\u001b[39mstartswith(\u001b[38;5;124m'\u001b[39m\u001b[38;5;124mdarwin\u001b[39m\u001b[38;5;124m'\u001b[39m)\n",
      "\u001b[0;31mImportError\u001b[0m: cannot import name 'packaging' from 'pkg_resources' (/home/thsch026/my-envs/inference/lib/python3.10/site-packages/pkg_resources/__init__.py)"
     ]
    }
   ],
   "source": [
    "\n",
    "tokenizer = AutoTokenizer.from_pretrained(model_loc)\n",
    "\n",
    "#quantization_config = BitsAndBytesConfig(load_in_4bit=True, bnb_4bit_compute_dtype=torch.bfloat16)\n",
    "#quantization_config = BitsAndBytesConfig(bnb_4bit_compute_dtype=torch.bfloat16)\n",
    "\n",
    "model = AutoModelForCausalLM.from_pretrained(\n",
    "    model_loc,\n",
    "    trust_remote_code=True,\n",
    "    # Bei AWQ Modellen keine quantization config angeben\n",
    "   # quantization_config=quantization_config, #load_in_8bit=True\n",
    "    device_map='cuda'\n",
    ")\n"
   ]
  },
  {
   "cell_type": "markdown",
   "id": "8916e74f-6f9d-4b6d-9175-71814a323512",
   "metadata": {},
   "source": [
    "### Interferenz mit Ergebnis Speicherung"
   ]
  },
  {
   "cell_type": "code",
   "execution_count": 7,
   "id": "66a892fb-0ff4-4c67-9f1f-bdc13713a1b9",
   "metadata": {
    "tags": []
   },
   "outputs": [
    {
     "ename": "NameError",
     "evalue": "name 'model' is not defined",
     "output_type": "error",
     "traceback": [
      "\u001b[0;31m---------------------------------------------------------------------------\u001b[0m",
      "\u001b[0;31mNameError\u001b[0m                                 Traceback (most recent call last)",
      "Cell \u001b[0;32mIn[7], line 26\u001b[0m\n\u001b[1;32m     23\u001b[0m start_time \u001b[38;5;241m=\u001b[39m time\u001b[38;5;241m.\u001b[39mtime()\n\u001b[1;32m     25\u001b[0m \u001b[38;5;66;03m# Führe die Inferenz durch\u001b[39;00m\n\u001b[0;32m---> 26\u001b[0m outputs \u001b[38;5;241m=\u001b[39m \u001b[43mmodel\u001b[49m\u001b[38;5;241m.\u001b[39mgenerate(input_ids, max_length\u001b[38;5;241m=\u001b[39m\u001b[38;5;241m200\u001b[39m)\n\u001b[1;32m     28\u001b[0m \u001b[38;5;66;03m# Messe die Zeit nach der Inferenz\u001b[39;00m\n\u001b[1;32m     29\u001b[0m end_time \u001b[38;5;241m=\u001b[39m time\u001b[38;5;241m.\u001b[39mtime()\n",
      "\u001b[0;31mNameError\u001b[0m: name 'model' is not defined"
     ]
    }
   ],
   "source": [
    "# Funktion für das Speichern der Werte\n",
    "\n",
    "def append_data(result):\n",
    "    \n",
    "    with open(full_csv, mode='a', newline='') as file:\n",
    "        full_writer = csv.writer(file)\n",
    "        full_writer.writerow(result)\n",
    "        \n",
    "    with open(data_csv, mode='a', newline='') as file:\n",
    "        data_writer = csv.writer(file)\n",
    "        data_writer.writerow(result[0:4])\n",
    "\n",
    "                \n",
    "device = 'cuda'\n",
    "\n",
    "question_list = [\"Once upon a time\", \"Why should I eat healthy?\", \"Is there a second life after death?\", \"What is the most common injury?\",\"Who is Konrad Zuse?\"]\n",
    "\n",
    "for question in question_list:\n",
    "    input_ids = tokenizer.encode(question, return_tensors='pt')\n",
    "    # Änderung dr Zeile weil es Probleme mit der Ausführung gab (cuda/cpu anomalie)\n",
    "    input_ids = tokenizer(question, return_tensors=\"pt\").input_ids.to(device)\n",
    "    input_ids.to('cuda:0')\n",
    "    start_time = time.time()\n",
    "\n",
    "    # Führe die Inferenz durch\n",
    "    outputs = model.generate(input_ids, max_length=200)\n",
    "\n",
    "    # Messe die Zeit nach der Inferenz\n",
    "    end_time = time.time()\n",
    "\n",
    "    # Berechne die Inferenz-Zeit\n",
    "    inference_time = end_time - start_time\n",
    "\n",
    "    # Dekodiere die Ausgabe\n",
    "    output_text = tokenizer.decode(outputs[0], skip_special_tokens=True)\n",
    "    \n",
    "    # Berchnung des Ergebnis\n",
    "    #number_of_words = len(output_text.split())\n",
    "    number_of_tokens = len(outputs[0])\n",
    "    memory_usage = round((torch.cuda.memory_allocated() / (1024 **3)),2)\n",
    "    token_per_second = number_of_tokens/inference_time\n",
    "    result = [model_id,token_per_second, inference_time, memory_usage, question, output_text]\n",
    "    print(result)\n",
    "    append_data(result)\n",
    "              \n",
    "    \n",
    "                                                                \n",
    "    \n",
    "\n",
    "    \n",
    "    "
   ]
  },
  {
   "cell_type": "code",
   "execution_count": 11,
   "id": "7ffa84fe-1000-4060-a497-83f7d7fa5719",
   "metadata": {},
   "outputs": [],
   "source": [
    "del model # Specify variable\n",
    "torch.cuda.empty_cache()"
   ]
  },
  {
   "cell_type": "code",
   "execution_count": null,
   "id": "8bc1e67b-bd73-4be8-8985-bc7be12de04b",
   "metadata": {},
   "outputs": [],
   "source": []
  }
 ],
 "metadata": {
  "kernelspec": {
   "display_name": "inference",
   "language": "python",
   "name": "inference"
  },
  "language_info": {
   "codemirror_mode": {
    "name": "ipython",
    "version": 3
   },
   "file_extension": ".py",
   "mimetype": "text/x-python",
   "name": "python",
   "nbconvert_exporter": "python",
   "pygments_lexer": "ipython3",
   "version": "3.10.0"
  }
 },
 "nbformat": 4,
 "nbformat_minor": 5
}
