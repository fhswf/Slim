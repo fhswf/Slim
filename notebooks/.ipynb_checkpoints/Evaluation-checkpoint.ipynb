{
 "cells": [
  {
   "cell_type": "markdown",
   "id": "58a16ba8-ce96-479f-8e25-eb48bd7affc4",
   "metadata": {},
   "source": [
    "# LM evaluation harness"
   ]
  },
  {
   "cell_type": "markdown",
   "id": "ab9fce36-6947-49a3-b4c8-c943353185d4",
   "metadata": {
    "tags": []
   },
   "source": [
    "#### Das Evaluation framework scheint gut geeignet für Tests mit verschiedenen Benchmarks. Das Repository hierzu ist https://github.com/EleutherAI/lm-evaluation-harness."
   ]
  },
  {
   "cell_type": "markdown",
   "id": "26e13934-9c8a-4aac-a3cd-3274b20c17a6",
   "metadata": {},
   "source": [
    "Cite\n",
    "@misc{eval-harness,\n",
    "  author       = {Gao, Leo and Tow, Jonathan and Abbasi, Baber and Biderman, Stella and Black, Sid and DiPofi, Anthony and Foster, Charles and Golding, Laurence and Hsu, Jeffrey and Le Noac'h, Alain and Li, Haonan and McDonell, Kyle and Muennighoff, Niklas and Ociepa, Chris and Phang, Jason and Reynolds, Laria and Schoelkopf, Hailey and Skowron, Aviya and Sutawika, Lintang and Tang, Eric and Thite, Anish and Wang, Ben and Wang, Kevin and Zou, Andy},\n",
    "  title        = {A framework for few-shot language model evaluation},\n",
    "  month        = 12,\n",
    "  year         = 2023,\n",
    "  publisher    = {Zenodo},\n",
    "  version      = {v0.4.0},\n",
    "  doi          = {10.5281/zenodo.10256836},\n",
    "  url          = {https://zenodo.org/records/10256836}\n",
    "}"
   ]
  },
  {
   "cell_type": "markdown",
   "id": "8f83c29b-0866-486e-b14f-9b100ac98b5f",
   "metadata": {
    "tags": []
   },
   "source": [
    "## Setup Environment (Muss nach jedem Neustart des Servers erfolgen)"
   ]
  },
  {
   "cell_type": "code",
   "execution_count": 1,
   "id": "5c128c22-ea8c-46f0-8afa-2117627be1ac",
   "metadata": {},
   "outputs": [
    {
     "name": "stdout",
     "output_type": "stream",
     "text": [
      "(/home/thsch026/my-envs/eval) \n",
      "(/home/thsch026/my-envs/eval) \n",
      "(/home/thsch026/my-envs/eval) \n"
     ]
    }
   ],
   "source": [
    "conda activate eval\n",
    "#pip install torch==2.0.1 packaging\n",
    "cd \"/home/thsch026/masterarbeit/work/\""
   ]
  },
  {
   "cell_type": "code",
   "execution_count": 2,
   "id": "4b8b202c-cffb-4de1-8dac-2b1c3e8ccf94",
   "metadata": {},
   "outputs": [
    {
     "name": "stdout",
     "output_type": "stream",
     "text": [
      "(/home/thsch026/my-envs/eval) \n",
      "fatal: destination path 'lm-evaluation-harness' already exists and is not an empty directory.\n",
      "(/home/thsch026/my-envs/eval) \n",
      "(/home/thsch026/my-envs/eval) \n",
      "Obtaining file:///home/thsch026/masterarbeit/work/lm-evaluation-harness\n",
      "  Installing build dependencies ... \u001b[?25ldone\n",
      "\u001b[?25h  Checking if build backend supports build_editable ... \u001b[?25ldone\n",
      "\u001b[?25h  Getting requirements to build editable ... \u001b[?25ldone\n",
      "\u001b[?25h  Preparing editable metadata (pyproject.toml) ... \u001b[?25ldone\n",
      "\u001b[?25hRequirement already satisfied: accelerate>=0.21.0 in /home/thsch026/my-envs/eval/lib/python3.10/site-packages (from lm_eval==0.4.2) (0.30.0)\n",
      "Requirement already satisfied: evaluate in /home/thsch026/my-envs/eval/lib/python3.10/site-packages (from lm_eval==0.4.2) (0.4.2)\n",
      "Requirement already satisfied: datasets>=2.16.0 in /home/thsch026/my-envs/eval/lib/python3.10/site-packages (from lm_eval==0.4.2) (2.19.1)\n",
      "Requirement already satisfied: jsonlines in /home/thsch026/my-envs/eval/lib/python3.10/site-packages (from lm_eval==0.4.2) (4.0.0)\n",
      "Requirement already satisfied: numexpr in /home/thsch026/my-envs/eval/lib/python3.10/site-packages (from lm_eval==0.4.2) (2.10.0)\n",
      "Requirement already satisfied: peft>=0.2.0 in /home/thsch026/my-envs/eval/lib/python3.10/site-packages (from lm_eval==0.4.2) (0.10.0)\n",
      "Requirement already satisfied: pybind11>=2.6.2 in /home/thsch026/my-envs/eval/lib/python3.10/site-packages (from lm_eval==0.4.2) (2.12.0)\n",
      "Requirement already satisfied: pytablewriter in /home/thsch026/my-envs/eval/lib/python3.10/site-packages (from lm_eval==0.4.2) (1.2.0)\n",
      "Requirement already satisfied: rouge-score>=0.0.4 in /home/thsch026/my-envs/eval/lib/python3.10/site-packages (from lm_eval==0.4.2) (0.1.2)\n",
      "Requirement already satisfied: sacrebleu>=1.5.0 in /home/thsch026/my-envs/eval/lib/python3.10/site-packages (from lm_eval==0.4.2) (2.4.2)\n",
      "Requirement already satisfied: scikit-learn>=0.24.1 in /home/thsch026/my-envs/eval/lib/python3.10/site-packages (from lm_eval==0.4.2) (1.4.2)\n",
      "Requirement already satisfied: sqlitedict in /home/thsch026/my-envs/eval/lib/python3.10/site-packages (from lm_eval==0.4.2) (2.1.0)\n",
      "Requirement already satisfied: torch>=1.8 in /home/thsch026/my-envs/eval/lib/python3.10/site-packages (from lm_eval==0.4.2) (2.0.1)\n",
      "Requirement already satisfied: tqdm-multiprocess in /home/thsch026/my-envs/eval/lib/python3.10/site-packages (from lm_eval==0.4.2) (0.0.11)\n",
      "Requirement already satisfied: transformers>=4.1 in /home/thsch026/my-envs/eval/lib/python3.10/site-packages (from lm_eval==0.4.2) (4.40.2)\n",
      "Requirement already satisfied: zstandard in /home/thsch026/my-envs/eval/lib/python3.10/site-packages (from lm_eval==0.4.2) (0.22.0)\n",
      "Requirement already satisfied: dill in /home/thsch026/my-envs/eval/lib/python3.10/site-packages (from lm_eval==0.4.2) (0.3.8)\n",
      "Requirement already satisfied: word2number in /home/thsch026/my-envs/eval/lib/python3.10/site-packages (from lm_eval==0.4.2) (1.1)\n",
      "Requirement already satisfied: more-itertools in /home/thsch026/my-envs/eval/lib/python3.10/site-packages (from lm_eval==0.4.2) (10.2.0)\n",
      "Requirement already satisfied: numpy>=1.17 in /home/thsch026/my-envs/eval/lib/python3.10/site-packages (from accelerate>=0.21.0->lm_eval==0.4.2) (1.26.4)\n",
      "Requirement already satisfied: packaging>=20.0 in /home/thsch026/my-envs/eval/lib/python3.10/site-packages (from accelerate>=0.21.0->lm_eval==0.4.2) (24.0)\n",
      "Requirement already satisfied: psutil in /home/thsch026/.local/lib/python3.10/site-packages (from accelerate>=0.21.0->lm_eval==0.4.2) (5.9.8)\n",
      "Requirement already satisfied: pyyaml in /home/thsch026/my-envs/eval/lib/python3.10/site-packages (from accelerate>=0.21.0->lm_eval==0.4.2) (6.0.1)\n",
      "Requirement already satisfied: huggingface-hub in /home/thsch026/my-envs/eval/lib/python3.10/site-packages (from accelerate>=0.21.0->lm_eval==0.4.2) (0.23.0)\n",
      "Requirement already satisfied: safetensors>=0.3.1 in /home/thsch026/my-envs/eval/lib/python3.10/site-packages (from accelerate>=0.21.0->lm_eval==0.4.2) (0.4.3)\n",
      "Requirement already satisfied: filelock in /home/thsch026/my-envs/eval/lib/python3.10/site-packages (from datasets>=2.16.0->lm_eval==0.4.2) (3.14.0)\n",
      "Requirement already satisfied: pyarrow>=12.0.0 in /home/thsch026/my-envs/eval/lib/python3.10/site-packages (from datasets>=2.16.0->lm_eval==0.4.2) (16.0.0)\n",
      "Requirement already satisfied: pyarrow-hotfix in /home/thsch026/my-envs/eval/lib/python3.10/site-packages (from datasets>=2.16.0->lm_eval==0.4.2) (0.6)\n",
      "Requirement already satisfied: pandas in /home/thsch026/my-envs/eval/lib/python3.10/site-packages (from datasets>=2.16.0->lm_eval==0.4.2) (2.2.2)\n",
      "Requirement already satisfied: requests>=2.19.0 in /home/thsch026/my-envs/eval/lib/python3.10/site-packages (from datasets>=2.16.0->lm_eval==0.4.2) (2.31.0)\n",
      "Requirement already satisfied: tqdm>=4.62.1 in /home/thsch026/my-envs/eval/lib/python3.10/site-packages (from datasets>=2.16.0->lm_eval==0.4.2) (4.66.4)\n",
      "Requirement already satisfied: xxhash in /home/thsch026/my-envs/eval/lib/python3.10/site-packages (from datasets>=2.16.0->lm_eval==0.4.2) (3.4.1)\n",
      "Requirement already satisfied: multiprocess in /home/thsch026/my-envs/eval/lib/python3.10/site-packages (from datasets>=2.16.0->lm_eval==0.4.2) (0.70.16)\n",
      "Requirement already satisfied: fsspec<=2024.3.1,>=2023.1.0 in /home/thsch026/my-envs/eval/lib/python3.10/site-packages (from fsspec[http]<=2024.3.1,>=2023.1.0->datasets>=2.16.0->lm_eval==0.4.2) (2024.3.1)\n",
      "Requirement already satisfied: aiohttp in /home/thsch026/my-envs/eval/lib/python3.10/site-packages (from datasets>=2.16.0->lm_eval==0.4.2) (3.9.5)\n",
      "Requirement already satisfied: absl-py in /home/thsch026/my-envs/eval/lib/python3.10/site-packages (from rouge-score>=0.0.4->lm_eval==0.4.2) (2.1.0)\n",
      "Requirement already satisfied: nltk in /home/thsch026/my-envs/eval/lib/python3.10/site-packages (from rouge-score>=0.0.4->lm_eval==0.4.2) (3.8.1)\n",
      "Requirement already satisfied: six>=1.14.0 in /home/thsch026/.local/lib/python3.10/site-packages (from rouge-score>=0.0.4->lm_eval==0.4.2) (1.16.0)\n",
      "Requirement already satisfied: portalocker in /home/thsch026/my-envs/eval/lib/python3.10/site-packages (from sacrebleu>=1.5.0->lm_eval==0.4.2) (2.8.2)\n",
      "Requirement already satisfied: regex in /home/thsch026/my-envs/eval/lib/python3.10/site-packages (from sacrebleu>=1.5.0->lm_eval==0.4.2) (2024.4.28)\n",
      "Requirement already satisfied: tabulate>=0.8.9 in /home/thsch026/my-envs/eval/lib/python3.10/site-packages (from sacrebleu>=1.5.0->lm_eval==0.4.2) (0.9.0)\n",
      "Requirement already satisfied: colorama in /home/thsch026/my-envs/eval/lib/python3.10/site-packages (from sacrebleu>=1.5.0->lm_eval==0.4.2) (0.4.6)\n",
      "Requirement already satisfied: lxml in /home/thsch026/my-envs/eval/lib/python3.10/site-packages (from sacrebleu>=1.5.0->lm_eval==0.4.2) (5.2.1)\n",
      "Requirement already satisfied: scipy>=1.6.0 in /home/thsch026/my-envs/eval/lib/python3.10/site-packages (from scikit-learn>=0.24.1->lm_eval==0.4.2) (1.13.0)\n",
      "Requirement already satisfied: joblib>=1.2.0 in /home/thsch026/my-envs/eval/lib/python3.10/site-packages (from scikit-learn>=0.24.1->lm_eval==0.4.2) (1.4.2)\n",
      "Requirement already satisfied: threadpoolctl>=2.0.0 in /home/thsch026/my-envs/eval/lib/python3.10/site-packages (from scikit-learn>=0.24.1->lm_eval==0.4.2) (3.5.0)\n",
      "Requirement already satisfied: typing-extensions in /home/thsch026/.local/lib/python3.10/site-packages (from torch>=1.8->lm_eval==0.4.2) (4.11.0)\n",
      "Requirement already satisfied: sympy in /home/thsch026/my-envs/eval/lib/python3.10/site-packages (from torch>=1.8->lm_eval==0.4.2) (1.12)\n",
      "Requirement already satisfied: networkx in /home/thsch026/my-envs/eval/lib/python3.10/site-packages (from torch>=1.8->lm_eval==0.4.2) (3.3)\n",
      "Requirement already satisfied: jinja2 in /home/thsch026/my-envs/eval/lib/python3.10/site-packages (from torch>=1.8->lm_eval==0.4.2) (3.1.4)\n",
      "Requirement already satisfied: nvidia-cuda-nvrtc-cu11==11.7.99 in /home/thsch026/my-envs/eval/lib/python3.10/site-packages (from torch>=1.8->lm_eval==0.4.2) (11.7.99)\n",
      "Requirement already satisfied: nvidia-cuda-runtime-cu11==11.7.99 in /home/thsch026/my-envs/eval/lib/python3.10/site-packages (from torch>=1.8->lm_eval==0.4.2) (11.7.99)\n",
      "Requirement already satisfied: nvidia-cuda-cupti-cu11==11.7.101 in /home/thsch026/my-envs/eval/lib/python3.10/site-packages (from torch>=1.8->lm_eval==0.4.2) (11.7.101)\n",
      "Requirement already satisfied: nvidia-cudnn-cu11==8.5.0.96 in /home/thsch026/my-envs/eval/lib/python3.10/site-packages (from torch>=1.8->lm_eval==0.4.2) (8.5.0.96)\n",
      "Requirement already satisfied: nvidia-cublas-cu11==11.10.3.66 in /home/thsch026/my-envs/eval/lib/python3.10/site-packages (from torch>=1.8->lm_eval==0.4.2) (11.10.3.66)\n",
      "Requirement already satisfied: nvidia-cufft-cu11==10.9.0.58 in /home/thsch026/my-envs/eval/lib/python3.10/site-packages (from torch>=1.8->lm_eval==0.4.2) (10.9.0.58)\n",
      "Requirement already satisfied: nvidia-curand-cu11==10.2.10.91 in /home/thsch026/my-envs/eval/lib/python3.10/site-packages (from torch>=1.8->lm_eval==0.4.2) (10.2.10.91)\n",
      "Requirement already satisfied: nvidia-cusolver-cu11==11.4.0.1 in /home/thsch026/my-envs/eval/lib/python3.10/site-packages (from torch>=1.8->lm_eval==0.4.2) (11.4.0.1)\n",
      "Requirement already satisfied: nvidia-cusparse-cu11==11.7.4.91 in /home/thsch026/my-envs/eval/lib/python3.10/site-packages (from torch>=1.8->lm_eval==0.4.2) (11.7.4.91)\n",
      "Requirement already satisfied: nvidia-nccl-cu11==2.14.3 in /home/thsch026/my-envs/eval/lib/python3.10/site-packages (from torch>=1.8->lm_eval==0.4.2) (2.14.3)\n",
      "Requirement already satisfied: nvidia-nvtx-cu11==11.7.91 in /home/thsch026/my-envs/eval/lib/python3.10/site-packages (from torch>=1.8->lm_eval==0.4.2) (11.7.91)\n",
      "Requirement already satisfied: triton==2.0.0 in /home/thsch026/my-envs/eval/lib/python3.10/site-packages (from torch>=1.8->lm_eval==0.4.2) (2.0.0)\n",
      "Requirement already satisfied: setuptools in /home/thsch026/my-envs/eval/lib/python3.10/site-packages (from nvidia-cublas-cu11==11.10.3.66->torch>=1.8->lm_eval==0.4.2) (69.5.1)\n",
      "Requirement already satisfied: wheel in /home/thsch026/my-envs/eval/lib/python3.10/site-packages (from nvidia-cublas-cu11==11.10.3.66->torch>=1.8->lm_eval==0.4.2) (0.43.0)\n",
      "Requirement already satisfied: cmake in /home/thsch026/my-envs/eval/lib/python3.10/site-packages (from triton==2.0.0->torch>=1.8->lm_eval==0.4.2) (3.29.2)\n",
      "Requirement already satisfied: lit in /home/thsch026/my-envs/eval/lib/python3.10/site-packages (from triton==2.0.0->torch>=1.8->lm_eval==0.4.2) (18.1.4)\n",
      "Requirement already satisfied: tokenizers<0.20,>=0.19 in /home/thsch026/my-envs/eval/lib/python3.10/site-packages (from transformers>=4.1->lm_eval==0.4.2) (0.19.1)\n",
      "Requirement already satisfied: attrs>=19.2.0 in /home/thsch026/my-envs/eval/lib/python3.10/site-packages (from jsonlines->lm_eval==0.4.2) (23.2.0)\n",
      "Requirement already satisfied: DataProperty<2,>=1.0.1 in /home/thsch026/my-envs/eval/lib/python3.10/site-packages (from pytablewriter->lm_eval==0.4.2) (1.0.1)\n",
      "Requirement already satisfied: mbstrdecoder<2,>=1.0.0 in /home/thsch026/my-envs/eval/lib/python3.10/site-packages (from pytablewriter->lm_eval==0.4.2) (1.1.3)\n",
      "Requirement already satisfied: pathvalidate<4,>=2.3.0 in /home/thsch026/my-envs/eval/lib/python3.10/site-packages (from pytablewriter->lm_eval==0.4.2) (3.2.0)\n",
      "Requirement already satisfied: tabledata<2,>=1.3.1 in /home/thsch026/my-envs/eval/lib/python3.10/site-packages (from pytablewriter->lm_eval==0.4.2) (1.3.3)\n",
      "Requirement already satisfied: tcolorpy<1,>=0.0.5 in /home/thsch026/my-envs/eval/lib/python3.10/site-packages (from pytablewriter->lm_eval==0.4.2) (0.1.6)\n",
      "Requirement already satisfied: typepy<2,>=1.3.2 in /home/thsch026/my-envs/eval/lib/python3.10/site-packages (from typepy[datetime]<2,>=1.3.2->pytablewriter->lm_eval==0.4.2) (1.3.2)\n",
      "Requirement already satisfied: aiosignal>=1.1.2 in /home/thsch026/my-envs/eval/lib/python3.10/site-packages (from aiohttp->datasets>=2.16.0->lm_eval==0.4.2) (1.3.1)\n",
      "Requirement already satisfied: frozenlist>=1.1.1 in /home/thsch026/my-envs/eval/lib/python3.10/site-packages (from aiohttp->datasets>=2.16.0->lm_eval==0.4.2) (1.4.1)\n",
      "Requirement already satisfied: multidict<7.0,>=4.5 in /home/thsch026/my-envs/eval/lib/python3.10/site-packages (from aiohttp->datasets>=2.16.0->lm_eval==0.4.2) (6.0.5)\n",
      "Requirement already satisfied: yarl<2.0,>=1.0 in /home/thsch026/my-envs/eval/lib/python3.10/site-packages (from aiohttp->datasets>=2.16.0->lm_eval==0.4.2) (1.9.4)\n",
      "Requirement already satisfied: async-timeout<5.0,>=4.0 in /home/thsch026/my-envs/eval/lib/python3.10/site-packages (from aiohttp->datasets>=2.16.0->lm_eval==0.4.2) (4.0.3)\n",
      "Requirement already satisfied: chardet<6,>=3.0.4 in /home/thsch026/my-envs/eval/lib/python3.10/site-packages (from mbstrdecoder<2,>=1.0.0->pytablewriter->lm_eval==0.4.2) (5.2.0)\n",
      "Requirement already satisfied: charset-normalizer<4,>=2 in /home/thsch026/my-envs/eval/lib/python3.10/site-packages (from requests>=2.19.0->datasets>=2.16.0->lm_eval==0.4.2) (3.3.2)\n",
      "Requirement already satisfied: idna<4,>=2.5 in /home/thsch026/my-envs/eval/lib/python3.10/site-packages (from requests>=2.19.0->datasets>=2.16.0->lm_eval==0.4.2) (3.7)\n",
      "Requirement already satisfied: urllib3<3,>=1.21.1 in /home/thsch026/my-envs/eval/lib/python3.10/site-packages (from requests>=2.19.0->datasets>=2.16.0->lm_eval==0.4.2) (2.2.1)\n",
      "Requirement already satisfied: certifi>=2017.4.17 in /home/thsch026/my-envs/eval/lib/python3.10/site-packages (from requests>=2.19.0->datasets>=2.16.0->lm_eval==0.4.2) (2024.2.2)\n",
      "Requirement already satisfied: python-dateutil<3.0.0,>=2.8.0 in /home/thsch026/.local/lib/python3.10/site-packages (from typepy[datetime]<2,>=1.3.2->pytablewriter->lm_eval==0.4.2) (2.9.0.post0)\n",
      "Requirement already satisfied: pytz>=2018.9 in /home/thsch026/my-envs/eval/lib/python3.10/site-packages (from typepy[datetime]<2,>=1.3.2->pytablewriter->lm_eval==0.4.2) (2024.1)\n",
      "Requirement already satisfied: MarkupSafe>=2.0 in /home/thsch026/my-envs/eval/lib/python3.10/site-packages (from jinja2->torch>=1.8->lm_eval==0.4.2) (2.1.5)\n",
      "Requirement already satisfied: click in /home/thsch026/my-envs/eval/lib/python3.10/site-packages (from nltk->rouge-score>=0.0.4->lm_eval==0.4.2) (8.1.7)\n",
      "Requirement already satisfied: tzdata>=2022.7 in /home/thsch026/my-envs/eval/lib/python3.10/site-packages (from pandas->datasets>=2.16.0->lm_eval==0.4.2) (2024.1)\n",
      "Requirement already satisfied: mpmath>=0.19 in /home/thsch026/my-envs/eval/lib/python3.10/site-packages (from sympy->torch>=1.8->lm_eval==0.4.2) (1.3.0)\n",
      "Building wheels for collected packages: lm_eval\n",
      "  Building editable for lm_eval (pyproject.toml) ... \u001b[?25ldone\n",
      "\u001b[?25h  Created wheel for lm_eval: filename=lm_eval-0.4.2-0.editable-py3-none-any.whl size=17365 sha256=539dab0fdf644a22f1f8a0c41a5179be25418244daba69d5dca15f0de0d9df63\n",
      "  Stored in directory: /tmp/pip-ephem-wheel-cache-7j_6tah6/wheels/e0/f5/b2/97243ccdd833a5297f475ef247c4929ff073f1728304f7d92b\n",
      "Successfully built lm_eval\n",
      "Installing collected packages: lm_eval\n",
      "  Attempting uninstall: lm_eval\n",
      "    Found existing installation: lm_eval 0.4.2\n",
      "    Uninstalling lm_eval-0.4.2:\n",
      "      Successfully uninstalled lm_eval-0.4.2\n",
      "Successfully installed lm_eval-0.4.2\n",
      "(/home/thsch026/my-envs/eval) \n",
      "Requirement already satisfied: torch==2.0.1 in /home/thsch026/my-envs/eval/lib/python3.10/site-packages (2.0.1)\n",
      "Requirement already satisfied: filelock in /home/thsch026/my-envs/eval/lib/python3.10/site-packages (from torch==2.0.1) (3.14.0)\n",
      "Requirement already satisfied: typing-extensions in /home/thsch026/.local/lib/python3.10/site-packages (from torch==2.0.1) (4.11.0)\n",
      "Requirement already satisfied: sympy in /home/thsch026/my-envs/eval/lib/python3.10/site-packages (from torch==2.0.1) (1.12)\n",
      "Requirement already satisfied: networkx in /home/thsch026/my-envs/eval/lib/python3.10/site-packages (from torch==2.0.1) (3.3)\n",
      "Requirement already satisfied: jinja2 in /home/thsch026/my-envs/eval/lib/python3.10/site-packages (from torch==2.0.1) (3.1.4)\n",
      "Requirement already satisfied: nvidia-cuda-nvrtc-cu11==11.7.99 in /home/thsch026/my-envs/eval/lib/python3.10/site-packages (from torch==2.0.1) (11.7.99)\n",
      "Requirement already satisfied: nvidia-cuda-runtime-cu11==11.7.99 in /home/thsch026/my-envs/eval/lib/python3.10/site-packages (from torch==2.0.1) (11.7.99)\n",
      "Requirement already satisfied: nvidia-cuda-cupti-cu11==11.7.101 in /home/thsch026/my-envs/eval/lib/python3.10/site-packages (from torch==2.0.1) (11.7.101)\n",
      "Requirement already satisfied: nvidia-cudnn-cu11==8.5.0.96 in /home/thsch026/my-envs/eval/lib/python3.10/site-packages (from torch==2.0.1) (8.5.0.96)\n",
      "Requirement already satisfied: nvidia-cublas-cu11==11.10.3.66 in /home/thsch026/my-envs/eval/lib/python3.10/site-packages (from torch==2.0.1) (11.10.3.66)\n",
      "Requirement already satisfied: nvidia-cufft-cu11==10.9.0.58 in /home/thsch026/my-envs/eval/lib/python3.10/site-packages (from torch==2.0.1) (10.9.0.58)\n",
      "Requirement already satisfied: nvidia-curand-cu11==10.2.10.91 in /home/thsch026/my-envs/eval/lib/python3.10/site-packages (from torch==2.0.1) (10.2.10.91)\n",
      "Requirement already satisfied: nvidia-cusolver-cu11==11.4.0.1 in /home/thsch026/my-envs/eval/lib/python3.10/site-packages (from torch==2.0.1) (11.4.0.1)\n",
      "Requirement already satisfied: nvidia-cusparse-cu11==11.7.4.91 in /home/thsch026/my-envs/eval/lib/python3.10/site-packages (from torch==2.0.1) (11.7.4.91)\n",
      "Requirement already satisfied: nvidia-nccl-cu11==2.14.3 in /home/thsch026/my-envs/eval/lib/python3.10/site-packages (from torch==2.0.1) (2.14.3)\n",
      "Requirement already satisfied: nvidia-nvtx-cu11==11.7.91 in /home/thsch026/my-envs/eval/lib/python3.10/site-packages (from torch==2.0.1) (11.7.91)\n",
      "Requirement already satisfied: triton==2.0.0 in /home/thsch026/my-envs/eval/lib/python3.10/site-packages (from torch==2.0.1) (2.0.0)\n",
      "Requirement already satisfied: setuptools in /home/thsch026/my-envs/eval/lib/python3.10/site-packages (from nvidia-cublas-cu11==11.10.3.66->torch==2.0.1) (69.5.1)\n",
      "Requirement already satisfied: wheel in /home/thsch026/my-envs/eval/lib/python3.10/site-packages (from nvidia-cublas-cu11==11.10.3.66->torch==2.0.1) (0.43.0)\n",
      "Requirement already satisfied: cmake in /home/thsch026/my-envs/eval/lib/python3.10/site-packages (from triton==2.0.0->torch==2.0.1) (3.29.2)\n",
      "Requirement already satisfied: lit in /home/thsch026/my-envs/eval/lib/python3.10/site-packages (from triton==2.0.0->torch==2.0.1) (18.1.4)\n",
      "Requirement already satisfied: MarkupSafe>=2.0 in /home/thsch026/my-envs/eval/lib/python3.10/site-packages (from jinja2->torch==2.0.1) (2.1.5)\n",
      "Requirement already satisfied: mpmath>=0.19 in /home/thsch026/my-envs/eval/lib/python3.10/site-packages (from sympy->torch==2.0.1) (1.3.0)\n",
      "(/home/thsch026/my-envs/eval) \n"
     ]
    }
   ],
   "source": [
    "# Clone Git Repo and install dependencies\n",
    "git clone https://github.com/EleutherAI/lm-evaluation-harness\n",
    "cd lm-evaluation-harness\n",
    "pip install -e .\n",
    "pip install torch==2.0.1"
   ]
  },
  {
   "cell_type": "markdown",
   "id": "bf508f26-e2ff-48be-9cff-352699048522",
   "metadata": {
    "jp-MarkdownHeadingCollapsed": true,
    "tags": []
   },
   "source": [
    "## Beispiele zum Einstieg"
   ]
  },
  {
   "cell_type": "markdown",
   "id": "9260e440-5aed-4836-8591-9b42625c50cf",
   "metadata": {
    "jp-MarkdownHeadingCollapsed": true,
    "tags": []
   },
   "source": [
    "### Beispiel eines Evaluation tasks\n",
    "Wenn man hellaswag als Benchmark nutzt ist main_acc der relevante Output Wert"
   ]
  },
  {
   "cell_type": "code",
   "execution_count": null,
   "id": "072a96de-dfc2-4a20-bc46-a0beae36e57b",
   "metadata": {},
   "outputs": [],
   "source": [
    " #export MODEL=\"/home/thsch026/masterarbeit/models/llama3/Meta-Llama-3-8B-Instruct-HF\"\n",
    "export MODEL=\"/home/thsch026/masterarbeit/models/generated/llama3-8B-lora-instruct-toxic\"\n",
    "lm_eval \\\n",
    "    --model hf \\\n",
    "    --model_args pretrained=$MODEL \\\n",
    "    --tasks hellaswag \\\n",
    "    --device cuda:0 \\\n",
    "    --batch_size 8 \\\n",
    "    --log_samples \\\n",
    "    --output_path output/llama2"
   ]
  },
  {
   "cell_type": "code",
   "execution_count": null,
   "id": "884f0180-2e33-4808-84bf-a33d7a8f5e09",
   "metadata": {},
   "outputs": [],
   "source": [
    "#model = \"EleutherAI/gpt-j-6B\"\n",
    "#!export MODEL=\"/home/thsch026/masterarbeit/models/llama3/Meta-Llama-3-8B-Instruct-HF\"\n",
    "export MODEL=\"Weyaxi/Einstein-v6.1-Llama3-8B\"\n",
    "\n",
    "lm_eval --model hf  --model_args pretrained=$MODEL  --tasks hellaswag --device cuda:0 --batch_size 8 --output_path \"../../out_eval\""
   ]
  },
  {
   "cell_type": "code",
   "execution_count": null,
   "id": "1eedb6b6-73ec-4c84-af47-ecee705eaf57",
   "metadata": {
    "tags": []
   },
   "outputs": [],
   "source": [
    "#### Beispiel für eine Visualisierung"
   ]
  },
  {
   "cell_type": "code",
   "execution_count": null,
   "id": "0ddc4dd9-ae78-4ae3-84be-36eb4f37a671",
   "metadata": {
    "tags": []
   },
   "outputs": [],
   "source": [
    "# Visualize\n",
    "# Zeno APi Key = zen_JmwQ0TQiAxDxsbV34hDZSBA6XcI4GFR88cNBTLSCruY\n",
    "\n",
    "export ZENO_API_KEY=zen_JmwQ0TQiAxDxsbV34hDZSBA6XcI4GFR88cNBTLSCruY"
   ]
  },
  {
   "cell_type": "markdown",
   "id": "56a7acb2-8b3b-4543-a40c-53aecea86418",
   "metadata": {
    "jp-MarkdownHeadingCollapsed": true,
    "tags": []
   },
   "source": [
    "### Beispiel Evaluation, wenn ein Datentyp angepasst werden muss (Hier wurde bfloat16 in float16 angepasst)"
   ]
  },
  {
   "cell_type": "code",
   "execution_count": null,
   "id": "c8a9abfd-e1fc-4f5e-8f68-b21219164d65",
   "metadata": {
    "tags": []
   },
   "outputs": [],
   "source": [
    "conda activate eval"
   ]
  },
  {
   "cell_type": "code",
   "execution_count": 9,
   "id": "2ce1e050-5b78-4a88-9e82-1b7761de00d2",
   "metadata": {
    "tags": []
   },
   "outputs": [
    {
     "name": "stdout",
     "output_type": "stream",
     "text": [
      "(/home/thsch026/my-envs/eval) \n",
      "(/home/thsch026/my-envs/eval) \n",
      "2024-05-14:10:18:33,918 INFO     [__main__.py:254] Verbosity set to INFO\n",
      "2024-05-14:10:18:48,105 INFO     [__main__.py:341] Selected Tasks: ['hellaswag']\n",
      "2024-05-14:10:18:48,148 INFO     [evaluator.py:141] Setting random seed to 0 | Setting numpy seed to 1234 | Setting torch manual seed to 1234\n",
      "2024-05-14:10:18:48,148 INFO     [evaluator.py:187] Initializing hf model, with arguments: {'pretrained': 'Weyaxi/Einstein-v6.1-Llama3-8B', 'dtype': 'float16'}\n",
      "2024-05-14:10:18:48,363 WARNING  [logging.py:61] Detected kernel version 5.4.0, which is below the recommended minimum of 5.5.0; this can cause the process to hang. It is recommended to upgrade the kernel to the minimum version or higher.\n",
      "2024-05-14:10:18:48,363 INFO     [huggingface.py:165] Using device 'cuda:0'\n",
      "/home/thsch026/my-envs/eval/lib/python3.10/site-packages/huggingface_hub/file_download.py:1132: FutureWarning: `resume_download` is deprecated and will be removed in version 1.0.0. Downloads always resume when possible. If you want to force a new download, use `force_download=True`.\n",
      "  warnings.warn(\n",
      "Loading checkpoint shards: 100%|██████████████████| 4/4 [02:44<00:00, 41.09s/it]\n",
      "Special tokens have been added in the vocabulary, make sure the associated word embeddings are fine-tuned or trained.\n",
      "/home/thsch026/my-envs/eval/lib/python3.10/site-packages/datasets/load.py:1486: FutureWarning: The repository for hellaswag contains custom code which must be executed to correctly load the dataset. You can inspect the repository content at https://hf.co/datasets/hellaswag\n",
      "You can avoid this message in future by passing the argument `trust_remote_code=True`.\n",
      "Passing `trust_remote_code=True` will be mandatory to load this dataset from the next major release of `datasets`.\n",
      "  warnings.warn(\n",
      "2024-05-14:10:21:48,663 INFO     [task.py:398] Building contexts for hellaswag on rank 0...\n",
      "100%|███████████████████████████████████| 10042/10042 [00:02<00:00, 3447.72it/s]\n",
      "2024-05-14:10:21:53,816 INFO     [evaluator.py:404] Running loglikelihood requests\n",
      "Running loglikelihood requests: 100%|█████| 40168/40168 [09:13<00:00, 72.62it/s]\n",
      "fatal: not a git repository (or any parent up to mount point /home)\n",
      "Stopping at filesystem boundary (GIT_DISCOVERY_ACROSS_FILESYSTEM not set).\n",
      "2024-05-14:10:31:40,247 INFO     [evaluation_tracker.py:132] Saving results aggregated\n",
      "2024-05-14:10:31:40,260 INFO     [evaluation_tracker.py:203] Saving samples results\n",
      "hf (pretrained=Weyaxi/Einstein-v6.1-Llama3-8B,dtype=float16), gen_kwargs: (None), limit: None, num_fewshot: None, batch_size: 4\n",
      "|  Tasks  |Version|Filter|n-shot| Metric |Value |   |Stderr|\n",
      "|---------|------:|------|-----:|--------|-----:|---|-----:|\n",
      "|hellaswag|      1|none  |     0|acc     |0.6179|±  |0.0048|\n",
      "|         |       |none  |     0|acc_norm|0.8055|±  |0.0039|\n",
      "\n",
      "(/home/thsch026/my-envs/eval) \n"
     ]
    }
   ],
   "source": [
    "export MODEL=\"Weyaxi/Einstein-v6.1-Llama3-8B\" # Precached LlamaModel from HF\n",
    "\n",
    "lm_eval --model hf  --model_args pretrained=$MODEL,dtype=float16  --tasks hellaswag --device cuda:0 --batch_size 4 --log_samples --output_path \"/home/thsch026/masterarbeit/experiment/out_eval\"\n",
    "\n"
   ]
  },
  {
   "cell_type": "code",
   "execution_count": null,
   "id": "a3b51f0b-97c6-4ce4-984c-405a36811fa0",
   "metadata": {
    "tags": []
   },
   "outputs": [],
   "source": [
    "cd /home/thsch026/masterarbeit/experiment/lm-evaluation-harness"
   ]
  },
  {
   "cell_type": "code",
   "execution_count": null,
   "id": "f8674163-1bec-4584-94a9-82c6a43ff2c1",
   "metadata": {
    "tags": []
   },
   "outputs": [],
   "source": [
    "python scripts/zeno_visualize.py --data_path ../out_eval --project_name \"Initial Tests\""
   ]
  },
  {
   "cell_type": "markdown",
   "id": "5049a53c-cfff-47ff-b085-d7e258024ff5",
   "metadata": {
    "jp-MarkdownHeadingCollapsed": true,
    "tags": []
   },
   "source": [
    "### Angabe des Tokenizers - Ich nehme den gleichen wie das Ursprungsmodell"
   ]
  },
  {
   "cell_type": "code",
   "execution_count": null,
   "id": "f94548b4-be57-49c2-aa62-4623309df86a",
   "metadata": {
    "tags": []
   },
   "outputs": [],
   "source": [
    "#export MODEL=\"Weyaxi/Einstein-v6.1-Llama3-8B\" # Precached LlamaModel from HF\n",
    "#export MODEL=\"/home/thsch026/masterarbeit/models/generated/llama3-8B-lora-instruct-toxic/checkpoint-3810\"\n",
    "export MODEL=\"/home/thsch026/masterarbeit/models/llama3/Meta-Llama-3-8B-Instruct-HF\"\n",
    "export MODEL=\"/home/thsch026/masterarbeit/models/llama3/Meta-Llama-3-8B-Instruct-HF\"\n",
    "\n",
    "lm_eval --model hf  --model_args pretrained=$MODEL,dtype=float16,tokenizer=\"/home/thsch026/masterarbeit/models/llama3/Meta-Llama-3-8B-Instruct-HF\"  --tasks hellaswag --device cuda:0 --batch_size 4 --wandb_args project=lm-eval-harness-integration --log_samples --output_path \"/home/thsch026/masterarbeit/experiment/out_wan\"\n",
    "\n"
   ]
  },
  {
   "cell_type": "markdown",
   "id": "41b52f75-aa1b-48e9-969f-9fe05b8267c8",
   "metadata": {
    "tags": []
   },
   "source": [
    "# Produktive Evaluierungen mit Visualisierung (Mit Weights and Biases)"
   ]
  },
  {
   "cell_type": "code",
   "execution_count": null,
   "id": "47c11bac-3e86-4d06-9ffc-d95ffdafdaf9",
   "metadata": {},
   "outputs": [],
   "source": [
    "pip install lm_eval[wandb]"
   ]
  },
  {
   "cell_type": "code",
   "execution_count": null,
   "id": "43095741-716f-48f1-b861-b6be04e8aead",
   "metadata": {
    "tags": []
   },
   "outputs": [],
   "source": [
    "wandb login"
   ]
  },
  {
   "cell_type": "code",
   "execution_count": null,
   "id": "1d10df3c-f8f0-431b-8161-91674be141cc",
   "metadata": {},
   "outputs": [],
   "source": [
    "# Schnipsel für das wandb argment\n",
    "#--wandb_args project=lm-eval-harness-integration \\"
   ]
  },
  {
   "cell_type": "markdown",
   "id": "7709b69e-edd6-424e-9ac4-554b888f3463",
   "metadata": {
    "jp-MarkdownHeadingCollapsed": true,
    "tags": []
   },
   "source": [
    "### Evaluation run HINWEISE\n",
    "-> Das JSON config file des Checkpoints muss nach config.json kopiert werden"
   ]
  },
  {
   "cell_type": "code",
   "execution_count": 1,
   "id": "1db4e05c-5bc5-4bf9-9d3b-4d77dd913e75",
   "metadata": {
    "tags": []
   },
   "outputs": [
    {
     "name": "stdout",
     "output_type": "stream",
     "text": [
      "(/home/thsch026/my-envs/eval) \n"
     ]
    }
   ],
   "source": [
    "conda activate eval"
   ]
  },
  {
   "cell_type": "markdown",
   "id": "1578520a-dd7a-477b-b24a-99cf3e53a0d2",
   "metadata": {
    "jp-MarkdownHeadingCollapsed": true,
    "tags": []
   },
   "source": [
    "## Evaluierungen der Benchmarks für die Referenzmodelle"
   ]
  },
  {
   "cell_type": "code",
   "execution_count": 6,
   "id": "e5e75a3e-c048-4d1e-b6ac-ee1ba68f2a29",
   "metadata": {
    "tags": []
   },
   "outputs": [
    {
     "name": "stdout",
     "output_type": "stream",
     "text": [
      "(/home/thsch026/my-envs/eval) \n",
      "(/home/thsch026/my-envs/eval) \n",
      "(/home/thsch026/my-envs/eval) \n",
      "(/home/thsch026/my-envs/eval) \n"
     ]
    }
   ],
   "source": [
    "# Reference Model Llama-3-8B-Instruct-HF\n",
    "export MODEL=\"/home/thsch026/masterarbeit/models/llama3/Meta-Llama-3-8B-Instruct-HF\"\n",
    "export WANDB_NAME=\"Llama-3-8B Referenz \"\n",
    "export WANDB_NOTES=\"Llama3 Referenz Messung\""
   ]
  },
  {
   "cell_type": "code",
   "execution_count": 8,
   "id": "046b1906-7068-490a-9f80-858303e06664",
   "metadata": {
    "tags": []
   },
   "outputs": [
    {
     "name": "stdout",
     "output_type": "stream",
     "text": [
      "(/home/thsch026/my-envs/eval) \n",
      "(/home/thsch026/my-envs/eval) \n",
      "(/home/thsch026/my-envs/eval) \n",
      "(/home/thsch026/my-envs/eval) \n"
     ]
    }
   ],
   "source": [
    "# Reference Model Mistral-7B\n",
    "export MODEL=\"mistralai/Mistral-7B\"\n",
    "export WANDB_NAME=\"Mistral-7B Referenz \"\n",
    "export WANDB_NOTES=\"Mistral-7B Referenz Messung\""
   ]
  },
  {
   "cell_type": "code",
   "execution_count": 14,
   "id": "47414e4f-d417-43a5-b26c-786586d19fff",
   "metadata": {
    "tags": []
   },
   "outputs": [
    {
     "name": "stdout",
     "output_type": "stream",
     "text": [
      "(/home/thsch026/my-envs/eval) \n",
      "(/home/thsch026/my-envs/eval) \n",
      "(/home/thsch026/my-envs/eval) \n",
      "(/home/thsch026/my-envs/eval) \n"
     ]
    }
   ],
   "source": [
    "# Reference Model Mistral-7B-Instruct\n",
    "export MODEL=\"mistralai/Mistral-7B-Instruct-v0.2\"\n",
    "export WANDB_NAME=\"Mistral-7B-Instruct Referenz \"\n",
    "export WANDB_NOTES=\"Mistral-7B-Instruct Referenz Messung\""
   ]
  },
  {
   "cell_type": "code",
   "execution_count": 16,
   "id": "129cb4a1-16b8-43ac-95fb-af12e689a3c7",
   "metadata": {
    "tags": []
   },
   "outputs": [
    {
     "name": "stdout",
     "output_type": "stream",
     "text": [
      "(/home/thsch026/my-envs/eval) \n",
      "(/home/thsch026/my-envs/eval) \n",
      "(/home/thsch026/my-envs/eval) \n",
      "(/home/thsch026/my-envs/eval) \n"
     ]
    }
   ],
   "source": [
    "# Reference Model Llama-2-7B\n",
    "export MODEL=\"meta-llama/Llama-2-7b-chat-hf\"\n",
    "export WANDB_NAME=\"Llama-2-7B-chat-hf\"\n",
    "export WANDB_NOTES=\"Llama2-7B-chat Referenz Messung\""
   ]
  },
  {
   "cell_type": "markdown",
   "id": "d641358a-0888-4efc-9084-2432b269a511",
   "metadata": {},
   "source": [
    "#### Pruned Model Mistral 7B ohne die Layer 22-29"
   ]
  },
  {
   "cell_type": "markdown",
   "id": "05b4d10d-4123-4cf3-962e-7e205b394e61",
   "metadata": {
    "tags": []
   },
   "source": [
    "## Evaluierungen der AutoAWQ Kompression Ergebnisse der verschiedenen Modelle "
   ]
  },
  {
   "cell_type": "code",
   "execution_count": null,
   "id": "447c11fa-612b-49df-ae39-f4ac9374f627",
   "metadata": {
    "tags": []
   },
   "outputs": [],
   "source": [
    "!pip install autoawq"
   ]
  },
  {
   "cell_type": "markdown",
   "id": "2154ba4f-fe53-4eaa-b92a-50a9d07e9d5b",
   "metadata": {
    "jp-MarkdownHeadingCollapsed": true,
    "tags": []
   },
   "source": [
    "### Llama-3-8B"
   ]
  },
  {
   "cell_type": "code",
   "execution_count": null,
   "id": "cfdcd88b-c3cd-490f-ab5d-f826b6e7a6ed",
   "metadata": {},
   "outputs": [],
   "source": [
    "\n",
    "# Llama-3-8B AutoAWQ\n",
    "export MODEL=\"/home/thsch026/masterarbeit/models/generated/llm-awq/Llama-3-8B-AWQ-4bit\"\n",
    "\n",
    "# Settings für die WANDB Darstellung\n",
    "export WANDB_NAME=\"Llama-3-8B AutoAWQ \"\n",
    "export WANDB_NOTES=\"Llama3 quantized in 4 Bit with Autoawq\""
   ]
  },
  {
   "cell_type": "markdown",
   "id": "6a155685-7a52-49e8-8e58-cf34c49c2ed9",
   "metadata": {},
   "source": [
    "#### LLama-3-8B-Instruct"
   ]
  },
  {
   "cell_type": "code",
   "execution_count": 4,
   "id": "6191bda9-4d41-4dc3-be2c-d9140a842ecf",
   "metadata": {
    "tags": []
   },
   "outputs": [],
   "source": [
    "# Llama-3-8B AutoAWQ\n",
    "export MODEL=\"/home/thsch026/masterarbeit/models/generated/llm-awq/Meta-Llama-3-8B-Instruct-HF-AWQ-4bit\"\n",
    "\n",
    "# Settings für die WANDB Darstellung\n",
    "export WANDB_NAME=\"Llama-3-8B-Instruct AutoAWQ \"\n",
    "export WANDB_NOTES=\"Llama3 8B Instaruct quantized in 4 Bit with Autoawq\""
   ]
  },
  {
   "cell_type": "markdown",
   "id": "69435d96-0ae2-4c55-a337-8f1c757ea2d2",
   "metadata": {},
   "source": [
    "#### Mistral 7B"
   ]
  },
  {
   "cell_type": "code",
   "execution_count": null,
   "id": "1d544d80-5989-4dab-9d85-0ccf8e12525b",
   "metadata": {
    "tags": []
   },
   "outputs": [],
   "source": [
    "\n",
    "export MODEL=\"/home/thsch026/masterarbeit/models/generated/llm-awq/Mistral-7B-Instruct-v0.3-AWQ-4bit\"\n",
    "\n",
    "# Settings für die WANDB Darstellung\n",
    "export WANDB_NAME=\"Mistral-7B-Instruct-v0.3-AWQ-4bit\"\n",
    "export WANDB_NOTES=\"Mistral 7B quantized with AWQ to 4 Bit\""
   ]
  },
  {
   "cell_type": "markdown",
   "id": "7c6b6486-ec10-4ca0-ae1e-9d8cd67e1c41",
   "metadata": {},
   "source": [
    "#### Llama2-7B-chat"
   ]
  },
  {
   "cell_type": "code",
   "execution_count": 3,
   "id": "013b1be7-5f91-4215-aac8-db7528a19346",
   "metadata": {},
   "outputs": [
    {
     "name": "stdout",
     "output_type": "stream",
     "text": [
      "(/home/thsch026/my-envs/eval) \n",
      "(/home/thsch026/my-envs/eval) \n",
      "(/home/thsch026/my-envs/eval) \n",
      "(/home/thsch026/my-envs/eval) \n",
      "(/home/thsch026/my-envs/eval) \n"
     ]
    }
   ],
   "source": [
    "export MODEL=\"/home/thsch026/masterarbeit/models/generated/llm-awq/Llama-2-7b-chat-HF-AWQ-4bit\"\n",
    "\n",
    "# Settings für die WANDB Darstellung\n",
    "export WANDB_NAME=\"Llama-2-7b-chat-HF-AWQ-4bit\"\n",
    "export WANDB_NOTES=\"LLama-2-7B quantized with AWQ to 4 Bit\""
   ]
  },
  {
   "cell_type": "markdown",
   "id": "4500d1b1-7799-4258-87ef-68322112c204",
   "metadata": {
    "tags": []
   },
   "source": [
    "# Evaluierungen Pruning"
   ]
  },
  {
   "cell_type": "markdown",
   "id": "ae7f6eeb-56f6-49b3-a078-cce766fdee0f",
   "metadata": {
    "jp-MarkdownHeadingCollapsed": true,
    "tags": []
   },
   "source": [
    "## Ergebnisse der Prunings mit Wanda"
   ]
  },
  {
   "cell_type": "code",
   "execution_count": 6,
   "id": "1ec971da-6f54-43d9-889d-cfa80036a919",
   "metadata": {},
   "outputs": [
    {
     "name": "stdout",
     "output_type": "stream",
     "text": [
      "(/home/thsch026/my-envs/eval) \n",
      "(/home/thsch026/my-envs/eval) \n",
      "(/home/thsch026/my-envs/eval) \n",
      "(/home/thsch026/my-envs/eval) \n",
      "(/home/thsch026/my-envs/eval) \n"
     ]
    }
   ],
   "source": [
    "export MODEL=\"/home/thsch026/masterarbeit/models/generated/prune/wanda/\"\n",
    "\n",
    "# Settings für die WANDB Darstellung\n",
    "export WANDB_NAME=\"Llama-2-7b-chat-HF-Pruned\"\n",
    "export WANDB_NOTES=\"LLama-2-7B pruned with wanda\""
   ]
  },
  {
   "cell_type": "markdown",
   "id": "c5d0443d-f03e-491b-817f-58c24d28b385",
   "metadata": {
    "tags": []
   },
   "source": [
    "## Ergebnisse des Prunings mit PruneMe"
   ]
  },
  {
   "cell_type": "markdown",
   "id": "e1a466fe-a93c-4349-b28b-b3c5bb3e3bfd",
   "metadata": {
    "jp-MarkdownHeadingCollapsed": true,
    "tags": []
   },
   "source": [
    "### Pruned Model Llama3-8B-Instruct-HF 8 Layer reduziert"
   ]
  },
  {
   "cell_type": "code",
   "execution_count": 3,
   "id": "44c976b2-9dea-4817-9684-f6a7f813da65",
   "metadata": {
    "tags": []
   },
   "outputs": [
    {
     "name": "stdout",
     "output_type": "stream",
     "text": [
      "(/home/thsch026/my-envs/eval) \n",
      "(/home/thsch026/my-envs/eval) \n",
      "(/home/thsch026/my-envs/eval) \n"
     ]
    }
   ],
   "source": [
    "export MODEL=\"/home/thsch026/masterarbeit/models/generated/prune/pruneme/Meta-Llama-3-8B-Instruct-8_Ext\"\n",
    "export WANDB_NAME=\"Llama-3-8B-Instruct PruneMe 8_Ext \"\n",
    "export WANDB_NOTES=\"Llama3 8B Instruct Layer 23-29 mit PruneMe extrahiert\""
   ]
  },
  {
   "cell_type": "markdown",
   "id": "f86c016e-42b6-4c86-bb9b-c9f64005a08c",
   "metadata": {
    "jp-MarkdownHeadingCollapsed": true,
    "tags": []
   },
   "source": [
    "### Pruned Model Llama3-8B-Instruct-HF 12 Layer reduziert"
   ]
  },
  {
   "cell_type": "code",
   "execution_count": 3,
   "id": "37d82056-bc4c-48a7-b44f-ebba1fd282ee",
   "metadata": {
    "tags": []
   },
   "outputs": [
    {
     "name": "stdout",
     "output_type": "stream",
     "text": [
      "(/home/thsch026/my-envs/eval) \n",
      "(/home/thsch026/my-envs/eval) \n",
      "(/home/thsch026/my-envs/eval) \n"
     ]
    }
   ],
   "source": [
    "export MODEL=\"/home/thsch026/masterarbeit/models/generated/prune/pruneme/Meta-Llama-3-8B-Instruct-12_Ext\"\n",
    "export WANDB_NAME=\"Llama-3-8B-Instruct PruneMe 12_Ext \"\n",
    "export WANDB_NOTES=\"Llama3 8B Instruct 12 Layer mit PruneMe extrahiert\""
   ]
  },
  {
   "cell_type": "markdown",
   "id": "f9279779-6112-48a1-bcc0-6b6f556e66fd",
   "metadata": {
    "jp-MarkdownHeadingCollapsed": true,
    "tags": []
   },
   "source": [
    "### Pruned Model Llama3-8B 8 Layer reduziert"
   ]
  },
  {
   "cell_type": "code",
   "execution_count": 6,
   "id": "511b0726-1849-4608-bc50-21806c3d92a9",
   "metadata": {
    "tags": []
   },
   "outputs": [
    {
     "name": "stdout",
     "output_type": "stream",
     "text": [
      "(/home/thsch026/my-envs/eval) \n",
      "(/home/thsch026/my-envs/eval) \n",
      "(/home/thsch026/my-envs/eval) \n"
     ]
    }
   ],
   "source": [
    "export MODEL=\"/home/thsch026/masterarbeit/models/generated/prune/pruneme/Meta-Llama-3-8B-8_Ext\"\n",
    "export WANDB_NAME=\"Llama-3-8B PruneMe 8_Ext \"\n",
    "export WANDB_NOTES=\"Llama3 8B Instruct 8 Layer mit PruneMe extrahiert\""
   ]
  },
  {
   "cell_type": "markdown",
   "id": "514040fd-07ee-4ed2-8f97-72b6ddd322bc",
   "metadata": {
    "jp-MarkdownHeadingCollapsed": true,
    "tags": []
   },
   "source": [
    "### Pruned Model Llama3-8B 12 Layer reduziert"
   ]
  },
  {
   "cell_type": "code",
   "execution_count": 9,
   "id": "8361b6dc-22c7-42d7-8b14-b98bc53b587e",
   "metadata": {
    "tags": []
   },
   "outputs": [
    {
     "name": "stdout",
     "output_type": "stream",
     "text": [
      "(/home/thsch026/my-envs/eval) \n",
      "(/home/thsch026/my-envs/eval) \n",
      "(/home/thsch026/my-envs/eval) \n"
     ]
    }
   ],
   "source": [
    "export MODEL=\"/home/thsch026/masterarbeit/models/generated/prune/pruneme/Meta-Llama-3-8B-12_Ext\"\n",
    "export WANDB_NAME=\"Llama-3-8B PruneMe 12_Ext \"\n",
    "export WANDB_NOTES=\"Llama3 8B Instruct 12 Layer mit PruneMe extrahiert\""
   ]
  },
  {
   "cell_type": "markdown",
   "id": "93755c80-7e9b-4994-8bfa-ab2933b6c8b8",
   "metadata": {
    "jp-MarkdownHeadingCollapsed": true,
    "tags": []
   },
   "source": [
    "### Pruned Model Mistral 7B 8 Layer reduziert"
   ]
  },
  {
   "cell_type": "code",
   "execution_count": 11,
   "id": "06f124c3-4e11-4f9d-8302-f183746f9387",
   "metadata": {
    "tags": []
   },
   "outputs": [
    {
     "name": "stdout",
     "output_type": "stream",
     "text": [
      "(/home/thsch026/my-envs/eval) \n",
      "(/home/thsch026/my-envs/eval) \n",
      "(/home/thsch026/my-envs/eval) \n"
     ]
    }
   ],
   "source": [
    "export MODEL=\"/home/thsch026/masterarbeit/models/generated/prune/pruneme/Mistral-7B-Instruct-v0.2-8_Ext\"\n",
    "export WANDB_NAME=\"Mistral 7B Instruct PruneMe 8_Ext \"\n",
    "export WANDB_NOTES=\"Mistral 7B Instruct 8 Layer mit PruneMe extrahiert\""
   ]
  },
  {
   "cell_type": "markdown",
   "id": "9142eed1-bda6-4e48-95e9-b920cbc5a463",
   "metadata": {
    "jp-MarkdownHeadingCollapsed": true,
    "tags": []
   },
   "source": [
    "### Pruned Model Mistral 7B 12 Layer reduziert"
   ]
  },
  {
   "cell_type": "code",
   "execution_count": 3,
   "id": "0df0e187-fc1d-490f-8fca-d4fa5763cba6",
   "metadata": {
    "tags": []
   },
   "outputs": [
    {
     "name": "stdout",
     "output_type": "stream",
     "text": [
      "(/home/thsch026/my-envs/eval) \n",
      "(/home/thsch026/my-envs/eval) \n",
      "(/home/thsch026/my-envs/eval) \n"
     ]
    }
   ],
   "source": [
    "export MODEL=\"/home/thsch026/masterarbeit/models/generated/prune/pruneme/Mistral-7B-Instruct-v0.2-12_Ext\"\n",
    "export WANDB_NAME=\"Mistral 7B Instruct PruneMe 12_Ext \"\n",
    "export WANDB_NOTES=\"Mistral 7B Instruct 12 Layer mit PruneMe extrahiert\""
   ]
  },
  {
   "cell_type": "markdown",
   "id": "f1951c52-fb83-4518-8e88-f90b789864fb",
   "metadata": {
    "jp-MarkdownHeadingCollapsed": true,
    "tags": []
   },
   "source": [
    "### Pruned Model Llama2 7B Chat 8 Layer reduziert"
   ]
  },
  {
   "cell_type": "code",
   "execution_count": 13,
   "id": "d6a596fd-e429-4e38-b326-58f28645476a",
   "metadata": {
    "tags": []
   },
   "outputs": [
    {
     "name": "stdout",
     "output_type": "stream",
     "text": [
      "(/home/thsch026/my-envs/eval) \n",
      "(/home/thsch026/my-envs/eval) \n",
      "(/home/thsch026/my-envs/eval) \n"
     ]
    }
   ],
   "source": [
    "export MODEL=\"/home/thsch026/masterarbeit/models/generated/prune/pruneme/Llama-2-7b-chat-hf-8_Ext\"\n",
    "export WANDB_NAME=\"Llama2 7B chat PruneMe 8_Ext \"\n",
    "export WANDB_NOTES=\"Llama2 7B chat 8 Layer mit PruneMe extrahiert\""
   ]
  },
  {
   "cell_type": "markdown",
   "id": "9bf642c3-0be0-4c1f-af38-939453e868c7",
   "metadata": {
    "jp-MarkdownHeadingCollapsed": true,
    "tags": []
   },
   "source": [
    "### Pruned Model Llama2 7B Chat 12 Layer reduziert"
   ]
  },
  {
   "cell_type": "code",
   "execution_count": 15,
   "id": "d9bfc1f9-a750-40a6-8801-9039b5818077",
   "metadata": {
    "tags": []
   },
   "outputs": [
    {
     "name": "stdout",
     "output_type": "stream",
     "text": [
      "(/home/thsch026/my-envs/eval) \n",
      "(/home/thsch026/my-envs/eval) \n",
      "(/home/thsch026/my-envs/eval) \n"
     ]
    }
   ],
   "source": [
    "export MODEL=\"/home/thsch026/masterarbeit/models/generated/prune/pruneme/Llama-2-7b-chat-hf-12_Ext\"\n",
    "export WANDB_NAME=\"Llama2 7B chat PruneMe 12_Ext \"\n",
    "export WANDB_NOTES=\"Llama2 7B chat 12 Layer mit PruneMe extrahiert\""
   ]
  },
  {
   "cell_type": "markdown",
   "id": "eee023a3-4598-41dc-9e62-d399132a6234",
   "metadata": {
    "jp-MarkdownHeadingCollapsed": true,
    "tags": []
   },
   "source": [
    "### Pruned Model Mistral 7B ohne die Layer 22-29"
   ]
  },
  {
   "cell_type": "code",
   "execution_count": 12,
   "id": "66be1d4b-2741-4fbf-9f1c-cf15491dba0b",
   "metadata": {
    "tags": []
   },
   "outputs": [
    {
     "name": "stdout",
     "output_type": "stream",
     "text": [
      "(/home/thsch026/my-envs/eval) \n",
      "(/home/thsch026/my-envs/eval) \n",
      "(/home/thsch026/my-envs/eval) \n"
     ]
    }
   ],
   "source": [
    "export MODEL=\"/home/thsch026/masterarbeit/models/generated/prune/pruneme/mistral7_pruneme\"\n",
    "export WANDB_NAME=\"Mistral7 B PruneMe \"\n",
    "export WANDB_NOTES=\"Mistral7B Layer 22-29 mit PruneMe extrahiert\""
   ]
  },
  {
   "cell_type": "markdown",
   "id": "c3221c68-2e39-4d4d-9d91-d3f414828334",
   "metadata": {
    "jp-MarkdownHeadingCollapsed": true,
    "tags": []
   },
   "source": [
    "### Pruned Model Llama2-7B-Chat-HF ohne die Layer 21-29"
   ]
  },
  {
   "cell_type": "code",
   "execution_count": 19,
   "id": "e97fac01-01ee-4583-9ed2-410fe14c8a6a",
   "metadata": {
    "tags": []
   },
   "outputs": [
    {
     "name": "stdout",
     "output_type": "stream",
     "text": [
      "(/home/thsch026/my-envs/eval) \n",
      "(/home/thsch026/my-envs/eval) \n",
      "(/home/thsch026/my-envs/eval) \n"
     ]
    }
   ],
   "source": [
    "export MODEL=\"/home/thsch026/masterarbeit/models/generated/prune/pruneme/llama2_pruneme\"\n",
    "export WANDB_NAME=\"Llama2 PruneMe \"\n",
    "export WANDB_NOTES=\"Llama2 Layer 21-29 mit PruneMe extrahiert\""
   ]
  },
  {
   "cell_type": "markdown",
   "id": "a11dfb4c-4e7e-4d80-87e4-625f84f32557",
   "metadata": {
    "jp-MarkdownHeadingCollapsed": true,
    "tags": []
   },
   "source": [
    "### Pruned Model Llama2-7B-Chat-HF ohne die Layer 18-30"
   ]
  },
  {
   "cell_type": "code",
   "execution_count": 22,
   "id": "49a952ae-7e78-4386-ad50-45cc89b81407",
   "metadata": {
    "tags": []
   },
   "outputs": [
    {
     "name": "stdout",
     "output_type": "stream",
     "text": [
      "(/home/thsch026/my-envs/eval) \n",
      "(/home/thsch026/my-envs/eval) \n",
      "(/home/thsch026/my-envs/eval) \n"
     ]
    }
   ],
   "source": [
    "export MODEL=\"/home/thsch026/masterarbeit/Slim/results/PruneMe/llama2-7B-Instruct_18-30\"\n",
    "export WANDB_NAME=\"Llama2 PruneMe 12 Layers extracted \"\n",
    "export WANDB_NOTES=\"Llama2 Layer 18-30 mit PruneMe extrahiert\""
   ]
  },
  {
   "cell_type": "markdown",
   "id": "e855ea19-1663-48e9-aaa0-9886a4e3d9f8",
   "metadata": {},
   "source": [
    "## Standard Evaluation Task"
   ]
  },
  {
   "cell_type": "code",
   "execution_count": 7,
   "id": "36c6b231-89d0-4671-b554-64db09310cf8",
   "metadata": {
    "tags": []
   },
   "outputs": [
    {
     "name": "stdout",
     "output_type": "stream",
     "text": [
      "(/home/thsch026/my-envs/eval) \n",
      "3\n",
      "(/home/thsch026/my-envs/eval) \n"
     ]
    }
   ],
   "source": [
    "export CUDA_VISIBLE_DEVICES=\"3\"\n",
    "echo $CUDA_VISIBLE_DEVICES"
   ]
  },
  {
   "cell_type": "code",
   "execution_count": 16,
   "id": "4bc3c0e6-2eb8-462e-b6aa-58b287b17205",
   "metadata": {
    "tags": []
   },
   "outputs": [
    {
     "name": "stdout",
     "output_type": "stream",
     "text": [
      "\u001b[34m\u001b[1mwandb\u001b[0m: Currently logged in as: \u001b[33mthomas-t-schmitt\u001b[0m (\u001b[33mpumaai\u001b[0m). Use \u001b[1m`wandb login --relogin`\u001b[0m to force relogin\n",
      "\u001b[34m\u001b[1mwandb\u001b[0m: wandb version 0.17.3 is available!  To upgrade, please run:\n",
      "\u001b[34m\u001b[1mwandb\u001b[0m:  $ pip install wandb --upgrade\n",
      "\u001b[34m\u001b[1mwandb\u001b[0m: Tracking run with wandb version 0.17.0\n",
      "\u001b[34m\u001b[1mwandb\u001b[0m: Run data is saved locally in \u001b[35m\u001b[1m/home/thsch026/masterarbeit/work/lm-evaluation-harness/wandb/run-20240701_082608-z42ns23z\u001b[0m\n",
      "\u001b[34m\u001b[1mwandb\u001b[0m: Run \u001b[1m`wandb offline`\u001b[0m to turn off syncing.\n",
      "\u001b[34m\u001b[1mwandb\u001b[0m: Syncing run \u001b[33mLlama2 7B chat PruneMe 12_Ext \u001b[0m\n",
      "\u001b[34m\u001b[1mwandb\u001b[0m: ⭐️ View project at \u001b[34m\u001b[4mhttps://wandb.ai/pumaai/lm-eval-harness-integration\u001b[0m\n",
      "\u001b[34m\u001b[1mwandb\u001b[0m: 🚀 View run at \u001b[34m\u001b[4mhttps://wandb.ai/pumaai/lm-eval-harness-integration/runs/z42ns23z\u001b[0m\n",
      "2024-07-01:08:26:13,852 INFO     [__main__.py:254] Verbosity set to INFO\n",
      "2024-07-01:08:26:26,073 INFO     [__main__.py:341] Selected Tasks: ['arc_challenge', 'hellaswag', 'truthfulqa_mc2', 'winogrande']\n",
      "2024-07-01:08:26:26,080 INFO     [evaluator.py:141] Setting random seed to 0 | Setting numpy seed to 1234 | Setting torch manual seed to 1234\n",
      "2024-07-01:08:26:26,080 INFO     [evaluator.py:187] Initializing hf model, with arguments: {'pretrained': '/home/thsch026/masterarbeit/models/generated/prune/pruneme/Llama-2-7b-chat-hf-12_Ext', 'dtype': 'float16'}\n",
      "2024-07-01:08:26:26,135 WARNING  [logging.py:61] Detected kernel version 5.4.0, which is below the recommended minimum of 5.5.0; this can cause the process to hang. It is recommended to upgrade the kernel to the minimum version or higher.\n",
      "2024-07-01:08:26:26,136 INFO     [huggingface.py:173] Device not specified\n",
      "2024-07-01:08:26:26,136 INFO     [huggingface.py:174] Cuda Available? True\n",
      "Loading checkpoint shards: 100%|██████████████████| 2/2 [01:17<00:00, 38.89s/it]\n",
      "/home/thsch026/my-envs/eval/lib/python3.10/site-packages/datasets/load.py:1486: FutureWarning: The repository for hellaswag contains custom code which must be executed to correctly load the dataset. You can inspect the repository content at https://hf.co/datasets/hellaswag\n",
      "You can avoid this message in future by passing the argument `trust_remote_code=True`.\n",
      "Passing `trust_remote_code=True` will be mandatory to load this dataset from the next major release of `datasets`.\n",
      "  warnings.warn(\n",
      "/home/thsch026/my-envs/eval/lib/python3.10/site-packages/datasets/load.py:1486: FutureWarning: The repository for winogrande contains custom code which must be executed to correctly load the dataset. You can inspect the repository content at https://hf.co/datasets/winogrande\n",
      "You can avoid this message in future by passing the argument `trust_remote_code=True`.\n",
      "Passing `trust_remote_code=True` will be mandatory to load this dataset from the next major release of `datasets`.\n",
      "  warnings.warn(\n",
      "2024-07-01:08:28:10,635 INFO     [task.py:398] Building contexts for winogrande on rank 0...\n",
      "100%|████████████████████████████████████| 1267/1267 [00:00<00:00, 78494.90it/s]\n",
      "2024-07-01:08:28:10,727 INFO     [task.py:398] Building contexts for truthfulqa_mc2 on rank 0...\n",
      "100%|████████████████████████████████████████| 817/817 [00:00<00:00, 950.06it/s]\n",
      "2024-07-01:08:28:11,639 INFO     [task.py:398] Building contexts for hellaswag on rank 0...\n",
      "100%|███████████████████████████████████| 10042/10042 [00:02<00:00, 3355.80it/s]\n",
      "2024-07-01:08:28:17,239 INFO     [task.py:398] Building contexts for arc_challenge on rank 0...\n",
      "100%|█████████████████████████████████████| 1172/1172 [00:00<00:00, 1565.57it/s]\n",
      "2024-07-01:08:28:18,105 INFO     [evaluator.py:404] Running loglikelihood requests\n",
      "Running loglikelihood requests:   0%|                 | 0/53271 [00:00<?, ?it/s]Passed argument batch_size = auto:1. Detecting largest batch size\n",
      "Determined largest batch size: 64\n",
      "Running loglikelihood requests: 100%|████| 53271/53271 [04:23<00:00, 202.35it/s]\n",
      "2024-07-01:08:33:14,523 WARNING  [huggingface.py:1304] Failed to get model SHA for /home/thsch026/masterarbeit/models/generated/prune/pruneme/Llama-2-7b-chat-hf-12_Ext at revision main. Error: Repo id must be in the form 'repo_name' or 'namespace/repo_name': '/home/thsch026/masterarbeit/models/generated/prune/pruneme/Llama-2-7b-chat-hf-12_Ext'. Use `repo_type` argument if needed.\n",
      "2024-07-01:08:33:29,792 INFO     [evaluation_tracker.py:132] Saving results aggregated\n",
      "2024-07-01:08:33:29,812 INFO     [evaluation_tracker.py:203] Saving samples results\n",
      "2024-07-01:08:33:29,907 INFO     [evaluation_tracker.py:203] Saving samples results\n",
      "2024-07-01:08:33:31,052 INFO     [evaluation_tracker.py:203] Saving samples results\n",
      "2024-07-01:08:33:31,192 INFO     [evaluation_tracker.py:203] Saving samples results\n",
      "hf (pretrained=/home/thsch026/masterarbeit/models/generated/prune/pruneme/Llama-2-7b-chat-hf-12_Ext,dtype=float16), gen_kwargs: (None), limit: None, num_fewshot: None, batch_size: auto (64)\n",
      "|    Tasks     |Version|Filter|n-shot| Metric |Value |   |Stderr|\n",
      "|--------------|------:|------|-----:|--------|-----:|---|-----:|\n",
      "|winogrande    |      1|none  |     0|acc     |0.5888|±  |0.0138|\n",
      "|truthfulqa_mc2|      2|none  |     0|acc     |   NaN|±  |   NaN|\n",
      "|hellaswag     |      1|none  |     0|acc     |0.3213|±  |0.0047|\n",
      "|              |       |none  |     0|acc_norm|0.4063|±  |0.0049|\n",
      "|arc_challenge |      1|none  |     0|acc     |0.2739|±  |0.0130|\n",
      "|              |       |none  |     0|acc_norm|0.3174|±  |0.0136|\n",
      "\n",
      "\u001b[34m\u001b[1mwandb\u001b[0m:                                                                                \n",
      "\u001b[34m\u001b[1mwandb\u001b[0m: \n",
      "\u001b[34m\u001b[1mwandb\u001b[0m: Run history:\n",
      "\u001b[34m\u001b[1mwandb\u001b[0m:             arc_challenge/acc ▁\n",
      "\u001b[34m\u001b[1mwandb\u001b[0m:        arc_challenge/acc_norm ▁\n",
      "\u001b[34m\u001b[1mwandb\u001b[0m: arc_challenge/acc_norm_stderr ▁\n",
      "\u001b[34m\u001b[1mwandb\u001b[0m:      arc_challenge/acc_stderr ▁\n",
      "\u001b[34m\u001b[1mwandb\u001b[0m:                 hellaswag/acc ▁\n",
      "\u001b[34m\u001b[1mwandb\u001b[0m:            hellaswag/acc_norm ▁\n",
      "\u001b[34m\u001b[1mwandb\u001b[0m:     hellaswag/acc_norm_stderr ▁\n",
      "\u001b[34m\u001b[1mwandb\u001b[0m:          hellaswag/acc_stderr ▁\n",
      "\u001b[34m\u001b[1mwandb\u001b[0m:                winogrande/acc ▁\n",
      "\u001b[34m\u001b[1mwandb\u001b[0m:         winogrande/acc_stderr ▁\n",
      "\u001b[34m\u001b[1mwandb\u001b[0m: \n",
      "\u001b[34m\u001b[1mwandb\u001b[0m: Run summary:\n",
      "\u001b[34m\u001b[1mwandb\u001b[0m:             arc_challenge/acc 0.27389\n",
      "\u001b[34m\u001b[1mwandb\u001b[0m:        arc_challenge/acc_norm 0.31741\n",
      "\u001b[34m\u001b[1mwandb\u001b[0m: arc_challenge/acc_norm_stderr 0.0136\n",
      "\u001b[34m\u001b[1mwandb\u001b[0m:      arc_challenge/acc_stderr 0.01303\n",
      "\u001b[34m\u001b[1mwandb\u001b[0m:           arc_challenge/alias arc_challenge\n",
      "\u001b[34m\u001b[1mwandb\u001b[0m:                 hellaswag/acc 0.32125\n",
      "\u001b[34m\u001b[1mwandb\u001b[0m:            hellaswag/acc_norm 0.40629\n",
      "\u001b[34m\u001b[1mwandb\u001b[0m:     hellaswag/acc_norm_stderr 0.0049\n",
      "\u001b[34m\u001b[1mwandb\u001b[0m:          hellaswag/acc_stderr 0.00466\n",
      "\u001b[34m\u001b[1mwandb\u001b[0m:               hellaswag/alias hellaswag\n",
      "\u001b[34m\u001b[1mwandb\u001b[0m:            truthfulqa_mc2/acc nan\n",
      "\u001b[34m\u001b[1mwandb\u001b[0m:     truthfulqa_mc2/acc_stderr nan\n",
      "\u001b[34m\u001b[1mwandb\u001b[0m:          truthfulqa_mc2/alias truthfulqa_mc2\n",
      "\u001b[34m\u001b[1mwandb\u001b[0m:                winogrande/acc 0.58879\n",
      "\u001b[34m\u001b[1mwandb\u001b[0m:         winogrande/acc_stderr 0.01383\n",
      "\u001b[34m\u001b[1mwandb\u001b[0m:              winogrande/alias winogrande\n",
      "\u001b[34m\u001b[1mwandb\u001b[0m: \n",
      "\u001b[34m\u001b[1mwandb\u001b[0m: 🚀 View run \u001b[33mLlama2 7B chat PruneMe 12_Ext \u001b[0m at: \u001b[34m\u001b[4mhttps://wandb.ai/pumaai/lm-eval-harness-integration/runs/z42ns23z\u001b[0m\n",
      "\u001b[34m\u001b[1mwandb\u001b[0m: ⭐️ View project at: \u001b[34m\u001b[4mhttps://wandb.ai/pumaai/lm-eval-harness-integration\u001b[0m\n",
      "\u001b[34m\u001b[1mwandb\u001b[0m: Synced 6 W&B file(s), 5 media file(s), 10 artifact file(s) and 0 other file(s)\n",
      "\u001b[34m\u001b[1mwandb\u001b[0m: Find logs at: \u001b[35m\u001b[1m./wandb/run-20240701_082608-z42ns23z/logs\u001b[0m\n",
      "(/home/thsch026/my-envs/eval) \n"
     ]
    }
   ],
   "source": [
    "lm_eval --model hf  --model_args pretrained=$MODEL,dtype=float16  --tasks arc_challenge,truthfulqa_mc2,winogrande,hellaswag \\\n",
    "        --device cuda:3 --batch_size auto --wandb_args project=lm-eval-harness-integration --log_samples \\\n",
    "        --output_path \"/home/thsch026/masterarbeit/Slim/results\""
   ]
  },
  {
   "cell_type": "markdown",
   "id": "41c0da38-7590-4403-bcc9-61cbeb3df55d",
   "metadata": {
    "jp-MarkdownHeadingCollapsed": true,
    "tags": []
   },
   "source": [
    "## Evaluierungen verschiedener Mistral 7B Modelle"
   ]
  },
  {
   "cell_type": "code",
   "execution_count": 1,
   "id": "4bab0678-406f-4576-8b15-986c85dace55",
   "metadata": {
    "tags": []
   },
   "outputs": [],
   "source": [
    "# Lora Modell trained with \n",
    "#export MODEL=\"/home/thsch026/masterarbeit/models/generated/llama3-8B-lora-instruct-toxic/checkpoint-3810\"\n",
    "\n",
    "# Quantized Model(4bit)\n",
    "#export MODEL=\"/home/thsch026/masterarbeit/models/generated/Llama-3-8B-AWQ-4bit\"\n",
    "\n",
    "# Pruned Model llama3 (extracted layer 23-29)\n",
    "#export MODEL=\"/home/thsch026/masterarbeit/models/generated/prune/pruneme/merged-mistral\"\n",
    "\n",
    "# Lora Modell tuned with ms_marco\n",
    "#export Model=\"/home/thsch026/masterarbeit/models/generated/lora/mistral_7B_ms-marco/checkpoint-7236\"\n",
    "\n",
    "\n",
    "\n",
    "# Reference Model\n",
    "#export MODEL=\"mistralai/Mistral-7B-Instruct-v0.2\"\n",
    "\n"
   ]
  },
  {
   "cell_type": "markdown",
   "id": "5c3b1aed-be24-44ab-a615-eb76a9506bab",
   "metadata": {
    "jp-MarkdownHeadingCollapsed": true,
    "tags": []
   },
   "source": [
    "## Andere Modelle"
   ]
  },
  {
   "cell_type": "code",
   "execution_count": 4,
   "id": "f1c7e9e0-9a8d-4dda-9c74-c3c25da809a4",
   "metadata": {
    "tags": []
   },
   "outputs": [
    {
     "name": "stdout",
     "output_type": "stream",
     "text": [
      "(/home/thsch026/my-envs/eval) \n",
      "(/home/thsch026/my-envs/eval) \n",
      "(/home/thsch026/my-envs/eval) \n",
      "(/home/thsch026/my-envs/eval) \n",
      "(/home/thsch026/my-envs/eval) \n",
      "(/home/thsch026/my-envs/eval) \n",
      "(/home/thsch026/my-envs/eval) \n",
      "(/home/thsch026/my-envs/eval) \n",
      "(/home/thsch026/my-envs/eval) \n",
      "(/home/thsch026/my-envs/eval) \n",
      "(/home/thsch026/my-envs/eval) \n",
      "(/home/thsch026/my-envs/eval) \n",
      "(/home/thsch026/my-envs/eval) \n",
      "(/home/thsch026/my-envs/eval) \n",
      "(/home/thsch026/my-envs/eval) \n",
      "(/home/thsch026/my-envs/eval) \n",
      "(/home/thsch026/my-envs/eval) \n",
      "(/home/thsch026/my-envs/eval) \n",
      "(/home/thsch026/my-envs/eval) \n",
      "(/home/thsch026/my-envs/eval) \n",
      "(/home/thsch026/my-envs/eval) \n",
      "(/home/thsch026/my-envs/eval) \n"
     ]
    }
   ],
   "source": [
    "# KD Model\n",
    "#export MODEL=\"/home/thsch026/masterarbeit/models/generated/kd\"\n",
    "\n",
    "# Model Pruned with wanda\n",
    "# export MODEL=\"/home/thsch026/masterarbeit/models/generated/prune/wanda\" \n",
    "# Reference Model\n",
    "#export MODEL='meta-llama/Llama-2-7b-hf' \n",
    "#export MODEL=\"/home/thsch026/masterarbeit/experiment/qlora/output/checkpoint-500\"\n",
    "\n",
    "# QLORA Model\n",
    "#export MODEL=\"/home/thsch026/masterarbeit/models/generated/qlora/Llama-3-8B-qlora_full\"\n",
    "\n",
    "# Pruned and KD LLama3 small\n",
    "export MODEL=\"/home/thsch026/masterarbeit/Slim/notebooks/llama2_distilled/checkpoint-9428\"\n",
    "#export MODEL=\"google/bert_uncased_L-2_H-128_A-2\"\n",
    "# llama2\n",
    "\n",
    "# export MODEL=\"TinyLlama/TinyLlama-1.1B-Chat-v1.0\"\n",
    "\n",
    "# Name and notes optional\n",
    "export WANDB_NAME=\"Llama-3-8B AutoAWQ \"\n",
    "export WANDB_NOTES=\"Llama3 quantized in 4 Bit with Autoawq\""
   ]
  },
  {
   "cell_type": "markdown",
   "id": "d288b164-f2a0-4f99-84be-0cf84225ab40",
   "metadata": {},
   "source": [
    "### Task Durchführung"
   ]
  },
  {
   "cell_type": "code",
   "execution_count": null,
   "id": "b4cfa083-3c18-4cb6-92bc-fcc7d9d26edf",
   "metadata": {
    "tags": []
   },
   "outputs": [],
   "source": [
    "pip install bitsandbytes"
   ]
  },
  {
   "cell_type": "code",
   "execution_count": 5,
   "id": "569894ae-e765-47f5-9aa0-0a3c9cf8f0d2",
   "metadata": {
    "tags": []
   },
   "outputs": [
    {
     "name": "stdout",
     "output_type": "stream",
     "text": [
      "(/home/thsch026/my-envs/eval) \n"
     ]
    }
   ],
   "source": [
    "cd \"/home/thsch026/masterarbeit/work/lm-evaluation-harness\""
   ]
  },
  {
   "cell_type": "code",
   "execution_count": null,
   "id": "cc404f3e-399e-4c19-b1a9-3537592ea935",
   "metadata": {
    "tags": []
   },
   "outputs": [],
   "source": [
    "lm_eval --model hf  --model_args pretrained=$MODEL,tokenizer=$MODEL,dtype=float16  --tasks arc_challenge,hellaswag,truthfulqa_mc2,winogrande,gsm8k \\\n",
    "        --device cuda:2 --batch_size auto --wandb_args project=lm-eval-harness-integration --log_samples \\\n",
    "        --output_path \"/home/thsch026/masterarbeit/experiment/out_wan\""
   ]
  },
  {
   "cell_type": "code",
   "execution_count": null,
   "id": "04b44cbd-5f2d-491b-a534-23e8c3d3d953",
   "metadata": {
    "tags": []
   },
   "outputs": [],
   "source": [
    "lm_eval --model hf  --model_args pretrained=$MODEL,tokenizer=$MODEL,dtype=float16 --tasks truthfulqa_mc2,arc_challenge \\\n",
    "        --device cuda:2 --batch_size auto --wandb_args project=lm-eval-harness-integration --log_samples \\\n",
    "        --output_path \"/home/thsch026/masterarbeit/experiment/out_wan\""
   ]
  },
  {
   "cell_type": "markdown",
   "id": "c62d91dd-f69d-4313-9ee7-d558b722e5b8",
   "metadata": {
    "jp-MarkdownHeadingCollapsed": true,
    "tags": []
   },
   "source": [
    "## lm_eval HELP"
   ]
  },
  {
   "cell_type": "code",
   "execution_count": 6,
   "id": "c9d98dba-8c95-4ec5-8863-7309a69e12c5",
   "metadata": {},
   "outputs": [
    {
     "name": "stdout",
     "output_type": "stream",
     "text": [
      "usage: lm_eval [-h] [--model MODEL] [--tasks task1,task2]\n",
      "               [--model_args MODEL_ARGS] [--num_fewshot N]\n",
      "               [--batch_size auto|auto:N|N] [--max_batch_size N]\n",
      "               [--device DEVICE] [--output_path DIR|DIR/file.json]\n",
      "               [--limit N|0<N<1] [--use_cache DIR]\n",
      "               [--cache_requests {true,refresh,delete}] [--check_integrity]\n",
      "               [--write_out] [--log_samples] [--show_config]\n",
      "               [--include_path DIR] [--gen_kwargs GEN_KWARGS]\n",
      "               [--verbosity CRITICAL|ERROR|WARNING|INFO|DEBUG]\n",
      "               [--wandb_args WANDB_ARGS] [--hf_hub_log_args HF_HUB_LOG_ARGS]\n",
      "               [--predict_only] [--seed SEED] [--trust_remote_code]\n",
      "\n",
      "options:\n",
      "  -h, --help            show this help message and exit\n",
      "  --model MODEL, -m MODEL\n",
      "                        Name of model e.g. `hf`\n",
      "  --tasks task1,task2, -t task1,task2\n",
      "                        To get full list of tasks, use the command lm-eval --tasks list\n",
      "  --model_args MODEL_ARGS, -a MODEL_ARGS\n",
      "                        Comma separated string arguments for model, e.g. `pretrained=EleutherAI/pythia-160m,dtype=float32`\n",
      "  --num_fewshot N, -f N\n",
      "                        Number of examples in few-shot context\n",
      "  --batch_size auto|auto:N|N, -b auto|auto:N|N\n",
      "                        Acceptable values are 'auto', 'auto:N' or N, where N is an integer. Default 1.\n",
      "  --max_batch_size N    Maximal batch size to try with --batch_size auto.\n",
      "  --device DEVICE       Device to use (e.g. cuda, cuda:0, cpu).\n",
      "  --output_path DIR|DIR/file.json, -o DIR|DIR/file.json\n",
      "                        The path to the output file where the result metrics will be saved. If the path is a directory and log_samples is true, the results will be saved in the directory. Else the parent directory will be used.\n",
      "  --limit N|0<N<1, -L N|0<N<1\n",
      "                        Limit the number of examples per task. If <1, limit is a percentage of the total number of examples.\n",
      "  --use_cache DIR, -c DIR\n",
      "                        A path to a sqlite db file for caching model responses. `None` if not caching.\n",
      "  --cache_requests {true,refresh,delete}\n",
      "                        Speed up evaluation by caching the building of dataset requests. `None` if not caching.\n",
      "  --check_integrity     Whether to run the relevant part of the test suite for the tasks.\n",
      "  --write_out, -w       Prints the prompt for the first few documents.\n",
      "  --log_samples, -s     If True, write out all model outputs and documents for per-sample measurement and post-hoc analysis. Use with --output_path.\n",
      "  --show_config         If True, shows the the full config of all tasks at the end of the evaluation.\n",
      "  --include_path DIR    Additional path to include if there are external tasks to include.\n",
      "  --gen_kwargs GEN_KWARGS\n",
      "                        String arguments for model generation on greedy_until tasks, e.g. `temperature=0,top_k=0,top_p=0`.\n",
      "  --verbosity CRITICAL|ERROR|WARNING|INFO|DEBUG, -v CRITICAL|ERROR|WARNING|INFO|DEBUG\n",
      "                        Controls the reported logging error level. Set to DEBUG when testing + adding new task configurations for comprehensive log output.\n",
      "  --wandb_args WANDB_ARGS\n",
      "                        Comma separated string arguments passed to wandb.init, e.g. `project=lm-eval,job_type=eval\n",
      "  --hf_hub_log_args HF_HUB_LOG_ARGS\n",
      "                        Comma separated string arguments passed to Hugging Face Hub's log function, e.g. `hub_results_org=EleutherAI,hub_repo_name=lm-eval-results`\n",
      "  --predict_only, -x    Use with --log_samples. Only model outputs will be saved and metrics will not be evaluated.\n",
      "  --seed SEED           Set seed for python's random, numpy, torch, and fewshot sampling.\n",
      "                        Accepts a comma-separated list of 4 values for python's random, numpy, torch, and fewshot sampling seeds, respectively, or a single integer to set the same seed for all three.\n",
      "                        The values are either an integer or 'None' to not set the seed. Default is `0,1234,1234,1234` (for backward compatibility).\n",
      "                        E.g. `--seed 0,None,8,52` sets `random.seed(0)`, `torch.manual_seed(8)`, and fewshot sampling seed to 52. Here numpy's seed is not set since the second value is `None`.\n",
      "                        E.g, `--seed 42` sets all four seeds to 42.\n",
      "  --trust_remote_code   Sets trust_remote_code to True to execute code to create HF Datasets from the Hub\n",
      "(/home/thsch026/my-envs/eval) \n"
     ]
    }
   ],
   "source": [
    "lm_eval --help"
   ]
  },
  {
   "cell_type": "code",
   "execution_count": null,
   "id": "cb4b74b5-2e8f-4f5a-9ddf-30e35273e619",
   "metadata": {},
   "outputs": [],
   "source": []
  }
 ],
 "metadata": {
  "kernelspec": {
   "display_name": "Bash",
   "language": "bash",
   "name": "bash"
  },
  "language_info": {
   "codemirror_mode": "shell",
   "file_extension": ".sh",
   "mimetype": "text/x-sh",
   "name": "bash"
  }
 },
 "nbformat": 4,
 "nbformat_minor": 5
}
