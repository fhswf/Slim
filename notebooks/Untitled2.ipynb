{
 "cells": [
  {
   "cell_type": "code",
   "execution_count": 1,
   "id": "fee53447-4042-4b25-a10a-f5fc44642a0f",
   "metadata": {
    "tags": []
   },
   "outputs": [
    {
     "name": "stdout",
     "output_type": "stream",
     "text": [
      "(/home/thsch026/my-envs/llm-distillation) \n"
     ]
    }
   ],
   "source": [
    "conda activate llm-distillation"
   ]
  },
  {
   "cell_type": "code",
   "execution_count": 2,
   "id": "bac5d10f-6eda-4938-8871-506d8df0f2f4",
   "metadata": {
    "tags": []
   },
   "outputs": [
    {
     "name": "stdout",
     "output_type": "stream",
     "text": [
      "(/home/thsch026/my-envs/llm-distillation) \n"
     ]
    }
   ],
   "source": [
    "export CUDA_VISIBLE_DEVICES=1"
   ]
  },
  {
   "cell_type": "code",
   "execution_count": 5,
   "id": "0f4eb090-d07f-418a-b6e5-14bcb293a90b",
   "metadata": {
    "tags": []
   },
   "outputs": [
    {
     "name": "stdout",
     "output_type": "stream",
     "text": [
      "(/home/thsch026/my-envs/llm-distillation) \n",
      "(/home/thsch026/my-envs/llm-distillation) \n",
      "(/home/thsch026/my-envs/llm-distillation) \n",
      "[W socket.cpp:426] [c10d] The server socket has failed to bind to [::]:29500 (errno: 98 - Address already in use).\n",
      "[W socket.cpp:426] [c10d] The server socket has failed to bind to 0.0.0.0:29500 (errno: 98 - Address already in use).\n",
      "[E socket.cpp:462] [c10d] The server socket has failed to listen on any local network address.\n",
      "Traceback (most recent call last):\n",
      "  File \"/home/thsch026/my-envs/llm-distillation/bin/torchrun\", line 8, in <module>\n",
      "    sys.exit(main())\n",
      "  File \"/home/thsch026/my-envs/llm-distillation/lib/python3.9/site-packages/torch/distributed/elastic/multiprocessing/errors/__init__.py\", line 346, in wrapper\n",
      "    return f(*args, **kwargs)\n",
      "  File \"/home/thsch026/my-envs/llm-distillation/lib/python3.9/site-packages/torch/distributed/run.py\", line 794, in main\n",
      "    run(args)\n",
      "  File \"/home/thsch026/my-envs/llm-distillation/lib/python3.9/site-packages/torch/distributed/run.py\", line 785, in run\n",
      "    elastic_launch(\n",
      "  File \"/home/thsch026/my-envs/llm-distillation/lib/python3.9/site-packages/torch/distributed/launcher/api.py\", line 134, in __call__\n",
      "    return launch_agent(self._config, self._entrypoint, list(args))\n",
      "  File \"/home/thsch026/my-envs/llm-distillation/lib/python3.9/site-packages/torch/distributed/launcher/api.py\", line 241, in launch_agent\n",
      "    result = agent.run()\n",
      "  File \"/home/thsch026/my-envs/llm-distillation/lib/python3.9/site-packages/torch/distributed/elastic/metrics/api.py\", line 129, in wrapper\n",
      "    result = f(*args, **kwargs)\n",
      "  File \"/home/thsch026/my-envs/llm-distillation/lib/python3.9/site-packages/torch/distributed/elastic/agent/server/api.py\", line 723, in run\n",
      "    result = self._invoke_run(role)\n",
      "  File \"/home/thsch026/my-envs/llm-distillation/lib/python3.9/site-packages/torch/distributed/elastic/agent/server/api.py\", line 858, in _invoke_run\n",
      "    self._initialize_workers(self._worker_group)\n",
      "  File \"/home/thsch026/my-envs/llm-distillation/lib/python3.9/site-packages/torch/distributed/elastic/metrics/api.py\", line 129, in wrapper\n",
      "    result = f(*args, **kwargs)\n",
      "  File \"/home/thsch026/my-envs/llm-distillation/lib/python3.9/site-packages/torch/distributed/elastic/agent/server/api.py\", line 692, in _initialize_workers\n",
      "    self._rendezvous(worker_group)\n",
      "  File \"/home/thsch026/my-envs/llm-distillation/lib/python3.9/site-packages/torch/distributed/elastic/metrics/api.py\", line 129, in wrapper\n",
      "    result = f(*args, **kwargs)\n",
      "  File \"/home/thsch026/my-envs/llm-distillation/lib/python3.9/site-packages/torch/distributed/elastic/agent/server/api.py\", line 546, in _rendezvous\n",
      "    store, group_rank, group_world_size = spec.rdzv_handler.next_rendezvous()\n",
      "  File \"/home/thsch026/my-envs/llm-distillation/lib/python3.9/site-packages/torch/distributed/elastic/rendezvous/static_tcp_rendezvous.py\", line 55, in next_rendezvous\n",
      "    self._store = TCPStore(  # type: ignore[call-arg]\n",
      "RuntimeError: The server socket has failed to listen on any local network address. The server socket has failed to bind to [::]:29500 (errno: 98 - Address already in use). The server socket has failed to bind to 0.0.0.0:29500 (errno: 98 - Address already in use).\n",
      "(/home/thsch026/my-envs/llm-distillation) \n"
     ]
    },
    {
     "ename": "",
     "evalue": "1",
     "output_type": "error",
     "traceback": []
    }
   ],
   "source": [
    "cd /home/thsch026/\n",
    "export SAVEDIR=\"/home/thsch026/masterarbeit/models/generated/dist/Mistral_dist_pythia-410_deduped\"\n",
    "\n",
    "torchrun llm-recipes/finetuning.py \\\n",
    "--model_name EleutherAI/pythia-410m-deduped \\\n",
    "--enable_fsdp \\\n",
    "--run_validation False \\\n",
    "--dataset.file llm-distillation/datasets/loader/squad.py \\\n",
    "--lr 1e-6 \\\n",
    "--num_epochs 1 \\\n",
    "--batch_size_training 4 \\\n",
    "--val_batch_size 4 \\\n",
    "--output_dir $SAVEDIR \\\n",
    "--save_step 1000 \\\n",
    "--distillation \\\n",
    "--distillation_config.model_name mistralai/Mistral-7B-Instruct-v0.2 \\\n",
    "--distillation_config.enable_fsdp \\\n",
    "--distillation_config.distil_factor 1.5"
   ]
  },
  {
   "cell_type": "code",
   "execution_count": null,
   "id": "b3b42374-64b9-4d3b-bdd0-bc3b223093dd",
   "metadata": {},
   "outputs": [],
   "source": []
  }
 ],
 "metadata": {
  "kernelspec": {
   "display_name": "Bash",
   "language": "bash",
   "name": "bash"
  },
  "language_info": {
   "codemirror_mode": "shell",
   "file_extension": ".sh",
   "mimetype": "text/x-sh",
   "name": "bash"
  }
 },
 "nbformat": 4,
 "nbformat_minor": 5
}
