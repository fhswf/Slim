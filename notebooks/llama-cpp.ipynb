{
 "cells": [
  {
   "cell_type": "markdown",
   "id": "fe0646c8-4f31-4dfd-a7e9-5fb06ceba73c",
   "metadata": {},
   "source": [
    "# LLama.cpp\n",
    "- Source: https://github.com/ggerganov/llama.cpp"
   ]
  },
  {
   "cell_type": "markdown",
   "id": "c1ed5d18-e245-4182-b3ef-beed4bdd62b9",
   "metadata": {},
   "source": [
    "### Setup environemnt"
   ]
  },
  {
   "cell_type": "code",
   "execution_count": null,
   "id": "94758d0c-a0e8-4a1c-9f88-005b55669a82",
   "metadata": {},
   "outputs": [],
   "source": [
    "conda create --name lcpp python==3.10\n",
    "conda activate lcpp "
   ]
  },
  {
   "cell_type": "code",
   "execution_count": null,
   "id": "cd44b7bb-0d11-479d-b020-0927b79a495d",
   "metadata": {},
   "outputs": [],
   "source": [
    "pip install pyvim torch==2.0.1 numpy sentencepiece PyYAML transformers"
   ]
  },
  {
   "cell_type": "markdown",
   "id": "6acdad59-2c47-4809-baf1-cc1fb2d96df8",
   "metadata": {},
   "source": [
    "### Activate environment and install llama.cpp"
   ]
  },
  {
   "cell_type": "code",
   "execution_count": null,
   "id": "be8c3ea3-6b75-4425-ae45-d7359b6c3271",
   "metadata": {},
   "outputs": [],
   "source": [
    "conda activate lcpp"
   ]
  },
  {
   "cell_type": "code",
   "execution_count": null,
   "id": "eb325b91-0037-43bb-9444-b43783aaedd7",
   "metadata": {},
   "outputs": [],
   "source": [
    "exp\n",
    "git clone https://github.com/ggerganov/llama.cpp"
   ]
  },
  {
   "cell_type": "markdown",
   "id": "13761a3c-803b-4553-8e91-ea40ef679eb8",
   "metadata": {},
   "source": [
    "### Compile llama.cpp (Here with GPU)"
   ]
  },
  {
   "cell_type": "code",
   "execution_count": null,
   "id": "8d46e9e0-6540-41be-8b1e-d05e9ab22069",
   "metadata": {},
   "outputs": [],
   "source": [
    "# Change Directory\n",
    "cd llama.cpp\n",
    "make GGML_CUDA=1"
   ]
  },
  {
   "cell_type": "markdown",
   "id": "f7ba8721-3a48-4289-8e29-b1b39b1d1591",
   "metadata": {},
   "source": [
    "### Convert existing model to GGML"
   ]
  },
  {
   "cell_type": "code",
   "execution_count": null,
   "id": "57cf4103-5935-4b74-8336-c15197e5ce1b",
   "metadata": {},
   "outputs": [],
   "source": []
  }
 ],
 "metadata": {
  "kernelspec": {
   "display_name": "Bash",
   "language": "bash",
   "name": "bash"
  },
  "language_info": {
   "codemirror_mode": "shell",
   "file_extension": ".sh",
   "mimetype": "text/x-sh",
   "name": "bash"
  }
 },
 "nbformat": 4,
 "nbformat_minor": 5
}
