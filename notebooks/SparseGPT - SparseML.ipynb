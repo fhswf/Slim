{
 "cells": [
  {
   "cell_type": "markdown",
   "id": "6fa294b6-a72b-40c5-af3a-2cd524f6aac4",
   "metadata": {},
   "source": [
    "# SparseGPT"
   ]
  },
  {
   "cell_type": "markdown",
   "id": "a688ca9b-077d-4134-afa2-71193838ba2d",
   "metadata": {},
   "source": [
    "### Download Sources"
   ]
  },
  {
   "cell_type": "code",
   "execution_count": null,
   "id": "bbae6cb5-0c8c-4b4d-8f99-7e6618c3aa7f",
   "metadata": {},
   "outputs": [],
   "source": [
    "### Installation of SparseML"
   ]
  },
  {
   "cell_type": "code",
   "execution_count": null,
   "id": "f3bdf832-fe18-481e-861c-1dc8c88c83c3",
   "metadata": {
    "tags": []
   },
   "outputs": [],
   "source": [
    "!pip install \"sparseml[transformers]\""
   ]
  },
  {
   "cell_type": "code",
   "execution_count": 1,
   "id": "1b7132d4-3b6b-4430-a5b2-a4b29ee6e646",
   "metadata": {
    "tags": []
   },
   "outputs": [
    {
     "name": "stderr",
     "output_type": "stream",
     "text": [
      "2024-05-06 10:43:10.251271: I tensorflow/core/platform/cpu_feature_guard.cc:193] This TensorFlow binary is optimized with oneAPI Deep Neural Network Library (oneDNN) to use the following CPU instructions in performance-critical operations:  AVX2 FMA\n",
      "To enable them in other operations, rebuild TensorFlow with the appropriate compiler flags.\n"
     ]
    }
   ],
   "source": [
    "import torch\n",
    "import sparseml\n",
    "import torchvision\n",
    "from sparseml.pytorch.optim import ScheduledModifierManager\n",
    "from sparseml.pytorch.utils import TensorBoardLogger, ModuleExporter, get_prunable_layers, tensor_sparsity\n",
    "from torch.utils.data import DataLoader\n",
    "from torch.nn import CrossEntropyLoss\n",
    "from torch.optim import Adam\n",
    "from torchvision import transforms\n",
    "from tqdm.auto import tqdm\n",
    "import math\n",
    "import datasets"
   ]
  },
  {
   "cell_type": "code",
   "execution_count": null,
   "id": "e9a878f3-b833-4154-8b5f-6cb193fb5bbf",
   "metadata": {
    "tags": []
   },
   "outputs": [],
   "source": [
    "!git clone https://github.com/neuralmagic/sparseml\n",
    "!pip install pydantic==2.0\n",
    "!pip install huggingface-hub==0.19.3\n",
    "!pip install sparseml[transformers]==1.7.0"
   ]
  },
  {
   "cell_type": "code",
   "execution_count": 3,
   "id": "5bc74205-3ffb-461c-add3-222c8b66f2cf",
   "metadata": {
    "tags": []
   },
   "outputs": [
    {
     "name": "stdout",
     "output_type": "stream",
     "text": [
      "--2024-05-06 10:43:47--  https://huggingface.co/nm-testing/TinyLlama-1.1B-Chat-v0.4-pruned50-quant/raw/main/recipe.yaml\n",
      "Resolving huggingface.co (huggingface.co)... 3.160.150.7, 3.160.150.50, 3.160.150.2, ...\n",
      "Connecting to huggingface.co (huggingface.co)|3.160.150.7|:443... connected.\n",
      "HTTP request sent, awaiting response... 307 Temporary Redirect\n",
      "Location: /neuralmagic/TinyLlama-1.1B-Chat-v0.4-pruned50-quant-ds/raw/main/recipe.yaml [following]\n",
      "--2024-05-06 10:43:47--  https://huggingface.co/neuralmagic/TinyLlama-1.1B-Chat-v0.4-pruned50-quant-ds/raw/main/recipe.yaml\n",
      "Reusing existing connection to huggingface.co:443.\n",
      "HTTP request sent, awaiting response... 200 OK\n",
      "Length: 1502 (1.5K) [text/plain]\n",
      "Saving to: ‘recipe.yaml.1’\n",
      "\n",
      "recipe.yaml.1       100%[===================>]   1.47K  --.-KB/s    in 0s      \n",
      "\n",
      "2024-05-06 10:43:47 (515 MB/s) - ‘recipe.yaml.1’ saved [1502/1502]\n",
      "\n"
     ]
    }
   ],
   "source": [
    "!wget https://huggingface.co/nm-testing/TinyLlama-1.1B-Chat-v0.4-pruned50-quant/raw/main/recipe.yaml"
   ]
  },
  {
   "cell_type": "code",
   "execution_count": null,
   "id": "c593a9b4-31b6-4138-af87-e53248ff4f28",
   "metadata": {
    "tags": []
   },
   "outputs": [],
   "source": [
    "!sparseml.transformers.text_generation.oneshot --model_name TinyLlama/TinyLlama-1.1B-Chat-v1.0 --dataset_name open_platypus --recipe recipe.yaml --output_dir ./obcq_deployment --precision float16\n"
   ]
  },
  {
   "cell_type": "code",
   "execution_count": null,
   "id": "d173959b-2c7f-4305-aa90-184875592ba3",
   "metadata": {
    "tags": []
   },
   "outputs": [],
   "source": [
    "# Prüfen des aktuellen Pfads\n",
    "import os\n",
    "print(os.getcwd())"
   ]
  },
  {
   "cell_type": "code",
   "execution_count": 10,
   "id": "741e19d5-ad22-47c1-b33c-ca80043f8fde",
   "metadata": {
    "tags": []
   },
   "outputs": [
    {
     "ename": "SyntaxError",
     "evalue": "invalid syntax (2793298227.py, line 2)",
     "output_type": "error",
     "traceback": [
      "\u001b[0;36m  Cell \u001b[0;32mIn[10], line 2\u001b[0;36m\u001b[0m\n\u001b[0;31m    --block_attention_layer_start 4 --block_attention_layer_end 30 /\u001b[0m\n\u001b[0m                                  ^\u001b[0m\n\u001b[0;31mSyntaxError\u001b[0m\u001b[0;31m:\u001b[0m invalid syntax\n"
     ]
    }
   ],
   "source": []
  }
 ],
 "metadata": {
  "kernelspec": {
   "display_name": "Python 3 (ipykernel)",
   "language": "python",
   "name": "python3"
  },
  "language_info": {
   "codemirror_mode": {
    "name": "ipython",
    "version": 3
   },
   "file_extension": ".py",
   "mimetype": "text/x-python",
   "name": "python",
   "nbconvert_exporter": "python",
   "pygments_lexer": "ipython3",
   "version": "3.10.11"
  }
 },
 "nbformat": 4,
 "nbformat_minor": 5
}
